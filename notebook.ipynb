{
 "metadata": {
  "language_info": {
   "codemirror_mode": {
    "name": "ipython",
    "version": 3
   },
   "file_extension": ".py",
   "mimetype": "text/x-python",
   "name": "python",
   "nbconvert_exporter": "python",
   "pygments_lexer": "ipython3",
   "version": "3.7.3-final"
  },
  "orig_nbformat": 2,
  "kernelspec": {
   "name": "Python 3.7.3 64-bit ('anaconda3': virtualenv)",
   "display_name": "Python 3.7.3 64-bit ('anaconda3': virtualenv)",
   "metadata": {
    "interpreter": {
     "hash": "c5283485171353b33e83f768ee00557580810576a115e80e4a3265b6769250f1"
    }
   }
  }
 },
 "nbformat": 4,
 "nbformat_minor": 2,
 "cells": [
  {
   "cell_type": "code",
   "execution_count": 12,
   "metadata": {},
   "outputs": [],
   "source": [
    "import pandas as pd\n",
    "import numpy as np\n",
    "import requests\n",
    "import json\n",
    "import pickle\n",
    "from lightfm import LightFM\n",
    "from lightfm.evaluation import precision_at_k\n",
    "import scipy\n",
    "from flaskapp.models import Business\n",
    "from flaskapp import db\n",
    "from flaskapp.recommender import make_input, predict"
   ]
  },
  {
   "cell_type": "code",
   "execution_count": 13,
   "metadata": {},
   "outputs": [],
   "source": [
    "restaurant_names = ['112 Eatery', '1st Wok', \"50's Grill\"]\n",
    "user_ratings = [5.0, 5.0, 5.0]\n",
    "rating_vector = make_input(restaurant_names, user_ratings)"
   ]
  },
  {
   "cell_type": "code",
   "execution_count": 15,
   "metadata": {},
   "outputs": [],
   "source": [
    "prediction = predict(rating_vector)\n",
    "sorted_indices = np.argsort(prediction)"
   ]
  },
  {
   "cell_type": "code",
   "execution_count": 16,
   "metadata": {},
   "outputs": [],
   "source": []
  },
  {
   "cell_type": "code",
   "execution_count": 17,
   "metadata": {},
   "outputs": [
    {
     "output_type": "execute_result",
     "data": {
      "text/plain": [
       "array([691, 214, 608, 670, 129, 375, 588, 461, 807, 244, 271, 605, 561,\n",
       "       633, 750, 121,  51,  20, 465, 512])"
      ]
     },
     "metadata": {},
     "execution_count": 17
    }
   ],
   "source": [
    "sorted_indices[:20]"
   ]
  },
  {
   "cell_type": "code",
   "execution_count": 5,
   "metadata": {},
   "outputs": [],
   "source": [
    "names = pd.read_csv('data/names.csv')\n",
    "for i in range(len(names)):\n",
    "    name, category, coord = names.iloc[i, :]\n",
    "    business = Business(name=name, coordinates=coord, categories=category)\n",
    "    db.session.add(business)\n",
    "db.session.commit()"
   ]
  },
  {
   "cell_type": "code",
   "execution_count": 6,
   "metadata": {},
   "outputs": [],
   "source": []
  },
  {
   "cell_type": "code",
   "execution_count": 6,
   "metadata": {},
   "outputs": [
    {
     "output_type": "execute_result",
     "data": {
      "text/plain": [
       "   Unnamed: 0 address                                         categories  \\\n",
       "0          50     NaN       [{'alias': 'japanese', 'title': 'Japanese'}]   \n",
       "1          51     NaN           [{'alias': 'korean', 'title': 'Korean'}]   \n",
       "2          52     NaN  [{'alias': 'mediterranean', 'title': 'Mediterr...   \n",
       "3          53     NaN  [{'alias': 'newamerican', 'title': 'American (...   \n",
       "4          54     NaN           [{'alias': 'korean', 'title': 'Korean'}]   \n",
       "\n",
       "                                         coordinates                   name  \\\n",
       "0  {'latitude': 44.921699931935, 'longitude': -93...            Okome House   \n",
       "1  {'latitude': 44.9819673599659, 'longitude': -9...     Kbop Korean Bistro   \n",
       "2   {'latitude': 45.012975, 'longitude': -93.263755}           Olive & Lamb   \n",
       "3  {'latitude': 44.9835380660176, 'longitude': -9...  Red Cow - Minneapolis   \n",
       "4     {'latitude': 44.97916, 'longitude': -93.23471}            Korean Bowl   \n",
       "\n",
       "            phone price  query_offset  rating           restaurant_id  \\\n",
       "0             NaN   NaN             1     5.0  6qn4Nt4frApZ2vn2rQerKg   \n",
       "1  (612) 331-4993     $             1     4.5  vi58lz0GLWITkg_r0WieNg   \n",
       "2             NaN    $$             1     4.5  07VKEPjS7Juf2IB4jVa-wA   \n",
       "3  (612) 238-0050    $$             1     4.5  MDPv2B2jwA1qLvQCXlEVww   \n",
       "4  (612) 605-8960   NaN             1     5.0  VaEY4xoDh1Y5bvmvBb5Bug   \n",
       "\n",
       "             transactions                                                url  \\\n",
       "0                      []  https://www.yelp.com/biz/okome-house-minneapol...   \n",
       "1  ['pickup', 'delivery']  https://www.yelp.com/biz/kbop-korean-bistro-mi...   \n",
       "2            ['delivery']  https://www.yelp.com/biz/olive-and-lamb-minnea...   \n",
       "3            ['delivery']  https://www.yelp.com/biz/red-cow-minneapolis-m...   \n",
       "4  ['pickup', 'delivery']  https://www.yelp.com/biz/korean-bowl-minneapol...   \n",
       "\n",
       "   zip_code  \n",
       "0   55406.0  \n",
       "1   55414.0  \n",
       "2   55418.0  \n",
       "3   55401.0  \n",
       "4   55414.0  "
      ],
      "text/html": "<div>\n<style scoped>\n    .dataframe tbody tr th:only-of-type {\n        vertical-align: middle;\n    }\n\n    .dataframe tbody tr th {\n        vertical-align: top;\n    }\n\n    .dataframe thead th {\n        text-align: right;\n    }\n</style>\n<table border=\"1\" class=\"dataframe\">\n  <thead>\n    <tr style=\"text-align: right;\">\n      <th></th>\n      <th>Unnamed: 0</th>\n      <th>address</th>\n      <th>categories</th>\n      <th>coordinates</th>\n      <th>name</th>\n      <th>phone</th>\n      <th>price</th>\n      <th>query_offset</th>\n      <th>rating</th>\n      <th>restaurant_id</th>\n      <th>transactions</th>\n      <th>url</th>\n      <th>zip_code</th>\n    </tr>\n  </thead>\n  <tbody>\n    <tr>\n      <th>0</th>\n      <td>50</td>\n      <td>NaN</td>\n      <td>[{'alias': 'japanese', 'title': 'Japanese'}]</td>\n      <td>{'latitude': 44.921699931935, 'longitude': -93...</td>\n      <td>Okome House</td>\n      <td>NaN</td>\n      <td>NaN</td>\n      <td>1</td>\n      <td>5.0</td>\n      <td>6qn4Nt4frApZ2vn2rQerKg</td>\n      <td>[]</td>\n      <td>https://www.yelp.com/biz/okome-house-minneapol...</td>\n      <td>55406.0</td>\n    </tr>\n    <tr>\n      <th>1</th>\n      <td>51</td>\n      <td>NaN</td>\n      <td>[{'alias': 'korean', 'title': 'Korean'}]</td>\n      <td>{'latitude': 44.9819673599659, 'longitude': -9...</td>\n      <td>Kbop Korean Bistro</td>\n      <td>(612) 331-4993</td>\n      <td>$</td>\n      <td>1</td>\n      <td>4.5</td>\n      <td>vi58lz0GLWITkg_r0WieNg</td>\n      <td>['pickup', 'delivery']</td>\n      <td>https://www.yelp.com/biz/kbop-korean-bistro-mi...</td>\n      <td>55414.0</td>\n    </tr>\n    <tr>\n      <th>2</th>\n      <td>52</td>\n      <td>NaN</td>\n      <td>[{'alias': 'mediterranean', 'title': 'Mediterr...</td>\n      <td>{'latitude': 45.012975, 'longitude': -93.263755}</td>\n      <td>Olive &amp; Lamb</td>\n      <td>NaN</td>\n      <td>$$</td>\n      <td>1</td>\n      <td>4.5</td>\n      <td>07VKEPjS7Juf2IB4jVa-wA</td>\n      <td>['delivery']</td>\n      <td>https://www.yelp.com/biz/olive-and-lamb-minnea...</td>\n      <td>55418.0</td>\n    </tr>\n    <tr>\n      <th>3</th>\n      <td>53</td>\n      <td>NaN</td>\n      <td>[{'alias': 'newamerican', 'title': 'American (...</td>\n      <td>{'latitude': 44.9835380660176, 'longitude': -9...</td>\n      <td>Red Cow - Minneapolis</td>\n      <td>(612) 238-0050</td>\n      <td>$$</td>\n      <td>1</td>\n      <td>4.5</td>\n      <td>MDPv2B2jwA1qLvQCXlEVww</td>\n      <td>['delivery']</td>\n      <td>https://www.yelp.com/biz/red-cow-minneapolis-m...</td>\n      <td>55401.0</td>\n    </tr>\n    <tr>\n      <th>4</th>\n      <td>54</td>\n      <td>NaN</td>\n      <td>[{'alias': 'korean', 'title': 'Korean'}]</td>\n      <td>{'latitude': 44.97916, 'longitude': -93.23471}</td>\n      <td>Korean Bowl</td>\n      <td>(612) 605-8960</td>\n      <td>NaN</td>\n      <td>1</td>\n      <td>5.0</td>\n      <td>VaEY4xoDh1Y5bvmvBb5Bug</td>\n      <td>['pickup', 'delivery']</td>\n      <td>https://www.yelp.com/biz/korean-bowl-minneapol...</td>\n      <td>55414.0</td>\n    </tr>\n  </tbody>\n</table>\n</div>"
     },
     "metadata": {},
     "execution_count": 6
    }
   ],
   "source": [
    "df = pd.read_csv('data/business_data.csv')\n",
    "df.head()"
   ]
  },
  {
   "cell_type": "code",
   "execution_count": 42,
   "metadata": {},
   "outputs": [],
   "source": [
    "df.drop_duplicates(subset='name', keep='first', inplace=True)"
   ]
  },
  {
   "cell_type": "code",
   "execution_count": 45,
   "metadata": {},
   "outputs": [
    {
     "output_type": "execute_result",
     "data": {
      "text/plain": [
       "                                          categories  \\\n",
       "0       [{'alias': 'japanese', 'title': 'Japanese'}]   \n",
       "1           [{'alias': 'korean', 'title': 'Korean'}]   \n",
       "2  [{'alias': 'mediterranean', 'title': 'Mediterr...   \n",
       "3  [{'alias': 'newamerican', 'title': 'American (...   \n",
       "4           [{'alias': 'korean', 'title': 'Korean'}]   \n",
       "\n",
       "                                         coordinates                   name  \\\n",
       "0  {'latitude': 44.921699931935, 'longitude': -93...            Okome House   \n",
       "1  {'latitude': 44.9819673599659, 'longitude': -9...     Kbop Korean Bistro   \n",
       "2   {'latitude': 45.012975, 'longitude': -93.263755}           Olive & Lamb   \n",
       "3  {'latitude': 44.9835380660176, 'longitude': -9...  Red Cow - Minneapolis   \n",
       "4     {'latitude': 44.97916, 'longitude': -93.23471}            Korean Bowl   \n",
       "\n",
       "            phone price  query_offset  rating           restaurant_id  \\\n",
       "0             NaN   NaN             1     5.0  6qn4Nt4frApZ2vn2rQerKg   \n",
       "1  (612) 331-4993     $             1     4.5  vi58lz0GLWITkg_r0WieNg   \n",
       "2             NaN    $$             1     4.5  07VKEPjS7Juf2IB4jVa-wA   \n",
       "3  (612) 238-0050    $$             1     4.5  MDPv2B2jwA1qLvQCXlEVww   \n",
       "4  (612) 605-8960   NaN             1     5.0  VaEY4xoDh1Y5bvmvBb5Bug   \n",
       "\n",
       "             transactions                                                url  \\\n",
       "0                      []  https://www.yelp.com/biz/okome-house-minneapol...   \n",
       "1  ['pickup', 'delivery']  https://www.yelp.com/biz/kbop-korean-bistro-mi...   \n",
       "2            ['delivery']  https://www.yelp.com/biz/olive-and-lamb-minnea...   \n",
       "3            ['delivery']  https://www.yelp.com/biz/red-cow-minneapolis-m...   \n",
       "4  ['pickup', 'delivery']  https://www.yelp.com/biz/korean-bowl-minneapol...   \n",
       "\n",
       "   zip_code  \n",
       "0   55406.0  \n",
       "1   55414.0  \n",
       "2   55418.0  \n",
       "3   55401.0  \n",
       "4   55414.0  "
      ],
      "text/html": "<div>\n<style scoped>\n    .dataframe tbody tr th:only-of-type {\n        vertical-align: middle;\n    }\n\n    .dataframe tbody tr th {\n        vertical-align: top;\n    }\n\n    .dataframe thead th {\n        text-align: right;\n    }\n</style>\n<table border=\"1\" class=\"dataframe\">\n  <thead>\n    <tr style=\"text-align: right;\">\n      <th></th>\n      <th>categories</th>\n      <th>coordinates</th>\n      <th>name</th>\n      <th>phone</th>\n      <th>price</th>\n      <th>query_offset</th>\n      <th>rating</th>\n      <th>restaurant_id</th>\n      <th>transactions</th>\n      <th>url</th>\n      <th>zip_code</th>\n    </tr>\n  </thead>\n  <tbody>\n    <tr>\n      <th>0</th>\n      <td>[{'alias': 'japanese', 'title': 'Japanese'}]</td>\n      <td>{'latitude': 44.921699931935, 'longitude': -93...</td>\n      <td>Okome House</td>\n      <td>NaN</td>\n      <td>NaN</td>\n      <td>1</td>\n      <td>5.0</td>\n      <td>6qn4Nt4frApZ2vn2rQerKg</td>\n      <td>[]</td>\n      <td>https://www.yelp.com/biz/okome-house-minneapol...</td>\n      <td>55406.0</td>\n    </tr>\n    <tr>\n      <th>1</th>\n      <td>[{'alias': 'korean', 'title': 'Korean'}]</td>\n      <td>{'latitude': 44.9819673599659, 'longitude': -9...</td>\n      <td>Kbop Korean Bistro</td>\n      <td>(612) 331-4993</td>\n      <td>$</td>\n      <td>1</td>\n      <td>4.5</td>\n      <td>vi58lz0GLWITkg_r0WieNg</td>\n      <td>['pickup', 'delivery']</td>\n      <td>https://www.yelp.com/biz/kbop-korean-bistro-mi...</td>\n      <td>55414.0</td>\n    </tr>\n    <tr>\n      <th>2</th>\n      <td>[{'alias': 'mediterranean', 'title': 'Mediterr...</td>\n      <td>{'latitude': 45.012975, 'longitude': -93.263755}</td>\n      <td>Olive &amp; Lamb</td>\n      <td>NaN</td>\n      <td>$$</td>\n      <td>1</td>\n      <td>4.5</td>\n      <td>07VKEPjS7Juf2IB4jVa-wA</td>\n      <td>['delivery']</td>\n      <td>https://www.yelp.com/biz/olive-and-lamb-minnea...</td>\n      <td>55418.0</td>\n    </tr>\n    <tr>\n      <th>3</th>\n      <td>[{'alias': 'newamerican', 'title': 'American (...</td>\n      <td>{'latitude': 44.9835380660176, 'longitude': -9...</td>\n      <td>Red Cow - Minneapolis</td>\n      <td>(612) 238-0050</td>\n      <td>$$</td>\n      <td>1</td>\n      <td>4.5</td>\n      <td>MDPv2B2jwA1qLvQCXlEVww</td>\n      <td>['delivery']</td>\n      <td>https://www.yelp.com/biz/red-cow-minneapolis-m...</td>\n      <td>55401.0</td>\n    </tr>\n    <tr>\n      <th>4</th>\n      <td>[{'alias': 'korean', 'title': 'Korean'}]</td>\n      <td>{'latitude': 44.97916, 'longitude': -93.23471}</td>\n      <td>Korean Bowl</td>\n      <td>(612) 605-8960</td>\n      <td>NaN</td>\n      <td>1</td>\n      <td>5.0</td>\n      <td>VaEY4xoDh1Y5bvmvBb5Bug</td>\n      <td>['pickup', 'delivery']</td>\n      <td>https://www.yelp.com/biz/korean-bowl-minneapol...</td>\n      <td>55414.0</td>\n    </tr>\n  </tbody>\n</table>\n</div>"
     },
     "metadata": {},
     "execution_count": 45
    }
   ],
   "source": []
  },
  {
   "cell_type": "code",
   "execution_count": 46,
   "metadata": {},
   "outputs": [],
   "source": [
    "names = df.loc[:, ['name', 'categories', 'coordinates']]\n",
    "names.to_csv('data/names.csv', index=False)\n"
   ]
  },
  {
   "cell_type": "code",
   "execution_count": 31,
   "metadata": {},
   "outputs": [],
   "source": []
  },
  {
   "cell_type": "code",
   "execution_count": 32,
   "metadata": {},
   "outputs": [
    {
     "output_type": "execute_result",
     "data": {
      "text/plain": [
       "                    name                                         categories  \\\n",
       "0            Okome House       [{'alias': 'japanese', 'title': 'Japanese'}]   \n",
       "1     Kbop Korean Bistro           [{'alias': 'korean', 'title': 'Korean'}]   \n",
       "2           Olive & Lamb  [{'alias': 'mediterranean', 'title': 'Mediterr...   \n",
       "3  Red Cow - Minneapolis  [{'alias': 'newamerican', 'title': 'American (...   \n",
       "4            Korean Bowl           [{'alias': 'korean', 'title': 'Korean'}]   \n",
       "\n",
       "                                         coordinates  \n",
       "0  {'latitude': 44.921699931935, 'longitude': -93...  \n",
       "1  {'latitude': 44.9819673599659, 'longitude': -9...  \n",
       "2   {'latitude': 45.012975, 'longitude': -93.263755}  \n",
       "3  {'latitude': 44.9835380660176, 'longitude': -9...  \n",
       "4     {'latitude': 44.97916, 'longitude': -93.23471}  "
      ],
      "text/html": "<div>\n<style scoped>\n    .dataframe tbody tr th:only-of-type {\n        vertical-align: middle;\n    }\n\n    .dataframe tbody tr th {\n        vertical-align: top;\n    }\n\n    .dataframe thead th {\n        text-align: right;\n    }\n</style>\n<table border=\"1\" class=\"dataframe\">\n  <thead>\n    <tr style=\"text-align: right;\">\n      <th></th>\n      <th>name</th>\n      <th>categories</th>\n      <th>coordinates</th>\n    </tr>\n  </thead>\n  <tbody>\n    <tr>\n      <th>0</th>\n      <td>Okome House</td>\n      <td>[{'alias': 'japanese', 'title': 'Japanese'}]</td>\n      <td>{'latitude': 44.921699931935, 'longitude': -93...</td>\n    </tr>\n    <tr>\n      <th>1</th>\n      <td>Kbop Korean Bistro</td>\n      <td>[{'alias': 'korean', 'title': 'Korean'}]</td>\n      <td>{'latitude': 44.9819673599659, 'longitude': -9...</td>\n    </tr>\n    <tr>\n      <th>2</th>\n      <td>Olive &amp; Lamb</td>\n      <td>[{'alias': 'mediterranean', 'title': 'Mediterr...</td>\n      <td>{'latitude': 45.012975, 'longitude': -93.263755}</td>\n    </tr>\n    <tr>\n      <th>3</th>\n      <td>Red Cow - Minneapolis</td>\n      <td>[{'alias': 'newamerican', 'title': 'American (...</td>\n      <td>{'latitude': 44.9835380660176, 'longitude': -9...</td>\n    </tr>\n    <tr>\n      <th>4</th>\n      <td>Korean Bowl</td>\n      <td>[{'alias': 'korean', 'title': 'Korean'}]</td>\n      <td>{'latitude': 44.97916, 'longitude': -93.23471}</td>\n    </tr>\n  </tbody>\n</table>\n</div>"
     },
     "metadata": {},
     "execution_count": 32
    }
   ],
   "source": []
  },
  {
   "cell_type": "code",
   "execution_count": 15,
   "metadata": {},
   "outputs": [
    {
     "output_type": "error",
     "ename": "JSONDecodeError",
     "evalue": "Expecting property name enclosed in double quotes: line 1 column 2 (char 1)",
     "traceback": [
      "\u001b[0;31m---------------------------------------------------------------------------\u001b[0m",
      "\u001b[0;31mJSONDecodeError\u001b[0m                           Traceback (most recent call last)",
      "\u001b[0;32m<ipython-input-15-d1e81048509d>\u001b[0m in \u001b[0;36m<module>\u001b[0;34m\u001b[0m\n\u001b[0;32m----> 1\u001b[0;31m \u001b[0mdf\u001b[0m\u001b[0;34m[\u001b[0m\u001b[0;34m'coordinates'\u001b[0m\u001b[0;34m]\u001b[0m\u001b[0;34m.\u001b[0m\u001b[0mapply\u001b[0m\u001b[0;34m(\u001b[0m\u001b[0;32mlambda\u001b[0m \u001b[0mx\u001b[0m\u001b[0;34m:\u001b[0m \u001b[0;34m(\u001b[0m\u001b[0mjson\u001b[0m\u001b[0;34m.\u001b[0m\u001b[0mloads\u001b[0m\u001b[0;34m(\u001b[0m\u001b[0mx\u001b[0m\u001b[0;34m)\u001b[0m\u001b[0;34m[\u001b[0m\u001b[0;34m'latitude'\u001b[0m\u001b[0;34m]\u001b[0m\u001b[0;34m,\u001b[0m \u001b[0mjson\u001b[0m\u001b[0;34m.\u001b[0m\u001b[0mloads\u001b[0m\u001b[0;34m(\u001b[0m\u001b[0mx\u001b[0m\u001b[0;34m)\u001b[0m\u001b[0;34m[\u001b[0m\u001b[0;34m'longitude'\u001b[0m\u001b[0;34m]\u001b[0m\u001b[0;34m)\u001b[0m\u001b[0;34m)\u001b[0m\u001b[0;34m\u001b[0m\u001b[0;34m\u001b[0m\u001b[0m\n\u001b[0m",
      "\u001b[0;32m~/anaconda3/lib/python3.7/site-packages/pandas/core/series.py\u001b[0m in \u001b[0;36mapply\u001b[0;34m(self, func, convert_dtype, args, **kwds)\u001b[0m\n\u001b[1;32m   3589\u001b[0m             \u001b[0;32melse\u001b[0m\u001b[0;34m:\u001b[0m\u001b[0;34m\u001b[0m\u001b[0;34m\u001b[0m\u001b[0m\n\u001b[1;32m   3590\u001b[0m                 \u001b[0mvalues\u001b[0m \u001b[0;34m=\u001b[0m \u001b[0mself\u001b[0m\u001b[0;34m.\u001b[0m\u001b[0mastype\u001b[0m\u001b[0;34m(\u001b[0m\u001b[0mobject\u001b[0m\u001b[0;34m)\u001b[0m\u001b[0;34m.\u001b[0m\u001b[0mvalues\u001b[0m\u001b[0;34m\u001b[0m\u001b[0;34m\u001b[0m\u001b[0m\n\u001b[0;32m-> 3591\u001b[0;31m                 \u001b[0mmapped\u001b[0m \u001b[0;34m=\u001b[0m \u001b[0mlib\u001b[0m\u001b[0;34m.\u001b[0m\u001b[0mmap_infer\u001b[0m\u001b[0;34m(\u001b[0m\u001b[0mvalues\u001b[0m\u001b[0;34m,\u001b[0m \u001b[0mf\u001b[0m\u001b[0;34m,\u001b[0m \u001b[0mconvert\u001b[0m\u001b[0;34m=\u001b[0m\u001b[0mconvert_dtype\u001b[0m\u001b[0;34m)\u001b[0m\u001b[0;34m\u001b[0m\u001b[0;34m\u001b[0m\u001b[0m\n\u001b[0m\u001b[1;32m   3592\u001b[0m \u001b[0;34m\u001b[0m\u001b[0m\n\u001b[1;32m   3593\u001b[0m         \u001b[0;32mif\u001b[0m \u001b[0mlen\u001b[0m\u001b[0;34m(\u001b[0m\u001b[0mmapped\u001b[0m\u001b[0;34m)\u001b[0m \u001b[0;32mand\u001b[0m \u001b[0misinstance\u001b[0m\u001b[0;34m(\u001b[0m\u001b[0mmapped\u001b[0m\u001b[0;34m[\u001b[0m\u001b[0;36m0\u001b[0m\u001b[0;34m]\u001b[0m\u001b[0;34m,\u001b[0m \u001b[0mSeries\u001b[0m\u001b[0;34m)\u001b[0m\u001b[0;34m:\u001b[0m\u001b[0;34m\u001b[0m\u001b[0;34m\u001b[0m\u001b[0m\n",
      "\u001b[0;32mpandas/_libs/lib.pyx\u001b[0m in \u001b[0;36mpandas._libs.lib.map_infer\u001b[0;34m()\u001b[0m\n",
      "\u001b[0;32m<ipython-input-15-d1e81048509d>\u001b[0m in \u001b[0;36m<lambda>\u001b[0;34m(x)\u001b[0m\n\u001b[0;32m----> 1\u001b[0;31m \u001b[0mdf\u001b[0m\u001b[0;34m[\u001b[0m\u001b[0;34m'coordinates'\u001b[0m\u001b[0;34m]\u001b[0m\u001b[0;34m.\u001b[0m\u001b[0mapply\u001b[0m\u001b[0;34m(\u001b[0m\u001b[0;32mlambda\u001b[0m \u001b[0mx\u001b[0m\u001b[0;34m:\u001b[0m \u001b[0;34m(\u001b[0m\u001b[0mjson\u001b[0m\u001b[0;34m.\u001b[0m\u001b[0mloads\u001b[0m\u001b[0;34m(\u001b[0m\u001b[0mx\u001b[0m\u001b[0;34m)\u001b[0m\u001b[0;34m[\u001b[0m\u001b[0;34m'latitude'\u001b[0m\u001b[0;34m]\u001b[0m\u001b[0;34m,\u001b[0m \u001b[0mjson\u001b[0m\u001b[0;34m.\u001b[0m\u001b[0mloads\u001b[0m\u001b[0;34m(\u001b[0m\u001b[0mx\u001b[0m\u001b[0;34m)\u001b[0m\u001b[0;34m[\u001b[0m\u001b[0;34m'longitude'\u001b[0m\u001b[0;34m]\u001b[0m\u001b[0;34m)\u001b[0m\u001b[0;34m)\u001b[0m\u001b[0;34m\u001b[0m\u001b[0;34m\u001b[0m\u001b[0m\n\u001b[0m",
      "\u001b[0;32m~/anaconda3/lib/python3.7/json/__init__.py\u001b[0m in \u001b[0;36mloads\u001b[0;34m(s, encoding, cls, object_hook, parse_float, parse_int, parse_constant, object_pairs_hook, **kw)\u001b[0m\n\u001b[1;32m    346\u001b[0m             \u001b[0mparse_int\u001b[0m \u001b[0;32mis\u001b[0m \u001b[0;32mNone\u001b[0m \u001b[0;32mand\u001b[0m \u001b[0mparse_float\u001b[0m \u001b[0;32mis\u001b[0m \u001b[0;32mNone\u001b[0m \u001b[0;32mand\u001b[0m\u001b[0;34m\u001b[0m\u001b[0;34m\u001b[0m\u001b[0m\n\u001b[1;32m    347\u001b[0m             parse_constant is None and object_pairs_hook is None and not kw):\n\u001b[0;32m--> 348\u001b[0;31m         \u001b[0;32mreturn\u001b[0m \u001b[0m_default_decoder\u001b[0m\u001b[0;34m.\u001b[0m\u001b[0mdecode\u001b[0m\u001b[0;34m(\u001b[0m\u001b[0ms\u001b[0m\u001b[0;34m)\u001b[0m\u001b[0;34m\u001b[0m\u001b[0;34m\u001b[0m\u001b[0m\n\u001b[0m\u001b[1;32m    349\u001b[0m     \u001b[0;32mif\u001b[0m \u001b[0mcls\u001b[0m \u001b[0;32mis\u001b[0m \u001b[0;32mNone\u001b[0m\u001b[0;34m:\u001b[0m\u001b[0;34m\u001b[0m\u001b[0;34m\u001b[0m\u001b[0m\n\u001b[1;32m    350\u001b[0m         \u001b[0mcls\u001b[0m \u001b[0;34m=\u001b[0m \u001b[0mJSONDecoder\u001b[0m\u001b[0;34m\u001b[0m\u001b[0;34m\u001b[0m\u001b[0m\n",
      "\u001b[0;32m~/anaconda3/lib/python3.7/json/decoder.py\u001b[0m in \u001b[0;36mdecode\u001b[0;34m(self, s, _w)\u001b[0m\n\u001b[1;32m    335\u001b[0m \u001b[0;34m\u001b[0m\u001b[0m\n\u001b[1;32m    336\u001b[0m         \"\"\"\n\u001b[0;32m--> 337\u001b[0;31m         \u001b[0mobj\u001b[0m\u001b[0;34m,\u001b[0m \u001b[0mend\u001b[0m \u001b[0;34m=\u001b[0m \u001b[0mself\u001b[0m\u001b[0;34m.\u001b[0m\u001b[0mraw_decode\u001b[0m\u001b[0;34m(\u001b[0m\u001b[0ms\u001b[0m\u001b[0;34m,\u001b[0m \u001b[0midx\u001b[0m\u001b[0;34m=\u001b[0m\u001b[0m_w\u001b[0m\u001b[0;34m(\u001b[0m\u001b[0ms\u001b[0m\u001b[0;34m,\u001b[0m \u001b[0;36m0\u001b[0m\u001b[0;34m)\u001b[0m\u001b[0;34m.\u001b[0m\u001b[0mend\u001b[0m\u001b[0;34m(\u001b[0m\u001b[0;34m)\u001b[0m\u001b[0;34m)\u001b[0m\u001b[0;34m\u001b[0m\u001b[0;34m\u001b[0m\u001b[0m\n\u001b[0m\u001b[1;32m    338\u001b[0m         \u001b[0mend\u001b[0m \u001b[0;34m=\u001b[0m \u001b[0m_w\u001b[0m\u001b[0;34m(\u001b[0m\u001b[0ms\u001b[0m\u001b[0;34m,\u001b[0m \u001b[0mend\u001b[0m\u001b[0;34m)\u001b[0m\u001b[0;34m.\u001b[0m\u001b[0mend\u001b[0m\u001b[0;34m(\u001b[0m\u001b[0;34m)\u001b[0m\u001b[0;34m\u001b[0m\u001b[0;34m\u001b[0m\u001b[0m\n\u001b[1;32m    339\u001b[0m         \u001b[0;32mif\u001b[0m \u001b[0mend\u001b[0m \u001b[0;34m!=\u001b[0m \u001b[0mlen\u001b[0m\u001b[0;34m(\u001b[0m\u001b[0ms\u001b[0m\u001b[0;34m)\u001b[0m\u001b[0;34m:\u001b[0m\u001b[0;34m\u001b[0m\u001b[0;34m\u001b[0m\u001b[0m\n",
      "\u001b[0;32m~/anaconda3/lib/python3.7/json/decoder.py\u001b[0m in \u001b[0;36mraw_decode\u001b[0;34m(self, s, idx)\u001b[0m\n\u001b[1;32m    351\u001b[0m         \"\"\"\n\u001b[1;32m    352\u001b[0m         \u001b[0;32mtry\u001b[0m\u001b[0;34m:\u001b[0m\u001b[0;34m\u001b[0m\u001b[0;34m\u001b[0m\u001b[0m\n\u001b[0;32m--> 353\u001b[0;31m             \u001b[0mobj\u001b[0m\u001b[0;34m,\u001b[0m \u001b[0mend\u001b[0m \u001b[0;34m=\u001b[0m \u001b[0mself\u001b[0m\u001b[0;34m.\u001b[0m\u001b[0mscan_once\u001b[0m\u001b[0;34m(\u001b[0m\u001b[0ms\u001b[0m\u001b[0;34m,\u001b[0m \u001b[0midx\u001b[0m\u001b[0;34m)\u001b[0m\u001b[0;34m\u001b[0m\u001b[0;34m\u001b[0m\u001b[0m\n\u001b[0m\u001b[1;32m    354\u001b[0m         \u001b[0;32mexcept\u001b[0m \u001b[0mStopIteration\u001b[0m \u001b[0;32mas\u001b[0m \u001b[0merr\u001b[0m\u001b[0;34m:\u001b[0m\u001b[0;34m\u001b[0m\u001b[0;34m\u001b[0m\u001b[0m\n\u001b[1;32m    355\u001b[0m             \u001b[0;32mraise\u001b[0m \u001b[0mJSONDecodeError\u001b[0m\u001b[0;34m(\u001b[0m\u001b[0;34m\"Expecting value\"\u001b[0m\u001b[0;34m,\u001b[0m \u001b[0ms\u001b[0m\u001b[0;34m,\u001b[0m \u001b[0merr\u001b[0m\u001b[0;34m.\u001b[0m\u001b[0mvalue\u001b[0m\u001b[0;34m)\u001b[0m \u001b[0;32mfrom\u001b[0m \u001b[0;32mNone\u001b[0m\u001b[0;34m\u001b[0m\u001b[0;34m\u001b[0m\u001b[0m\n",
      "\u001b[0;31mJSONDecodeError\u001b[0m: Expecting property name enclosed in double quotes: line 1 column 2 (char 1)"
     ]
    }
   ],
   "source": [
    "df['coordinates'].apply(lambda x: (json.loads(x)['latitude'], json.loads(x)['longitude']))"
   ]
  },
  {
   "cell_type": "code",
   "execution_count": 22,
   "metadata": {},
   "outputs": [],
   "source": [
    "names = df.loc[:, ['names', 'coordinates', 'categories']]\n",
    "names.to_csv('data/names.csv')"
   ]
  },
  {
   "cell_type": "code",
   "execution_count": 21,
   "metadata": {},
   "outputs": [
    {
     "output_type": "execute_result",
     "data": {
      "text/plain": [
       "\"{'latitude': 44.921699931935, 'longitude': -93.2123801484704}\""
      ]
     },
     "metadata": {},
     "execution_count": 21
    }
   ],
   "source": [
    "test"
   ]
  },
  {
   "cell_type": "code",
   "execution_count": 13,
   "metadata": {},
   "outputs": [
    {
     "output_type": "error",
     "ename": "NameError",
     "evalue": "name 'train' is not defined",
     "traceback": [
      "\u001b[0;31m---------------------------------------------------------------------------\u001b[0m",
      "\u001b[0;31mNameError\u001b[0m                                 Traceback (most recent call last)",
      "\u001b[0;32m<ipython-input-13-2eebbedf5c5a>\u001b[0m in \u001b[0;36m<module>\u001b[0;34m\u001b[0m\n\u001b[1;32m      1\u001b[0m \u001b[0mmodel\u001b[0m \u001b[0;34m=\u001b[0m \u001b[0mLightFM\u001b[0m\u001b[0;34m(\u001b[0m\u001b[0mloss\u001b[0m\u001b[0;34m=\u001b[0m\u001b[0;34m'warp'\u001b[0m\u001b[0;34m,\u001b[0m \u001b[0mno_components\u001b[0m\u001b[0;34m=\u001b[0m\u001b[0;36m50\u001b[0m\u001b[0;34m)\u001b[0m\u001b[0;34m\u001b[0m\u001b[0;34m\u001b[0m\u001b[0m\n\u001b[0;32m----> 2\u001b[0;31m \u001b[0mmodel\u001b[0m\u001b[0;34m.\u001b[0m\u001b[0mfit\u001b[0m\u001b[0;34m(\u001b[0m\u001b[0mtrain\u001b[0m\u001b[0;34m,\u001b[0m \u001b[0mepochs\u001b[0m\u001b[0;34m=\u001b[0m\u001b[0;36m100\u001b[0m\u001b[0;34m)\u001b[0m\u001b[0;34m\u001b[0m\u001b[0;34m\u001b[0m\u001b[0m\n\u001b[0m\u001b[1;32m      3\u001b[0m \u001b[0mtrain_precision\u001b[0m \u001b[0;34m=\u001b[0m \u001b[0mprecision_at_k\u001b[0m\u001b[0;34m(\u001b[0m\u001b[0mmodel\u001b[0m\u001b[0;34m,\u001b[0m \u001b[0mtrain\u001b[0m\u001b[0;34m,\u001b[0m \u001b[0mk\u001b[0m\u001b[0;34m=\u001b[0m\u001b[0;36m10\u001b[0m\u001b[0;34m)\u001b[0m\u001b[0;34m.\u001b[0m\u001b[0mmean\u001b[0m\u001b[0;34m(\u001b[0m\u001b[0;34m)\u001b[0m\u001b[0;34m\u001b[0m\u001b[0;34m\u001b[0m\u001b[0m\n\u001b[1;32m      4\u001b[0m \u001b[0mprint\u001b[0m\u001b[0;34m(\u001b[0m\u001b[0mtrain_precision\u001b[0m\u001b[0;34m)\u001b[0m\u001b[0;34m\u001b[0m\u001b[0;34m\u001b[0m\u001b[0m\n",
      "\u001b[0;31mNameError\u001b[0m: name 'train' is not defined"
     ]
    }
   ],
   "source": [
    "model = LightFM(loss='warp', no_components=50)\n",
    "model.fit(train, epochs=100)\n",
    "train_precision = precision_at_k(model, train, k=10).mean()\n",
    "print(train_precision)"
   ]
  },
  {
   "cell_type": "code",
   "execution_count": 12,
   "metadata": {},
   "outputs": [
    {
     "output_type": "execute_result",
     "data": {
      "text/plain": [
       "array([-8.56973417e-03, -1.30643237e+00,  1.57228932e-02, -9.37740624e-01,\n",
       "       -5.25542259e-01,  1.36807486e-01, -3.30875784e-01, -8.70892346e-01,\n",
       "        6.99218288e-02, -2.00041324e-01, -1.09470963e+00, -9.62633193e-01,\n",
       "       -3.02075297e-01, -7.55709112e-01, -4.38898087e-01,  1.71446875e-01,\n",
       "        5.89263588e-02, -3.35353017e-01, -1.22458446e+00, -5.53000510e-01,\n",
       "       -1.45270228e+00, -8.71211469e-01, -9.16200757e-01, -9.60602582e-01,\n",
       "       -1.06396258e+00, -2.31011912e-01, -4.02503908e-01, -5.50684333e-01,\n",
       "       -1.26531637e+00, -5.87008953e-01, -4.42767024e-01,  1.20969124e-01,\n",
       "       -6.01991832e-01, -1.30081952e+00, -1.03799200e+00, -5.53155184e-01,\n",
       "       -7.74758816e-01, -3.94998699e-01, -5.37457287e-01, -2.70655781e-01,\n",
       "       -3.05632651e-01, -6.38454556e-01, -1.35597038e+00, -7.05816865e-01,\n",
       "       -1.14701581e+00, -3.08248490e-01, -4.56547767e-01, -3.20211977e-01,\n",
       "        2.08617508e-01, -1.44268274e-01, -5.27988732e-01, -1.45498407e+00,\n",
       "       -8.58255148e-01, -1.86858043e-01, -7.08535969e-01, -2.60302037e-01,\n",
       "        2.66928345e-01, -4.30909008e-01, -9.88206744e-01,  1.13758862e-01,\n",
       "       -7.01257944e-01, -7.42268443e-01, -6.05294585e-01, -8.79150331e-01,\n",
       "       -4.40036178e-01,  1.51024893e-01,  5.91125607e-01, -4.04161215e-01,\n",
       "       -2.28087410e-01, -1.35106361e+00, -5.14284790e-01, -3.39392275e-01,\n",
       "        2.96479906e-03, -7.87124813e-01, -2.40947828e-01, -2.40611747e-01,\n",
       "       -2.76719183e-01, -4.99483258e-01, -2.82888234e-01, -5.79743981e-01,\n",
       "       -2.05053970e-01, -7.19170988e-01, -3.07358265e-01, -9.31803524e-01,\n",
       "       -7.85631314e-02, -5.77293336e-01, -4.14447300e-02, -3.63534689e-01,\n",
       "        1.57505095e-01, -3.19770426e-01, -4.07413661e-01, -5.83388388e-01,\n",
       "       -5.67606688e-01,  8.72769877e-02, -1.09226316e-01, -9.67545927e-01,\n",
       "       -6.38681769e-01, -4.93625343e-01, -3.60559106e-01,  4.09964584e-02,\n",
       "       -7.23147035e-01, -5.13615072e-01, -8.68800461e-01, -1.41610229e+00,\n",
       "       -6.07061051e-02, -9.31118369e-01, -5.11887908e-01, -1.13068604e+00,\n",
       "       -1.13164020e+00, -1.21453321e+00, -2.37354323e-01, -3.26460958e-01,\n",
       "        1.22226648e-01,  8.96048397e-02, -7.07541585e-01, -4.58899140e-01,\n",
       "       -9.47242320e-01, -1.13493001e+00, -5.03439009e-01, -3.07199329e-01,\n",
       "       -6.88271105e-01, -1.47718406e+00, -5.45298338e-01, -2.28901163e-01,\n",
       "       -3.12049717e-01, -1.06888092e+00, -6.66508913e-01, -5.85945062e-02,\n",
       "       -3.58691126e-01, -1.63563406e+00, -6.24419689e-01, -1.37614286e+00,\n",
       "       -6.26996696e-01, -5.72791576e-01, -4.81755793e-01,  2.10106358e-01,\n",
       "       -9.22532320e-01, -1.12507105e+00, -1.07655518e-01, -5.12176633e-01,\n",
       "       -3.52241546e-01, -6.89910233e-01, -8.59416246e-01, -8.81427705e-01,\n",
       "       -1.30420613e+00, -5.58320940e-01, -1.10520804e+00, -7.04633892e-01,\n",
       "       -1.97165422e-02, -5.74015379e-01,  1.60773456e+00, -1.30138710e-01,\n",
       "       -1.23233056e+00,  5.81176840e-02, -2.86788642e-01, -2.90806830e-01,\n",
       "       -2.03047574e-01, -5.54774106e-01, -3.21731895e-01, -7.01915085e-01,\n",
       "       -5.64312041e-01, -4.24204081e-01, -1.10892844e+00,  1.25626028e-01,\n",
       "       -7.47874737e-01, -2.15298682e-01, -9.28453863e-01, -5.18010795e-01,\n",
       "       -7.44655058e-02, -3.11008185e-01, -4.72848356e-01, -4.09788221e-01,\n",
       "       -4.57549751e-01, -4.75114167e-01, -3.26042503e-01, -1.05113137e+00,\n",
       "       -7.67511189e-01, -3.46340269e-01,  4.19657677e-02, -5.09730220e-01,\n",
       "       -1.69745326e-01, -4.19470519e-01, -3.20296794e-01, -1.49283618e-01,\n",
       "       -8.14264834e-01, -1.04196325e-01, -1.04773545e+00, -8.82754743e-01,\n",
       "       -6.57594085e-01, -1.05144322e+00, -2.06019819e-01, -7.74645925e-01,\n",
       "       -5.07599950e-01, -7.30686307e-01, -9.52047467e-01, -8.80724072e-01,\n",
       "       -1.28662813e+00, -3.01387340e-01, -1.39050171e-01, -1.66508391e-01,\n",
       "       -9.09444988e-02, -9.59413350e-01,  1.72219381e-01, -1.07927120e+00,\n",
       "       -9.62317586e-02, -5.74207366e-01,  3.27566117e-02, -8.81370041e-04,\n",
       "       -9.31249440e-01, -6.33535445e-01, -1.10988510e+00, -1.12759304e+00,\n",
       "       -8.04500401e-01, -8.70822787e-01, -2.01542640e+00,  7.77104348e-02,\n",
       "       -1.17689919e+00, -3.93956751e-01, -4.72925186e-01, -4.51769233e-01,\n",
       "        2.39766687e-01, -8.29649746e-01, -5.85763335e-01, -4.91076916e-01,\n",
       "       -4.44563687e-01, -3.66456211e-01, -9.81666327e-01, -4.07031685e-01,\n",
       "       -5.19035459e-01, -4.35773462e-01, -6.12285614e-01, -7.10450411e-01,\n",
       "       -7.27995098e-01,  4.15749848e-01,  1.31170362e-01, -5.09173453e-01,\n",
       "       -2.80327767e-01, -6.14605069e-01, -2.88424678e-02, -1.01915014e+00,\n",
       "        1.57075465e-01, -9.00431722e-02, -9.36996162e-01, -2.25055680e-01,\n",
       "       -1.50482202e+00, -1.29201800e-01, -7.26524413e-01, -1.33549833e+00,\n",
       "       -4.75153714e-01,  9.98083130e-02, -1.93336040e-01, -2.52346367e-01,\n",
       "       -1.96749851e-01, -8.34508777e-01, -9.85590816e-01, -7.83066213e-01,\n",
       "       -1.45190820e-01, -2.30137572e-01, -7.38595903e-01, -8.26641560e-01,\n",
       "       -1.23168182e+00, -4.73793745e-01, -6.94693446e-01, -1.78415716e-01,\n",
       "       -1.28631735e+00, -7.90839255e-01, -1.03928876e+00, -6.06897883e-02,\n",
       "       -9.64926779e-01, -1.36260808e+00, -1.30093849e+00, -1.50428271e+00,\n",
       "       -1.15475766e-01, -1.39833510e+00, -3.79704893e-01, -6.82506382e-01,\n",
       "        1.18360877e-01, -6.85398459e-01,  1.62535384e-01, -1.22003525e-01,\n",
       "       -1.16396439e+00, -9.70786691e-01, -6.48338854e-01,  2.05806687e-01,\n",
       "       -5.16735196e-01, -7.98043847e-01, -4.32700396e-01, -3.90817642e-01,\n",
       "       -7.00922430e-01, -1.10597277e+00, -6.27401114e-01, -1.16052067e+00,\n",
       "       -4.45352823e-01, -4.24137056e-01, -7.93649971e-01, -3.11709285e-01,\n",
       "       -8.90194356e-01, -7.61030376e-01, -1.15323699e+00, -3.85502368e-01,\n",
       "       -7.36902118e-01, -4.54173177e-01, -2.12776035e-01, -3.76803041e-01,\n",
       "       -1.77764118e-01, -1.12229300e+00, -6.96802020e-01,  1.26192821e-02,\n",
       "       -1.13711047e+00, -2.60946631e-01, -2.19013486e-02, -5.18791735e-01,\n",
       "       -7.39585280e-01, -5.33625543e-01, -1.98003739e-01, -7.66750932e-01,\n",
       "       -1.25931132e+00, -8.15963686e-01, -5.39155126e-01, -3.77617776e-01,\n",
       "       -3.66497342e-03, -5.86972296e-01,  1.14004917e-01, -3.71517271e-01,\n",
       "       -3.03449303e-01, -3.19656253e-01, -1.70047939e-01, -8.14947248e-01,\n",
       "       -3.24705452e-01, -9.73408222e-01, -1.23713124e+00, -2.40663812e-01,\n",
       "       -9.38263476e-01, -7.43098497e-01, -4.42629248e-01, -4.07601029e-01,\n",
       "       -3.28465551e-01,  7.74228200e-02, -4.01005298e-01, -1.12671196e-01,\n",
       "       -1.38467407e+00, -8.81245434e-02, -9.83469069e-01, -6.33618414e-01,\n",
       "       -9.83900949e-02, -1.07787597e+00, -1.42319947e-01, -3.83797526e-01,\n",
       "       -8.97957325e-01, -9.43162799e-01, -4.82491702e-01, -8.98775518e-01,\n",
       "       -9.93459165e-01, -4.54975545e-01, -1.32604456e+00, -4.80734289e-01,\n",
       "       -8.40201914e-01, -4.65206534e-01, -7.62247980e-01, -1.24293581e-01,\n",
       "       -6.33083165e-01, -1.11031604e+00, -1.10685742e+00, -1.14901865e+00,\n",
       "       -1.40809655e-01, -7.80567169e-01, -3.05822551e-01, -6.31493807e-01,\n",
       "       -8.89805913e-01, -3.36694896e-01, -3.50863099e-01, -1.45413682e-01,\n",
       "       -1.07149087e-01, -4.23282981e-01, -8.55582774e-01, -1.60591435e+00,\n",
       "       -5.82925268e-02, -8.95098388e-01, -4.21108991e-01, -5.81391975e-02,\n",
       "       -1.63203463e-01, -1.79138213e-01, -4.78875548e-01, -5.77174544e-01,\n",
       "       -8.82319272e-01, -6.24902248e-01, -2.86609679e-01, -1.28633142e-01,\n",
       "       -5.13439536e-01,  1.99868888e-01, -1.07046258e+00, -5.06287873e-01,\n",
       "       -1.08248186e+00, -8.03583384e-01, -1.17904747e+00, -1.38971651e+00,\n",
       "       -1.86936185e-01, -5.32784283e-01, -6.36273801e-01, -4.71587777e-01,\n",
       "       -8.71125281e-01, -2.78941333e-01, -6.01851702e-01, -1.74230099e-01,\n",
       "       -5.87077677e-01, -4.77520376e-01, -7.30780721e-01, -5.47890186e-01,\n",
       "        4.00135517e-02, -2.93885022e-01, -1.53729290e-01, -9.14276302e-01,\n",
       "       -4.96836364e-01, -3.81852359e-01, -6.81265593e-01, -1.20945580e-01,\n",
       "       -1.32363188e+00, -1.79392010e-01, -1.31430316e+00, -2.87894607e-01,\n",
       "       -3.23530167e-01, -1.17144299e+00, -5.76014936e-01, -4.24212873e-01,\n",
       "       -1.13306499e+00, -5.15355587e-01, -8.36781740e-01, -2.01974995e-02,\n",
       "        1.49399135e-03, -7.50105143e-01, -4.64900821e-01,  1.35312890e-04,\n",
       "       -7.26016104e-01, -1.13250995e+00, -5.75113773e-01, -4.05808330e-01,\n",
       "       -9.75771785e-01, -2.33950511e-01, -7.82593906e-01, -1.17773831e+00,\n",
       "       -1.21309288e-01, -1.48189396e-01, -4.25296664e-01, -8.48957002e-01,\n",
       "       -1.07401168e+00, -8.04092526e-01, -7.94298887e-01, -2.18562931e-01,\n",
       "       -7.35586524e-01,  9.50285271e-02, -5.29281557e-01, -7.00370908e-01,\n",
       "       -5.73533177e-01, -4.69912924e-02, -8.75494361e-01, -1.03715217e+00,\n",
       "       -5.22159338e-02, -4.47352648e-01,  1.71168037e-02, -1.72694046e-02,\n",
       "       -3.48445326e-01, -1.53044498e+00, -1.11885078e-01, -3.52083534e-01,\n",
       "       -4.15025592e-01, -1.44365108e+00, -1.11335027e+00, -2.38863766e-01,\n",
       "       -1.23954716e-03, -2.74787486e-01, -7.25105107e-01, -8.85025561e-01,\n",
       "       -1.58821955e-01,  2.92025041e-02, -7.47524917e-01, -2.26092249e-01,\n",
       "       -4.32159185e-01, -3.10090423e-01, -6.06016994e-01, -7.21090078e-01,\n",
       "        3.34759355e-01,  1.09781779e-01, -9.24092159e-02, -5.77357054e-01,\n",
       "       -1.01947856e+00, -6.42322898e-01, -3.08569580e-01, -5.36532462e-01,\n",
       "       -1.18931592e+00, -5.78203686e-02, -1.10523021e+00, -6.01822972e-01,\n",
       "       -1.64368659e-01, -8.58671427e-01, -3.75442743e-01, -5.21007419e-01,\n",
       "        8.36312175e-02, -6.49939001e-01, -7.51249939e-02, -7.52391338e-01,\n",
       "       -1.14384091e+00, -6.34421229e-01, -7.71961510e-01, -1.43690556e-01,\n",
       "       -1.87500834e-01, -9.17122781e-01, -7.97205091e-01, -5.42127430e-01,\n",
       "       -3.03752333e-01, -1.16734791e+00, -3.02888989e-01, -3.99530411e-01,\n",
       "       -1.42478454e+00, -2.02227622e-01, -3.35284293e-01, -5.97439170e-01,\n",
       "       -1.06240189e+00, -5.95127881e-01, -1.23423353e-01, -4.55155224e-01,\n",
       "       -6.43756628e-01, -1.04403853e+00, -7.80630946e-01, -4.68875587e-01,\n",
       "       -7.25995123e-01, -5.94514459e-02, -2.74010122e-01, -8.80985379e-01,\n",
       "       -1.16859877e+00, -1.16499996e+00, -4.90182728e-01, -1.42149651e+00,\n",
       "       -1.03355217e+00, -7.78565779e-02, -1.93297550e-01,  7.37125203e-02,\n",
       "       -2.01049626e-01, -8.26654375e-01, -6.45145893e-01, -3.86758387e-01,\n",
       "       -1.01860300e-01, -1.10494065e+00, -7.20704257e-01, -8.53129625e-01,\n",
       "       -9.30253744e-01, -1.63960248e-01, -3.01502615e-01, -3.43691319e-01,\n",
       "       -9.24900889e-01, -7.88992345e-01, -7.73725435e-02, -7.85645425e-01,\n",
       "       -1.89789668e-01, -4.62015010e-02, -7.50890315e-01, -1.00787234e+00,\n",
       "       -7.33910203e-01, -7.70407557e-01, -9.09495413e-01,  8.80777389e-02,\n",
       "       -4.74878430e-01, -1.49617505e+00, -1.07160580e+00, -5.26390858e-02,\n",
       "       -6.20893657e-01, -8.97285402e-01, -1.22769952e+00, -2.13096812e-02,\n",
       "       -2.77481019e-01,  9.06116068e-02, -5.47658920e-01, -4.48681235e-01,\n",
       "       -3.48162025e-01, -1.01407909e+00, -2.65340835e-01, -6.62681103e-01,\n",
       "       -9.56900060e-01, -4.95149404e-01, -5.39157689e-01, -2.57116348e-01,\n",
       "       -8.94632518e-01, -9.20710444e-01, -4.55025315e-01, -5.68902731e-01,\n",
       "       -1.01527333e+00,  4.55788374e-01, -4.78900105e-01, -3.03663790e-01,\n",
       "       -1.53467059e+00, -1.02721083e+00, -1.38436115e+00, -6.46440685e-01,\n",
       "       -1.33963868e-01, -4.40286607e-01, -1.08687055e+00, -2.01948956e-01,\n",
       "       -6.98565781e-01, -3.52527142e-01, -6.50798261e-01, -8.96485746e-01,\n",
       "        3.09738845e-01, -3.59173983e-01, -8.01706195e-01, -3.48559767e-01,\n",
       "       -8.34977686e-01, -1.50183427e+00, -9.94992018e-01, -2.75331348e-01,\n",
       "       -1.96520650e+00, -3.15592855e-01, -4.49462652e-01, -1.27987301e+00,\n",
       "       -3.91071886e-01, -9.31872070e-01, -3.91810179e-01, -5.59543073e-01,\n",
       "       -8.55999351e-01, -2.93798894e-01, -4.96539026e-01, -9.03072357e-01,\n",
       "       -6.28300548e-01, -1.01257682e+00, -1.15271580e+00, -8.83819342e-01,\n",
       "       -1.09421581e-01, -4.38775927e-01, -1.63323686e-01, -7.70915031e-01,\n",
       "       -2.82404482e-01,  5.28304204e-02, -7.57285058e-01, -3.14099163e-01,\n",
       "       -1.32034922e+00, -1.48737860e+00,  2.38027796e-02, -4.46497500e-01,\n",
       "       -1.32986635e-01, -1.15397763e+00, -1.64033100e-01, -1.09367406e+00,\n",
       "       -3.76402825e-01,  5.60544990e-03,  6.34310395e-02, -4.21087176e-01,\n",
       "       -2.43796155e-01, -2.95571327e-01, -1.13952088e+00, -1.15990627e+00,\n",
       "       -8.11784342e-03, -8.69157836e-02, -6.95549309e-01, -6.92403316e-01,\n",
       "       -7.31550157e-01, -1.29147434e+00, -4.08374444e-02, -1.00244319e+00,\n",
       "       -3.92943352e-01,  3.58535528e-01, -5.18579483e-01, -7.54180789e-01,\n",
       "       -6.27788246e-01, -3.72449756e-01, -9.20554221e-01, -9.91067141e-02,\n",
       "       -4.14492249e-01,  1.62826806e-01, -2.83538312e-01, -1.99398741e-01,\n",
       "       -7.73448288e-01, -9.28501189e-01, -1.79649603e+00, -3.68285507e-01,\n",
       "       -8.34505200e-01, -2.40886539e-01, -6.86962128e-01, -5.09286106e-01,\n",
       "       -5.10387234e-02, -1.37745395e-01, -3.27492177e-01, -2.65720785e-01,\n",
       "       -1.35001421e+00, -1.41328549e+00, -3.64035442e-02,  3.93119067e-01,\n",
       "       -1.11149400e-01,  2.52874553e-01, -2.34975040e-01, -4.76801872e-01,\n",
       "       -1.67082012e-01, -4.88017380e-01,  1.09258451e-01, -2.20894790e+00,\n",
       "       -3.70169520e-01, -8.84193897e-01, -5.50830424e-01, -4.79785323e-01,\n",
       "       -9.69433784e-01, -4.33301657e-01, -1.94773898e-01, -3.01998734e-01,\n",
       "       -6.33984268e-01, -1.35872567e+00,  5.09332807e-04, -6.95468843e-01,\n",
       "       -9.72994328e-01, -6.44923508e-01, -1.26525521e+00, -5.96111596e-01,\n",
       "       -5.56193471e-01, -7.43422151e-01, -1.35641170e+00, -7.32947111e-01,\n",
       "       -5.43954551e-01,  1.56894997e-01, -5.38507737e-02, -6.88680410e-02,\n",
       "       -2.62443662e-01,  1.69869423e-01, -7.84232497e-01, -1.09065402e+00,\n",
       "       -3.65380675e-01, -8.42460930e-01, -3.90954733e-01, -8.56259823e-01,\n",
       "       -5.69134653e-01, -8.09892893e-01, -3.31003904e-01, -6.38400018e-02,\n",
       "       -5.19733429e-01,  1.41834710e-02, -3.78456414e-01, -1.40170962e-01,\n",
       "       -7.57092237e-01, -5.02055883e-01, -2.35791057e-01, -3.03694755e-01,\n",
       "       -1.54625833e-01, -1.20805547e-01, -6.93464398e-01, -1.39887571e+00,\n",
       "       -2.89546847e-01, -4.47708875e-01, -4.04658258e-01, -3.34829241e-01,\n",
       "       -5.32037020e-01, -9.76191163e-01, -5.40457010e-01, -3.14317226e-01,\n",
       "       -2.26888627e-01, -4.87956591e-02, -1.48097765e+00, -6.83466017e-01,\n",
       "       -6.18381798e-01,  4.00618911e-01,  3.06276113e-01, -5.37052989e-01,\n",
       "       -4.64708388e-01, -5.29502273e-01, -9.01326239e-01, -6.74585104e-01,\n",
       "       -6.83763921e-02, -1.31591344e-02, -3.55740786e-01,  1.74797833e-01,\n",
       "       -1.21496212e+00, -6.00266457e-01, -7.68416405e-01, -2.02189907e-01,\n",
       "       -2.74220496e-01,  6.67736232e-02, -6.95204139e-01, -9.77813005e-01,\n",
       "       -7.36976743e-01, -3.52250338e-01, -2.55676985e-01, -5.18549263e-01,\n",
       "       -1.10352230e+00, -9.41015840e-01, -1.35996848e-01, -9.30814505e-01,\n",
       "       -7.73922741e-01, -6.52839065e-01, -5.36607623e-01, -8.49379361e-01,\n",
       "       -1.26113462e+00, -1.11153173e+00, -9.42953765e-01, -5.52175999e-01,\n",
       "       -3.51392388e-01, -7.83486128e-01, -1.24938202e+00, -7.12627411e-01,\n",
       "       -1.22995801e-01, -4.01648283e-01, -7.64028370e-01, -2.32075334e-01,\n",
       "        1.42943636e-01, -3.79522145e-01, -3.38966578e-01, -7.30012476e-01,\n",
       "       -3.32300276e-01, -9.59457278e-01, -4.00356054e-01, -3.04783493e-01,\n",
       "       -6.53722644e-01, -4.61622953e-01, -6.81350470e-01, -1.51518846e+00,\n",
       "       -1.76831409e-01, -2.98543274e-01, -5.91528535e-01, -7.73353100e-01,\n",
       "       -6.61811471e-01,  1.35533363e-01, -4.71727937e-01, -9.91947591e-01,\n",
       "       -9.74208474e-01, -1.16123164e+00,  3.72205861e-02])"
      ]
     },
     "metadata": {},
     "execution_count": 12
    }
   ],
   "source": [
    "model.predict(rating_vector, np.arange(names.shape[0]))"
   ]
  },
  {
   "cell_type": "code",
   "execution_count": 6,
   "metadata": {},
   "outputs": [],
   "source": []
  },
  {
   "cell_type": "code",
   "execution_count": 7,
   "metadata": {},
   "outputs": [
    {
     "output_type": "stream",
     "name": "stdout",
     "text": [
      "set 112 Eatery to 5.0\nset 1st Wok to 5.0\nset 50's Grill to 5.0\n"
     ]
    }
   ],
   "source": [
    "rating_vector = np.zeros(names.shape[0])\n",
    "sorted_index = np.searchsorted(names, restaurant_names)\n",
    "for i, res_name in enumerate(restaurant_names):\n",
    "    if names[sorted_index[i]].lower() == res_name.lower():\n",
    "        rating_vector[sorted_index[i]] = user_ratings[i]\n",
    "        print(f'set {res_name} to {user_ratings[i]}')\n"
   ]
  },
  {
   "cell_type": "code",
   "execution_count": 15,
   "metadata": {},
   "outputs": [],
   "source": [
    "filename = 'data/recommender'\n",
    "pickle.dump(model, open(filename, 'wb'))\n",
    "  \n",
    "# load the model from disk\n",
    "loaded_model = pickle.load(open(filename, 'rb'))\n"
   ]
  },
  {
   "cell_type": "code",
   "execution_count": 17,
   "metadata": {},
   "outputs": [
    {
     "output_type": "stream",
     "name": "stdout",
     "text": [
      "0.14249086\n"
     ]
    }
   ],
   "source": [
    "train_precision = precision_at_k(loaded_model, train, k=10).mean()\n",
    "print(train_precision)"
   ]
  },
  {
   "cell_type": "code",
   "execution_count": 4,
   "metadata": {},
   "outputs": [],
   "source": [
    "review_df = pd.read_csv('data/full_review_data.csv')\n",
    "review_df.drop_duplicates(subset = ['user_id', 'restaurant_id'], keep='first', inplace=True)\n",
    "review_df = review_df[~review_df['restaurant_name'].isnull()]\n",
    "bus_df = pd.read_csv('data/business_data.csv')\n",
    "bus_df = bus_df[bus_df['name'].isin(review_df['restaurant_name'])]\n",
    "bus_df.drop_duplicates(subset='name', keep='first', inplace=True)\n",
    "bus_df.sort_values(by='name', inplace=True)\n",
    "review_df = review_df[['user_id', 'restaurant_name', 'rating']]\n",
    "pivoted = pd.pivot(review_df, index='user_id', columns='restaurant_name', values='rating')\n",
    "pivoted.fillna(value=0, inplace=True)\n",
    "item_df = process_item_features(bus_df)"
   ]
  },
  {
   "cell_type": "code",
   "execution_count": 9,
   "metadata": {},
   "outputs": [],
   "source": [
    "bool_dict = {False: 0, True: 1}\n",
    "item_df['has_pickup'] = item_df['has_pickup'].map(lambda x: bool_dict[x])\n",
    "item_df['has_delivery'] = item_df['has_delivery'].map(lambda x: bool_dict[x])"
   ]
  },
  {
   "cell_type": "code",
   "execution_count": 11,
   "metadata": {},
   "outputs": [],
   "source": [
    "item_sparse = scipy.sparse.coo_matrix(item_df)"
   ]
  },
  {
   "cell_type": "code",
   "execution_count": 12,
   "metadata": {},
   "outputs": [
    {
     "output_type": "execute_result",
     "data": {
      "text/plain": [
       "<819x4 sparse matrix of type '<class 'numpy.float64'>'\n",
       "\twith 2424 stored elements in COOrdinate format>"
      ]
     },
     "metadata": {},
     "execution_count": 12
    }
   ],
   "source": [
    "item_sparse"
   ]
  },
  {
   "cell_type": "code",
   "execution_count": 13,
   "metadata": {},
   "outputs": [
    {
     "output_type": "execute_result",
     "data": {
      "text/plain": [
       "restaurant_name         $5 Pizza  112 Eatery  1st Wok  50's Grill  \\\n",
       "user_id                                                             \n",
       "-2LdRY6wGWVdBa83R9-M-A       NaN         NaN      NaN         NaN   \n",
       "-3GuMSvftRhN2yn1TFIWEw       NaN         NaN      NaN         NaN   \n",
       "-3aLm3nt7dX2KnEyHsONig       NaN         NaN      NaN         NaN   \n",
       "-68rYG6a5YtxGI0pCevZmQ       NaN         NaN      NaN         NaN   \n",
       "-6aUbeI5oyxAfhnqWq26zA       NaN         NaN      NaN         NaN   \n",
       "\n",
       "restaurant_name         5th Street Station  6300 Steakhouse  801 Chophouse  \\\n",
       "user_id                                                                      \n",
       "-2LdRY6wGWVdBa83R9-M-A                 NaN              NaN            NaN   \n",
       "-3GuMSvftRhN2yn1TFIWEw                 NaN              NaN            NaN   \n",
       "-3aLm3nt7dX2KnEyHsONig                 NaN              NaN            NaN   \n",
       "-68rYG6a5YtxGI0pCevZmQ                 NaN              NaN            NaN   \n",
       "-6aUbeI5oyxAfhnqWq26zA                 NaN              NaN            NaN   \n",
       "\n",
       "restaurant_name         8th Street Grill & Taphouse  A Slice of New York  \\\n",
       "user_id                                                                    \n",
       "-2LdRY6wGWVdBa83R9-M-A                          NaN                  NaN   \n",
       "-3GuMSvftRhN2yn1TFIWEw                          NaN                  NaN   \n",
       "-3aLm3nt7dX2KnEyHsONig                          NaN                  NaN   \n",
       "-68rYG6a5YtxGI0pCevZmQ                          NaN                  NaN   \n",
       "-6aUbeI5oyxAfhnqWq26zA                          NaN                  NaN   \n",
       "\n",
       "restaurant_name         A&J Fish & Chicken  ...  Yum! Kitchen and Bakery  \\\n",
       "user_id                                     ...                            \n",
       "-2LdRY6wGWVdBa83R9-M-A                 NaN  ...                      NaN   \n",
       "-3GuMSvftRhN2yn1TFIWEw                 NaN  ...                      NaN   \n",
       "-3aLm3nt7dX2KnEyHsONig                 NaN  ...                      NaN   \n",
       "-68rYG6a5YtxGI0pCevZmQ                 NaN  ...                      NaN   \n",
       "-6aUbeI5oyxAfhnqWq26zA                 NaN  ...                      NaN   \n",
       "\n",
       "restaurant_name         Zait & Za'atar  Zakia Deli  Zelino Deli  Zelo  Zettas  \\\n",
       "user_id                                                                         \n",
       "-2LdRY6wGWVdBa83R9-M-A             NaN         NaN          NaN   NaN     NaN   \n",
       "-3GuMSvftRhN2yn1TFIWEw             NaN         NaN          NaN   NaN     NaN   \n",
       "-3aLm3nt7dX2KnEyHsONig             NaN         NaN          NaN   NaN     NaN   \n",
       "-68rYG6a5YtxGI0pCevZmQ             NaN         NaN          NaN   NaN     NaN   \n",
       "-6aUbeI5oyxAfhnqWq26zA             NaN         NaN          NaN   NaN     NaN   \n",
       "\n",
       "restaurant_name         Zoe's Cafe  Zumbro Cafe  iPierogi  ie Italian Eatery  \n",
       "user_id                                                                       \n",
       "-2LdRY6wGWVdBa83R9-M-A         NaN          NaN       NaN                NaN  \n",
       "-3GuMSvftRhN2yn1TFIWEw         NaN          NaN       NaN                NaN  \n",
       "-3aLm3nt7dX2KnEyHsONig         NaN          NaN       NaN                NaN  \n",
       "-68rYG6a5YtxGI0pCevZmQ         NaN          NaN       NaN                NaN  \n",
       "-6aUbeI5oyxAfhnqWq26zA         NaN          NaN       NaN                5.0  \n",
       "\n",
       "[5 rows x 819 columns]"
      ],
      "text/html": "<div>\n<style scoped>\n    .dataframe tbody tr th:only-of-type {\n        vertical-align: middle;\n    }\n\n    .dataframe tbody tr th {\n        vertical-align: top;\n    }\n\n    .dataframe thead th {\n        text-align: right;\n    }\n</style>\n<table border=\"1\" class=\"dataframe\">\n  <thead>\n    <tr style=\"text-align: right;\">\n      <th>restaurant_name</th>\n      <th>$5 Pizza</th>\n      <th>112 Eatery</th>\n      <th>1st Wok</th>\n      <th>50's Grill</th>\n      <th>5th Street Station</th>\n      <th>6300 Steakhouse</th>\n      <th>801 Chophouse</th>\n      <th>8th Street Grill &amp; Taphouse</th>\n      <th>A Slice of New York</th>\n      <th>A&amp;J Fish &amp; Chicken</th>\n      <th>...</th>\n      <th>Yum! Kitchen and Bakery</th>\n      <th>Zait &amp; Za'atar</th>\n      <th>Zakia Deli</th>\n      <th>Zelino Deli</th>\n      <th>Zelo</th>\n      <th>Zettas</th>\n      <th>Zoe's Cafe</th>\n      <th>Zumbro Cafe</th>\n      <th>iPierogi</th>\n      <th>ie Italian Eatery</th>\n    </tr>\n    <tr>\n      <th>user_id</th>\n      <th></th>\n      <th></th>\n      <th></th>\n      <th></th>\n      <th></th>\n      <th></th>\n      <th></th>\n      <th></th>\n      <th></th>\n      <th></th>\n      <th></th>\n      <th></th>\n      <th></th>\n      <th></th>\n      <th></th>\n      <th></th>\n      <th></th>\n      <th></th>\n      <th></th>\n      <th></th>\n      <th></th>\n    </tr>\n  </thead>\n  <tbody>\n    <tr>\n      <th>-2LdRY6wGWVdBa83R9-M-A</th>\n      <td>NaN</td>\n      <td>NaN</td>\n      <td>NaN</td>\n      <td>NaN</td>\n      <td>NaN</td>\n      <td>NaN</td>\n      <td>NaN</td>\n      <td>NaN</td>\n      <td>NaN</td>\n      <td>NaN</td>\n      <td>...</td>\n      <td>NaN</td>\n      <td>NaN</td>\n      <td>NaN</td>\n      <td>NaN</td>\n      <td>NaN</td>\n      <td>NaN</td>\n      <td>NaN</td>\n      <td>NaN</td>\n      <td>NaN</td>\n      <td>NaN</td>\n    </tr>\n    <tr>\n      <th>-3GuMSvftRhN2yn1TFIWEw</th>\n      <td>NaN</td>\n      <td>NaN</td>\n      <td>NaN</td>\n      <td>NaN</td>\n      <td>NaN</td>\n      <td>NaN</td>\n      <td>NaN</td>\n      <td>NaN</td>\n      <td>NaN</td>\n      <td>NaN</td>\n      <td>...</td>\n      <td>NaN</td>\n      <td>NaN</td>\n      <td>NaN</td>\n      <td>NaN</td>\n      <td>NaN</td>\n      <td>NaN</td>\n      <td>NaN</td>\n      <td>NaN</td>\n      <td>NaN</td>\n      <td>NaN</td>\n    </tr>\n    <tr>\n      <th>-3aLm3nt7dX2KnEyHsONig</th>\n      <td>NaN</td>\n      <td>NaN</td>\n      <td>NaN</td>\n      <td>NaN</td>\n      <td>NaN</td>\n      <td>NaN</td>\n      <td>NaN</td>\n      <td>NaN</td>\n      <td>NaN</td>\n      <td>NaN</td>\n      <td>...</td>\n      <td>NaN</td>\n      <td>NaN</td>\n      <td>NaN</td>\n      <td>NaN</td>\n      <td>NaN</td>\n      <td>NaN</td>\n      <td>NaN</td>\n      <td>NaN</td>\n      <td>NaN</td>\n      <td>NaN</td>\n    </tr>\n    <tr>\n      <th>-68rYG6a5YtxGI0pCevZmQ</th>\n      <td>NaN</td>\n      <td>NaN</td>\n      <td>NaN</td>\n      <td>NaN</td>\n      <td>NaN</td>\n      <td>NaN</td>\n      <td>NaN</td>\n      <td>NaN</td>\n      <td>NaN</td>\n      <td>NaN</td>\n      <td>...</td>\n      <td>NaN</td>\n      <td>NaN</td>\n      <td>NaN</td>\n      <td>NaN</td>\n      <td>NaN</td>\n      <td>NaN</td>\n      <td>NaN</td>\n      <td>NaN</td>\n      <td>NaN</td>\n      <td>NaN</td>\n    </tr>\n    <tr>\n      <th>-6aUbeI5oyxAfhnqWq26zA</th>\n      <td>NaN</td>\n      <td>NaN</td>\n      <td>NaN</td>\n      <td>NaN</td>\n      <td>NaN</td>\n      <td>NaN</td>\n      <td>NaN</td>\n      <td>NaN</td>\n      <td>NaN</td>\n      <td>NaN</td>\n      <td>...</td>\n      <td>NaN</td>\n      <td>NaN</td>\n      <td>NaN</td>\n      <td>NaN</td>\n      <td>NaN</td>\n      <td>NaN</td>\n      <td>NaN</td>\n      <td>NaN</td>\n      <td>NaN</td>\n      <td>5.0</td>\n    </tr>\n  </tbody>\n</table>\n<p>5 rows × 819 columns</p>\n</div>"
     },
     "metadata": {},
     "execution_count": 13
    }
   ],
   "source": [
    "pivoted.head()"
   ]
  },
  {
   "cell_type": "code",
   "execution_count": 39,
   "metadata": {},
   "outputs": [
    {
     "output_type": "execute_result",
     "data": {
      "text/plain": [
       "<lightfm.lightfm.LightFM at 0x7fbf4364ed68>"
      ]
     },
     "metadata": {},
     "execution_count": 39
    }
   ],
   "source": [
    "# Define the recommender system\n",
    "# To-do: train the recommender system, save the model\n"
   ]
  },
  {
   "cell_type": "code",
   "execution_count": 33,
   "metadata": {},
   "outputs": [
    {
     "output_type": "execute_result",
     "data": {
      "text/plain": [
       "restaurant_name         $5 Pizza  112 Eatery  1st Wok  50's Grill  \\\n",
       "user_id                                                             \n",
       "-2LdRY6wGWVdBa83R9-M-A       NaN         NaN      NaN         NaN   \n",
       "-3GuMSvftRhN2yn1TFIWEw       NaN         NaN      NaN         NaN   \n",
       "-3aLm3nt7dX2KnEyHsONig       NaN         NaN      NaN         NaN   \n",
       "-68rYG6a5YtxGI0pCevZmQ       NaN         NaN      NaN         NaN   \n",
       "-6aUbeI5oyxAfhnqWq26zA       NaN         NaN      NaN         NaN   \n",
       "\n",
       "restaurant_name         5th Street Station  6300 Steakhouse  801 Chophouse  \\\n",
       "user_id                                                                      \n",
       "-2LdRY6wGWVdBa83R9-M-A                 NaN              NaN            NaN   \n",
       "-3GuMSvftRhN2yn1TFIWEw                 NaN              NaN            NaN   \n",
       "-3aLm3nt7dX2KnEyHsONig                 NaN              NaN            NaN   \n",
       "-68rYG6a5YtxGI0pCevZmQ                 NaN              NaN            NaN   \n",
       "-6aUbeI5oyxAfhnqWq26zA                 NaN              NaN            NaN   \n",
       "\n",
       "restaurant_name         8th Street Grill & Taphouse  A Slice of New York  \\\n",
       "user_id                                                                    \n",
       "-2LdRY6wGWVdBa83R9-M-A                          NaN                  NaN   \n",
       "-3GuMSvftRhN2yn1TFIWEw                          NaN                  NaN   \n",
       "-3aLm3nt7dX2KnEyHsONig                          NaN                  NaN   \n",
       "-68rYG6a5YtxGI0pCevZmQ                          NaN                  NaN   \n",
       "-6aUbeI5oyxAfhnqWq26zA                          NaN                  NaN   \n",
       "\n",
       "restaurant_name         A&J Fish & Chicken  ...  Yum! Kitchen and Bakery  \\\n",
       "user_id                                     ...                            \n",
       "-2LdRY6wGWVdBa83R9-M-A                 NaN  ...                      NaN   \n",
       "-3GuMSvftRhN2yn1TFIWEw                 NaN  ...                      NaN   \n",
       "-3aLm3nt7dX2KnEyHsONig                 NaN  ...                      NaN   \n",
       "-68rYG6a5YtxGI0pCevZmQ                 NaN  ...                      NaN   \n",
       "-6aUbeI5oyxAfhnqWq26zA                 NaN  ...                      NaN   \n",
       "\n",
       "restaurant_name         Zait & Za'atar  Zakia Deli  Zelino Deli  Zelo  Zettas  \\\n",
       "user_id                                                                         \n",
       "-2LdRY6wGWVdBa83R9-M-A             NaN         NaN          NaN   NaN     NaN   \n",
       "-3GuMSvftRhN2yn1TFIWEw             NaN         NaN          NaN   NaN     NaN   \n",
       "-3aLm3nt7dX2KnEyHsONig             NaN         NaN          NaN   NaN     NaN   \n",
       "-68rYG6a5YtxGI0pCevZmQ             NaN         NaN          NaN   NaN     NaN   \n",
       "-6aUbeI5oyxAfhnqWq26zA             NaN         NaN          NaN   NaN     NaN   \n",
       "\n",
       "restaurant_name         Zoe's Cafe  Zumbro Cafe  iPierogi  ie Italian Eatery  \n",
       "user_id                                                                       \n",
       "-2LdRY6wGWVdBa83R9-M-A         NaN          NaN       NaN                NaN  \n",
       "-3GuMSvftRhN2yn1TFIWEw         NaN          NaN       NaN                NaN  \n",
       "-3aLm3nt7dX2KnEyHsONig         NaN          NaN       NaN                NaN  \n",
       "-68rYG6a5YtxGI0pCevZmQ         NaN          NaN       NaN                NaN  \n",
       "-6aUbeI5oyxAfhnqWq26zA         NaN          NaN       NaN                5.0  \n",
       "\n",
       "[5 rows x 819 columns]"
      ],
      "text/html": "<div>\n<style scoped>\n    .dataframe tbody tr th:only-of-type {\n        vertical-align: middle;\n    }\n\n    .dataframe tbody tr th {\n        vertical-align: top;\n    }\n\n    .dataframe thead th {\n        text-align: right;\n    }\n</style>\n<table border=\"1\" class=\"dataframe\">\n  <thead>\n    <tr style=\"text-align: right;\">\n      <th>restaurant_name</th>\n      <th>$5 Pizza</th>\n      <th>112 Eatery</th>\n      <th>1st Wok</th>\n      <th>50's Grill</th>\n      <th>5th Street Station</th>\n      <th>6300 Steakhouse</th>\n      <th>801 Chophouse</th>\n      <th>8th Street Grill &amp; Taphouse</th>\n      <th>A Slice of New York</th>\n      <th>A&amp;J Fish &amp; Chicken</th>\n      <th>...</th>\n      <th>Yum! Kitchen and Bakery</th>\n      <th>Zait &amp; Za'atar</th>\n      <th>Zakia Deli</th>\n      <th>Zelino Deli</th>\n      <th>Zelo</th>\n      <th>Zettas</th>\n      <th>Zoe's Cafe</th>\n      <th>Zumbro Cafe</th>\n      <th>iPierogi</th>\n      <th>ie Italian Eatery</th>\n    </tr>\n    <tr>\n      <th>user_id</th>\n      <th></th>\n      <th></th>\n      <th></th>\n      <th></th>\n      <th></th>\n      <th></th>\n      <th></th>\n      <th></th>\n      <th></th>\n      <th></th>\n      <th></th>\n      <th></th>\n      <th></th>\n      <th></th>\n      <th></th>\n      <th></th>\n      <th></th>\n      <th></th>\n      <th></th>\n      <th></th>\n      <th></th>\n    </tr>\n  </thead>\n  <tbody>\n    <tr>\n      <th>-2LdRY6wGWVdBa83R9-M-A</th>\n      <td>NaN</td>\n      <td>NaN</td>\n      <td>NaN</td>\n      <td>NaN</td>\n      <td>NaN</td>\n      <td>NaN</td>\n      <td>NaN</td>\n      <td>NaN</td>\n      <td>NaN</td>\n      <td>NaN</td>\n      <td>...</td>\n      <td>NaN</td>\n      <td>NaN</td>\n      <td>NaN</td>\n      <td>NaN</td>\n      <td>NaN</td>\n      <td>NaN</td>\n      <td>NaN</td>\n      <td>NaN</td>\n      <td>NaN</td>\n      <td>NaN</td>\n    </tr>\n    <tr>\n      <th>-3GuMSvftRhN2yn1TFIWEw</th>\n      <td>NaN</td>\n      <td>NaN</td>\n      <td>NaN</td>\n      <td>NaN</td>\n      <td>NaN</td>\n      <td>NaN</td>\n      <td>NaN</td>\n      <td>NaN</td>\n      <td>NaN</td>\n      <td>NaN</td>\n      <td>...</td>\n      <td>NaN</td>\n      <td>NaN</td>\n      <td>NaN</td>\n      <td>NaN</td>\n      <td>NaN</td>\n      <td>NaN</td>\n      <td>NaN</td>\n      <td>NaN</td>\n      <td>NaN</td>\n      <td>NaN</td>\n    </tr>\n    <tr>\n      <th>-3aLm3nt7dX2KnEyHsONig</th>\n      <td>NaN</td>\n      <td>NaN</td>\n      <td>NaN</td>\n      <td>NaN</td>\n      <td>NaN</td>\n      <td>NaN</td>\n      <td>NaN</td>\n      <td>NaN</td>\n      <td>NaN</td>\n      <td>NaN</td>\n      <td>...</td>\n      <td>NaN</td>\n      <td>NaN</td>\n      <td>NaN</td>\n      <td>NaN</td>\n      <td>NaN</td>\n      <td>NaN</td>\n      <td>NaN</td>\n      <td>NaN</td>\n      <td>NaN</td>\n      <td>NaN</td>\n    </tr>\n    <tr>\n      <th>-68rYG6a5YtxGI0pCevZmQ</th>\n      <td>NaN</td>\n      <td>NaN</td>\n      <td>NaN</td>\n      <td>NaN</td>\n      <td>NaN</td>\n      <td>NaN</td>\n      <td>NaN</td>\n      <td>NaN</td>\n      <td>NaN</td>\n      <td>NaN</td>\n      <td>...</td>\n      <td>NaN</td>\n      <td>NaN</td>\n      <td>NaN</td>\n      <td>NaN</td>\n      <td>NaN</td>\n      <td>NaN</td>\n      <td>NaN</td>\n      <td>NaN</td>\n      <td>NaN</td>\n      <td>NaN</td>\n    </tr>\n    <tr>\n      <th>-6aUbeI5oyxAfhnqWq26zA</th>\n      <td>NaN</td>\n      <td>NaN</td>\n      <td>NaN</td>\n      <td>NaN</td>\n      <td>NaN</td>\n      <td>NaN</td>\n      <td>NaN</td>\n      <td>NaN</td>\n      <td>NaN</td>\n      <td>NaN</td>\n      <td>...</td>\n      <td>NaN</td>\n      <td>NaN</td>\n      <td>NaN</td>\n      <td>NaN</td>\n      <td>NaN</td>\n      <td>NaN</td>\n      <td>NaN</td>\n      <td>NaN</td>\n      <td>NaN</td>\n      <td>5.0</td>\n    </tr>\n  </tbody>\n</table>\n<p>5 rows × 819 columns</p>\n</div>"
     },
     "metadata": {},
     "execution_count": 33
    }
   ],
   "source": [
    "pivoted.head()"
   ]
  },
  {
   "cell_type": "code",
   "execution_count": 34,
   "metadata": {},
   "outputs": [],
   "source": [
    "# Convert review_df to training matrix\n",
    "review_df = pd.read_csv('data/full_review_data.csv')\n",
    "review_df.drop_duplicates(subset = ['user_id', 'restaurant_id'], keep='first', inplace=True)\n",
    "df = review_df[['user_id', 'restaurant_name', 'rating']]\n",
    "pivoted = pd.pivot(df, index='user_id', columns='restaurant_name', values='rating')\n",
    "pivoted.head()\n",
    "pivoted.fillna(value=0, inplace=True)\n",
    "sparse = scipy.sparse.csr_matrix(pivoted.values)\n",
    "np.savez_compressed('data/train.npz',  train=sparse)"
   ]
  },
  {
   "cell_type": "code",
   "execution_count": 41,
   "metadata": {},
   "outputs": [
    {
     "output_type": "execute_result",
     "data": {
      "text/plain": [
       "  address                                         categories  \\\n",
       "0     NaN       [{'alias': 'japanese', 'title': 'Japanese'}]   \n",
       "1     NaN           [{'alias': 'korean', 'title': 'Korean'}]   \n",
       "2     NaN  [{'alias': 'mediterranean', 'title': 'Mediterr...   \n",
       "3     NaN  [{'alias': 'newamerican', 'title': 'American (...   \n",
       "4     NaN           [{'alias': 'korean', 'title': 'Korean'}]   \n",
       "\n",
       "                                         coordinates name           phone  \\\n",
       "0  {'latitude': 44.921699931935, 'longitude': -93...  NaN             NaN   \n",
       "1  {'latitude': 44.9819673599659, 'longitude': -9...  NaN  (612) 331-4993   \n",
       "2   {'latitude': 45.012975, 'longitude': -93.263755}  NaN             NaN   \n",
       "3  {'latitude': 44.9835380660176, 'longitude': -9...  NaN  (612) 238-0050   \n",
       "4     {'latitude': 44.97916, 'longitude': -93.23471}  NaN  (612) 605-8960   \n",
       "\n",
       "  price  query_offset  rating           restaurant_id            transactions  \\\n",
       "0   NaN             1     5.0  6qn4Nt4frApZ2vn2rQerKg                      []   \n",
       "1     $             1     4.5  vi58lz0GLWITkg_r0WieNg  ['delivery', 'pickup']   \n",
       "2    $$             1     4.5  07VKEPjS7Juf2IB4jVa-wA            ['delivery']   \n",
       "3    $$             1     4.5  MDPv2B2jwA1qLvQCXlEVww            ['delivery']   \n",
       "4   NaN             1     5.0  VaEY4xoDh1Y5bvmvBb5Bug  ['delivery', 'pickup']   \n",
       "\n",
       "                                                 url  zip_code  \n",
       "0  https://www.yelp.com/biz/okome-house-minneapol...   55406.0  \n",
       "1  https://www.yelp.com/biz/kbop-korean-bistro-mi...   55414.0  \n",
       "2  https://www.yelp.com/biz/olive-and-lamb-minnea...   55418.0  \n",
       "3  https://www.yelp.com/biz/red-cow-minneapolis-m...   55401.0  \n",
       "4  https://www.yelp.com/biz/korean-bowl-minneapol...   55414.0  "
      ],
      "text/html": "<div>\n<style scoped>\n    .dataframe tbody tr th:only-of-type {\n        vertical-align: middle;\n    }\n\n    .dataframe tbody tr th {\n        vertical-align: top;\n    }\n\n    .dataframe thead th {\n        text-align: right;\n    }\n</style>\n<table border=\"1\" class=\"dataframe\">\n  <thead>\n    <tr style=\"text-align: right;\">\n      <th></th>\n      <th>address</th>\n      <th>categories</th>\n      <th>coordinates</th>\n      <th>name</th>\n      <th>phone</th>\n      <th>price</th>\n      <th>query_offset</th>\n      <th>rating</th>\n      <th>restaurant_id</th>\n      <th>transactions</th>\n      <th>url</th>\n      <th>zip_code</th>\n    </tr>\n  </thead>\n  <tbody>\n    <tr>\n      <th>0</th>\n      <td>NaN</td>\n      <td>[{'alias': 'japanese', 'title': 'Japanese'}]</td>\n      <td>{'latitude': 44.921699931935, 'longitude': -93...</td>\n      <td>NaN</td>\n      <td>NaN</td>\n      <td>NaN</td>\n      <td>1</td>\n      <td>5.0</td>\n      <td>6qn4Nt4frApZ2vn2rQerKg</td>\n      <td>[]</td>\n      <td>https://www.yelp.com/biz/okome-house-minneapol...</td>\n      <td>55406.0</td>\n    </tr>\n    <tr>\n      <th>1</th>\n      <td>NaN</td>\n      <td>[{'alias': 'korean', 'title': 'Korean'}]</td>\n      <td>{'latitude': 44.9819673599659, 'longitude': -9...</td>\n      <td>NaN</td>\n      <td>(612) 331-4993</td>\n      <td>$</td>\n      <td>1</td>\n      <td>4.5</td>\n      <td>vi58lz0GLWITkg_r0WieNg</td>\n      <td>['delivery', 'pickup']</td>\n      <td>https://www.yelp.com/biz/kbop-korean-bistro-mi...</td>\n      <td>55414.0</td>\n    </tr>\n    <tr>\n      <th>2</th>\n      <td>NaN</td>\n      <td>[{'alias': 'mediterranean', 'title': 'Mediterr...</td>\n      <td>{'latitude': 45.012975, 'longitude': -93.263755}</td>\n      <td>NaN</td>\n      <td>NaN</td>\n      <td>$$</td>\n      <td>1</td>\n      <td>4.5</td>\n      <td>07VKEPjS7Juf2IB4jVa-wA</td>\n      <td>['delivery']</td>\n      <td>https://www.yelp.com/biz/olive-and-lamb-minnea...</td>\n      <td>55418.0</td>\n    </tr>\n    <tr>\n      <th>3</th>\n      <td>NaN</td>\n      <td>[{'alias': 'newamerican', 'title': 'American (...</td>\n      <td>{'latitude': 44.9835380660176, 'longitude': -9...</td>\n      <td>NaN</td>\n      <td>(612) 238-0050</td>\n      <td>$$</td>\n      <td>1</td>\n      <td>4.5</td>\n      <td>MDPv2B2jwA1qLvQCXlEVww</td>\n      <td>['delivery']</td>\n      <td>https://www.yelp.com/biz/red-cow-minneapolis-m...</td>\n      <td>55401.0</td>\n    </tr>\n    <tr>\n      <th>4</th>\n      <td>NaN</td>\n      <td>[{'alias': 'korean', 'title': 'Korean'}]</td>\n      <td>{'latitude': 44.97916, 'longitude': -93.23471}</td>\n      <td>NaN</td>\n      <td>(612) 605-8960</td>\n      <td>NaN</td>\n      <td>1</td>\n      <td>5.0</td>\n      <td>VaEY4xoDh1Y5bvmvBb5Bug</td>\n      <td>['delivery', 'pickup']</td>\n      <td>https://www.yelp.com/biz/korean-bowl-minneapol...</td>\n      <td>55414.0</td>\n    </tr>\n  </tbody>\n</table>\n</div>"
     },
     "metadata": {},
     "execution_count": 41
    }
   ],
   "source": [
    "bus_df = pd.read_csv('data/business_data.csv')\n",
    "bus_df.head()"
   ]
  },
  {
   "cell_type": "code",
   "execution_count": 81,
   "metadata": {},
   "outputs": [
    {
     "output_type": "execute_result",
     "data": {
      "text/plain": [
       "                       price  rating  has_pickup  has_delivery\n",
       "name                                                          \n",
       "Okome House              NaN     5.0       False         False\n",
       "Kbop Korean Bistro       1.0     4.5        True          True\n",
       "Olive & Lamb             2.0     4.5       False          True\n",
       "Red Cow - Minneapolis    2.0     4.5       False          True\n",
       "Korean Bowl              NaN     5.0        True          True"
      ],
      "text/html": "<div>\n<style scoped>\n    .dataframe tbody tr th:only-of-type {\n        vertical-align: middle;\n    }\n\n    .dataframe tbody tr th {\n        vertical-align: top;\n    }\n\n    .dataframe thead th {\n        text-align: right;\n    }\n</style>\n<table border=\"1\" class=\"dataframe\">\n  <thead>\n    <tr style=\"text-align: right;\">\n      <th></th>\n      <th>price</th>\n      <th>rating</th>\n      <th>has_pickup</th>\n      <th>has_delivery</th>\n    </tr>\n    <tr>\n      <th>name</th>\n      <th></th>\n      <th></th>\n      <th></th>\n      <th></th>\n    </tr>\n  </thead>\n  <tbody>\n    <tr>\n      <th>Okome House</th>\n      <td>NaN</td>\n      <td>5.0</td>\n      <td>False</td>\n      <td>False</td>\n    </tr>\n    <tr>\n      <th>Kbop Korean Bistro</th>\n      <td>1.0</td>\n      <td>4.5</td>\n      <td>True</td>\n      <td>True</td>\n    </tr>\n    <tr>\n      <th>Olive &amp; Lamb</th>\n      <td>2.0</td>\n      <td>4.5</td>\n      <td>False</td>\n      <td>True</td>\n    </tr>\n    <tr>\n      <th>Red Cow - Minneapolis</th>\n      <td>2.0</td>\n      <td>4.5</td>\n      <td>False</td>\n      <td>True</td>\n    </tr>\n    <tr>\n      <th>Korean Bowl</th>\n      <td>NaN</td>\n      <td>5.0</td>\n      <td>True</td>\n      <td>True</td>\n    </tr>\n  </tbody>\n</table>\n</div>"
     },
     "metadata": {},
     "execution_count": 81
    }
   ],
   "source": [
    "# Preprocessing the restaurant-level features\n",
    "bus_df = pd.read_csv('data/business_data.csv')\n",
    "item_features = bus_df.loc[:, ['price', 'rating', 'transactions']]\n",
    "item_features.index = bus_df['name']\n",
    "item_features = item_features[~item_features.index.isnull()]\n",
    "item_features['has_pickup'] = item_features['transactions'].apply(lambda li: 'pickup' in li)\n",
    "item_features['has_delivery'] = item_features['transactions'].apply(lambda li: 'delivery' in li)\n",
    "item_features.drop('transactions', axis=1, inplace=True)\n",
    "def price_mapping(s):\n",
    "    d = {np.nan: np.nan, '$':1, '$$': 2, '$$$': 3, '$$$$': 4}\n",
    "    return d[s]\n",
    "item_features['price'] = item_features['price'].map(price_mapping)\n",
    "item_features.head()"
   ]
  },
  {
   "cell_type": "code",
   "execution_count": 79,
   "metadata": {},
   "outputs": [
    {
     "output_type": "execute_result",
     "data": {
      "text/plain": [
       "                       55104.0  55105.0  55108.0  55111.0  55112.0  55113.0  \\\n",
       "name                                                                          \n",
       "Okome House                NaN      NaN      NaN      NaN      NaN      NaN   \n",
       "Kbop Korean Bistro         NaN      NaN      NaN      NaN      NaN      NaN   \n",
       "Olive & Lamb               NaN      NaN      NaN      NaN      NaN      NaN   \n",
       "Red Cow - Minneapolis      NaN      NaN      NaN      NaN      NaN      NaN   \n",
       "Korean Bowl                NaN      NaN      NaN      NaN      NaN      NaN   \n",
       "\n",
       "                       55114.0  55116.0  55126.0  55150.0  ...  55439.0  \\\n",
       "name                                                       ...            \n",
       "Okome House                NaN      NaN      NaN      NaN  ...      NaN   \n",
       "Kbop Korean Bistro         NaN      NaN      NaN      NaN  ...      NaN   \n",
       "Olive & Lamb               NaN      NaN      NaN      NaN  ...      NaN   \n",
       "Red Cow - Minneapolis      NaN      NaN      NaN      NaN  ...      NaN   \n",
       "Korean Bowl                NaN      NaN      NaN      NaN  ...      NaN   \n",
       "\n",
       "                       55441.0  55454.0  55455.0  55456.0  55467.0  \\\n",
       "name                                                                 \n",
       "Okome House                NaN      NaN      NaN      NaN      NaN   \n",
       "Kbop Korean Bistro         NaN      NaN      NaN      NaN      NaN   \n",
       "Olive & Lamb               NaN      NaN      NaN      NaN      NaN   \n",
       "Red Cow - Minneapolis      NaN      NaN      NaN      NaN      NaN   \n",
       "Korean Bowl                NaN      NaN      NaN      NaN      NaN   \n",
       "\n",
       "                       has_delivery  has_pickup  price  rating  \n",
       "name                                                            \n",
       "Okome House                   False       False    NaN     5.0  \n",
       "Kbop Korean Bistro             True        True    1.0     4.5  \n",
       "Olive & Lamb                   True       False    2.0     4.5  \n",
       "Red Cow - Minneapolis          True       False    2.0     4.5  \n",
       "Korean Bowl                    True        True    NaN     5.0  \n",
       "\n",
       "[5 rows x 52 columns]"
      ],
      "text/html": "<div>\n<style scoped>\n    .dataframe tbody tr th:only-of-type {\n        vertical-align: middle;\n    }\n\n    .dataframe tbody tr th {\n        vertical-align: top;\n    }\n\n    .dataframe thead th {\n        text-align: right;\n    }\n</style>\n<table border=\"1\" class=\"dataframe\">\n  <thead>\n    <tr style=\"text-align: right;\">\n      <th></th>\n      <th>55104.0</th>\n      <th>55105.0</th>\n      <th>55108.0</th>\n      <th>55111.0</th>\n      <th>55112.0</th>\n      <th>55113.0</th>\n      <th>55114.0</th>\n      <th>55116.0</th>\n      <th>55126.0</th>\n      <th>55150.0</th>\n      <th>...</th>\n      <th>55439.0</th>\n      <th>55441.0</th>\n      <th>55454.0</th>\n      <th>55455.0</th>\n      <th>55456.0</th>\n      <th>55467.0</th>\n      <th>has_delivery</th>\n      <th>has_pickup</th>\n      <th>price</th>\n      <th>rating</th>\n    </tr>\n    <tr>\n      <th>name</th>\n      <th></th>\n      <th></th>\n      <th></th>\n      <th></th>\n      <th></th>\n      <th></th>\n      <th></th>\n      <th></th>\n      <th></th>\n      <th></th>\n      <th></th>\n      <th></th>\n      <th></th>\n      <th></th>\n      <th></th>\n      <th></th>\n      <th></th>\n      <th></th>\n      <th></th>\n      <th></th>\n      <th></th>\n    </tr>\n  </thead>\n  <tbody>\n    <tr>\n      <th>Okome House</th>\n      <td>NaN</td>\n      <td>NaN</td>\n      <td>NaN</td>\n      <td>NaN</td>\n      <td>NaN</td>\n      <td>NaN</td>\n      <td>NaN</td>\n      <td>NaN</td>\n      <td>NaN</td>\n      <td>NaN</td>\n      <td>...</td>\n      <td>NaN</td>\n      <td>NaN</td>\n      <td>NaN</td>\n      <td>NaN</td>\n      <td>NaN</td>\n      <td>NaN</td>\n      <td>False</td>\n      <td>False</td>\n      <td>NaN</td>\n      <td>5.0</td>\n    </tr>\n    <tr>\n      <th>Kbop Korean Bistro</th>\n      <td>NaN</td>\n      <td>NaN</td>\n      <td>NaN</td>\n      <td>NaN</td>\n      <td>NaN</td>\n      <td>NaN</td>\n      <td>NaN</td>\n      <td>NaN</td>\n      <td>NaN</td>\n      <td>NaN</td>\n      <td>...</td>\n      <td>NaN</td>\n      <td>NaN</td>\n      <td>NaN</td>\n      <td>NaN</td>\n      <td>NaN</td>\n      <td>NaN</td>\n      <td>True</td>\n      <td>True</td>\n      <td>1.0</td>\n      <td>4.5</td>\n    </tr>\n    <tr>\n      <th>Olive &amp; Lamb</th>\n      <td>NaN</td>\n      <td>NaN</td>\n      <td>NaN</td>\n      <td>NaN</td>\n      <td>NaN</td>\n      <td>NaN</td>\n      <td>NaN</td>\n      <td>NaN</td>\n      <td>NaN</td>\n      <td>NaN</td>\n      <td>...</td>\n      <td>NaN</td>\n      <td>NaN</td>\n      <td>NaN</td>\n      <td>NaN</td>\n      <td>NaN</td>\n      <td>NaN</td>\n      <td>True</td>\n      <td>False</td>\n      <td>2.0</td>\n      <td>4.5</td>\n    </tr>\n    <tr>\n      <th>Red Cow - Minneapolis</th>\n      <td>NaN</td>\n      <td>NaN</td>\n      <td>NaN</td>\n      <td>NaN</td>\n      <td>NaN</td>\n      <td>NaN</td>\n      <td>NaN</td>\n      <td>NaN</td>\n      <td>NaN</td>\n      <td>NaN</td>\n      <td>...</td>\n      <td>NaN</td>\n      <td>NaN</td>\n      <td>NaN</td>\n      <td>NaN</td>\n      <td>NaN</td>\n      <td>NaN</td>\n      <td>True</td>\n      <td>False</td>\n      <td>2.0</td>\n      <td>4.5</td>\n    </tr>\n    <tr>\n      <th>Korean Bowl</th>\n      <td>NaN</td>\n      <td>NaN</td>\n      <td>NaN</td>\n      <td>NaN</td>\n      <td>NaN</td>\n      <td>NaN</td>\n      <td>NaN</td>\n      <td>NaN</td>\n      <td>NaN</td>\n      <td>NaN</td>\n      <td>...</td>\n      <td>NaN</td>\n      <td>NaN</td>\n      <td>NaN</td>\n      <td>NaN</td>\n      <td>NaN</td>\n      <td>NaN</td>\n      <td>True</td>\n      <td>True</td>\n      <td>NaN</td>\n      <td>5.0</td>\n    </tr>\n  </tbody>\n</table>\n<p>5 rows × 52 columns</p>\n</div>"
     },
     "metadata": {},
     "execution_count": 79
    }
   ],
   "source": [
    "item_features.head()"
   ]
  },
  {
   "cell_type": "code",
   "execution_count": 67,
   "metadata": {},
   "outputs": [
    {
     "output_type": "execute_result",
     "data": {
      "text/plain": [
       "Index([       55104.0,        55105.0,        55108.0,        55111.0,\n",
       "              55112.0,        55113.0,        55114.0,        55116.0,\n",
       "              55126.0,        55150.0,        55305.0,        55343.0,\n",
       "              55344.0,        55401.0,        55402.0,        55403.0,\n",
       "              55404.0,        55405.0,        55406.0,        55407.0,\n",
       "              55408.0,        55409.0,        55410.0,        55411.0,\n",
       "              55412.0,        55413.0,        55414.0,        55415.0,\n",
       "              55416.0,        55417.0,        55418.0,        55419.0,\n",
       "              55421.0,        55422.0,        55423.0,        55424.0,\n",
       "              55426.0,        55427.0,        55428.0,        55429.0,\n",
       "              55430.0,        55435.0,        55439.0,        55441.0,\n",
       "              55454.0,        55455.0,        55456.0,        55467.0,\n",
       "         'categories', 'has_delivery',   'has_pickup',        'price',\n",
       "             'rating',     'zip_code'],\n",
       "      dtype='object')"
      ]
     },
     "metadata": {},
     "execution_count": 67
    }
   ],
   "source": [
    "#item_features = pd.concat([item_features, pd.get_dummies(item_features['zip_code'])])\n",
    "item_features.columns"
   ]
  },
  {
   "cell_type": "code",
   "execution_count": 9,
   "metadata": {},
   "outputs": [
    {
     "output_type": "execute_result",
     "data": {
      "text/plain": [
       "   address                                         categories  \\\n",
       "50     NaN       [{'alias': 'japanese', 'title': 'Japanese'}]   \n",
       "51     NaN           [{'alias': 'korean', 'title': 'Korean'}]   \n",
       "52     NaN  [{'alias': 'mediterranean', 'title': 'Mediterr...   \n",
       "53     NaN  [{'alias': 'newamerican', 'title': 'American (...   \n",
       "54     NaN           [{'alias': 'korean', 'title': 'Korean'}]   \n",
       "\n",
       "                                          coordinates                   name  \\\n",
       "50  {'latitude': 44.921699931935, 'longitude': -93...            Okome House   \n",
       "51  {'latitude': 44.9819673599659, 'longitude': -9...     Kbop Korean Bistro   \n",
       "52   {'latitude': 45.012975, 'longitude': -93.263755}           Olive & Lamb   \n",
       "53  {'latitude': 44.9835380660176, 'longitude': -9...  Red Cow - Minneapolis   \n",
       "54     {'latitude': 44.97916, 'longitude': -93.23471}            Korean Bowl   \n",
       "\n",
       "             phone price  query_offset  rating           restaurant_id  \\\n",
       "50             NaN   NaN             1     5.0  6qn4Nt4frApZ2vn2rQerKg   \n",
       "51  (612) 331-4993     $             1     4.5  vi58lz0GLWITkg_r0WieNg   \n",
       "52             NaN    $$             1     4.5  07VKEPjS7Juf2IB4jVa-wA   \n",
       "53  (612) 238-0050    $$             1     4.5  MDPv2B2jwA1qLvQCXlEVww   \n",
       "54  (612) 605-8960   NaN             1     5.0  VaEY4xoDh1Y5bvmvBb5Bug   \n",
       "\n",
       "              transactions                                                url  \\\n",
       "50                      []  https://www.yelp.com/biz/okome-house-minneapol...   \n",
       "51  ['pickup', 'delivery']  https://www.yelp.com/biz/kbop-korean-bistro-mi...   \n",
       "52            ['delivery']  https://www.yelp.com/biz/olive-and-lamb-minnea...   \n",
       "53            ['delivery']  https://www.yelp.com/biz/red-cow-minneapolis-m...   \n",
       "54  ['pickup', 'delivery']  https://www.yelp.com/biz/korean-bowl-minneapol...   \n",
       "\n",
       "    zip_code  \n",
       "50   55406.0  \n",
       "51   55414.0  \n",
       "52   55418.0  \n",
       "53   55401.0  \n",
       "54   55414.0  "
      ],
      "text/html": "<div>\n<style scoped>\n    .dataframe tbody tr th:only-of-type {\n        vertical-align: middle;\n    }\n\n    .dataframe tbody tr th {\n        vertical-align: top;\n    }\n\n    .dataframe thead th {\n        text-align: right;\n    }\n</style>\n<table border=\"1\" class=\"dataframe\">\n  <thead>\n    <tr style=\"text-align: right;\">\n      <th></th>\n      <th>address</th>\n      <th>categories</th>\n      <th>coordinates</th>\n      <th>name</th>\n      <th>phone</th>\n      <th>price</th>\n      <th>query_offset</th>\n      <th>rating</th>\n      <th>restaurant_id</th>\n      <th>transactions</th>\n      <th>url</th>\n      <th>zip_code</th>\n    </tr>\n  </thead>\n  <tbody>\n    <tr>\n      <th>50</th>\n      <td>NaN</td>\n      <td>[{'alias': 'japanese', 'title': 'Japanese'}]</td>\n      <td>{'latitude': 44.921699931935, 'longitude': -93...</td>\n      <td>Okome House</td>\n      <td>NaN</td>\n      <td>NaN</td>\n      <td>1</td>\n      <td>5.0</td>\n      <td>6qn4Nt4frApZ2vn2rQerKg</td>\n      <td>[]</td>\n      <td>https://www.yelp.com/biz/okome-house-minneapol...</td>\n      <td>55406.0</td>\n    </tr>\n    <tr>\n      <th>51</th>\n      <td>NaN</td>\n      <td>[{'alias': 'korean', 'title': 'Korean'}]</td>\n      <td>{'latitude': 44.9819673599659, 'longitude': -9...</td>\n      <td>Kbop Korean Bistro</td>\n      <td>(612) 331-4993</td>\n      <td>$</td>\n      <td>1</td>\n      <td>4.5</td>\n      <td>vi58lz0GLWITkg_r0WieNg</td>\n      <td>['pickup', 'delivery']</td>\n      <td>https://www.yelp.com/biz/kbop-korean-bistro-mi...</td>\n      <td>55414.0</td>\n    </tr>\n    <tr>\n      <th>52</th>\n      <td>NaN</td>\n      <td>[{'alias': 'mediterranean', 'title': 'Mediterr...</td>\n      <td>{'latitude': 45.012975, 'longitude': -93.263755}</td>\n      <td>Olive &amp; Lamb</td>\n      <td>NaN</td>\n      <td>$$</td>\n      <td>1</td>\n      <td>4.5</td>\n      <td>07VKEPjS7Juf2IB4jVa-wA</td>\n      <td>['delivery']</td>\n      <td>https://www.yelp.com/biz/olive-and-lamb-minnea...</td>\n      <td>55418.0</td>\n    </tr>\n    <tr>\n      <th>53</th>\n      <td>NaN</td>\n      <td>[{'alias': 'newamerican', 'title': 'American (...</td>\n      <td>{'latitude': 44.9835380660176, 'longitude': -9...</td>\n      <td>Red Cow - Minneapolis</td>\n      <td>(612) 238-0050</td>\n      <td>$$</td>\n      <td>1</td>\n      <td>4.5</td>\n      <td>MDPv2B2jwA1qLvQCXlEVww</td>\n      <td>['delivery']</td>\n      <td>https://www.yelp.com/biz/red-cow-minneapolis-m...</td>\n      <td>55401.0</td>\n    </tr>\n    <tr>\n      <th>54</th>\n      <td>NaN</td>\n      <td>[{'alias': 'korean', 'title': 'Korean'}]</td>\n      <td>{'latitude': 44.97916, 'longitude': -93.23471}</td>\n      <td>Korean Bowl</td>\n      <td>(612) 605-8960</td>\n      <td>NaN</td>\n      <td>1</td>\n      <td>5.0</td>\n      <td>VaEY4xoDh1Y5bvmvBb5Bug</td>\n      <td>['pickup', 'delivery']</td>\n      <td>https://www.yelp.com/biz/korean-bowl-minneapol...</td>\n      <td>55414.0</td>\n    </tr>\n  </tbody>\n</table>\n</div>"
     },
     "metadata": {},
     "execution_count": 9
    }
   ],
   "source": [
    "df = pd.read_csv('data/business_data.csv')\n",
    "df = df[~df.name.isnull()]\n",
    "df.head()"
   ]
  },
  {
   "cell_type": "code",
   "execution_count": 13,
   "metadata": {},
   "outputs": [
    {
     "output_type": "execute_result",
     "data": {
      "text/plain": [
       "(822, 12)"
      ]
     },
     "metadata": {},
     "execution_count": 13
    }
   ],
   "source": [
    "df.drop_duplicates(subset='name', keep='first', inplace=True)\n",
    "df.shape"
   ]
  },
  {
   "cell_type": "code",
   "execution_count": 14,
   "metadata": {},
   "outputs": [
    {
     "output_type": "stream",
     "name": "stdout",
     "text": [
      "name: Okome House, id_key: 6qn4Nt4frApZ2vn2rQerKg\n"
     ]
    },
    {
     "output_type": "execute_result",
     "data": {
      "text/plain": [
       "   rating                                             review  \\\n",
       "0       5  What a darling neighborhood spot! Lots of take...   \n",
       "1       5  Love the veggie curry and chicken karaage! Tas...   \n",
       "2       5  We have been waiting for this restaurant to op...   \n",
       "\n",
       "             timestamp               review_id  user_name  \\\n",
       "0  2020-09-03 19:42:33  lIfGtbTIs0iFY-FO2fTeXg    Teri M.   \n",
       "1  2020-09-29 08:08:39  glv_p4Ja9yFaIMF1rP4utg   Tiger H.   \n",
       "2  2020-08-29 17:32:02  6pwyJnB024AP2z9K4O1YsA  Maggie B.   \n",
       "\n",
       "                  user_id           restaurant_id restaurant_name  \n",
       "0  qsvF7iQ8kHKFqDo9HccYLA  6qn4Nt4frApZ2vn2rQerKg     Okome House  \n",
       "1  NJVkWqKTtaR3w9zOMl-zAw  6qn4Nt4frApZ2vn2rQerKg     Okome House  \n",
       "2  W08sB7PohxU0z3csKM8ihg  6qn4Nt4frApZ2vn2rQerKg     Okome House  "
      ],
      "text/html": "<div>\n<style scoped>\n    .dataframe tbody tr th:only-of-type {\n        vertical-align: middle;\n    }\n\n    .dataframe tbody tr th {\n        vertical-align: top;\n    }\n\n    .dataframe thead th {\n        text-align: right;\n    }\n</style>\n<table border=\"1\" class=\"dataframe\">\n  <thead>\n    <tr style=\"text-align: right;\">\n      <th></th>\n      <th>rating</th>\n      <th>review</th>\n      <th>timestamp</th>\n      <th>review_id</th>\n      <th>user_name</th>\n      <th>user_id</th>\n      <th>restaurant_id</th>\n      <th>restaurant_name</th>\n    </tr>\n  </thead>\n  <tbody>\n    <tr>\n      <th>0</th>\n      <td>5</td>\n      <td>What a darling neighborhood spot! Lots of take...</td>\n      <td>2020-09-03 19:42:33</td>\n      <td>lIfGtbTIs0iFY-FO2fTeXg</td>\n      <td>Teri M.</td>\n      <td>qsvF7iQ8kHKFqDo9HccYLA</td>\n      <td>6qn4Nt4frApZ2vn2rQerKg</td>\n      <td>Okome House</td>\n    </tr>\n    <tr>\n      <th>1</th>\n      <td>5</td>\n      <td>Love the veggie curry and chicken karaage! Tas...</td>\n      <td>2020-09-29 08:08:39</td>\n      <td>glv_p4Ja9yFaIMF1rP4utg</td>\n      <td>Tiger H.</td>\n      <td>NJVkWqKTtaR3w9zOMl-zAw</td>\n      <td>6qn4Nt4frApZ2vn2rQerKg</td>\n      <td>Okome House</td>\n    </tr>\n    <tr>\n      <th>2</th>\n      <td>5</td>\n      <td>We have been waiting for this restaurant to op...</td>\n      <td>2020-08-29 17:32:02</td>\n      <td>6pwyJnB024AP2z9K4O1YsA</td>\n      <td>Maggie B.</td>\n      <td>W08sB7PohxU0z3csKM8ihg</td>\n      <td>6qn4Nt4frApZ2vn2rQerKg</td>\n      <td>Okome House</td>\n    </tr>\n  </tbody>\n</table>\n</div>"
     },
     "metadata": {},
     "execution_count": 14
    }
   ],
   "source": [
    "name = df['name'].values[0]\n",
    "id_key = df['restaurant_id'].values[0]\n",
    "print(f'name: {name}, id_key: {id_key}')\n",
    "#review_response = query_review_api(id_key, api_key)\n",
    "review_df = make_review_df(review_response['reviews'], id_key, name)\n",
    "review_df.head()\n",
    "#all_reviews = pd.concat([all_reviews, review_df])"
   ]
  },
  {
   "cell_type": "code",
   "execution_count": 38,
   "metadata": {},
   "outputs": [],
   "source": [
    "review_df.to_csv('data/full_review_data.csv', index=False)"
   ]
  },
  {
   "cell_type": "code",
   "execution_count": 36,
   "metadata": {},
   "outputs": [
    {
     "output_type": "stream",
     "name": "stdout",
     "text": [
      "stopped loop at Caffrey's Deli & Subs, i = 492\n"
     ]
    }
   ],
   "source": [
    "for i in range(389,len(df)):\n",
    "    name, id_key = df['name'].values[i], df['restaurant_id'].values[i]\n",
    "    review_response = query_review_api(id_key, api_key)\n",
    "    try:\n",
    "        new_reviews = make_review_df(review_response['reviews'], id_key, name)\n",
    "    except:\n",
    "        print(f'stopped loop at {name}, i = {i}')\n",
    "        time.sleep(5)\n",
    "        continue\n",
    "    review_df = pd.concat([review_df, new_reviews])\n",
    "    time.sleep(1)"
   ]
  },
  {
   "cell_type": "code",
   "execution_count": 40,
   "metadata": {},
   "outputs": [
    {
     "output_type": "execute_result",
     "data": {
      "text/plain": [
       "   rating                                             review  \\\n",
       "0       5  What a darling neighborhood spot! Lots of take...   \n",
       "1       5  Love the veggie curry and chicken karaage! Tas...   \n",
       "2       5  We have been waiting for this restaurant to op...   \n",
       "0       5  This is the BEST Korean food place in MN! Even...   \n",
       "1       5  Love this place so much! I work close by so it...   \n",
       "2       5  This place takes social distancing very seriou...   \n",
       "0       5  This is the best Mediterranean food I have had...   \n",
       "1       5  Very cute little place with amazing food! We h...   \n",
       "2       5  One of my favorite Mediterranean restaurants! ...   \n",
       "0       5  I am so glad this restaurant is operating duri...   \n",
       "1       5  Have you tried Red Cow's takeout service yet? ...   \n",
       "2       5  We boomeranged back for Red Cow take out in No...   \n",
       "0       5  Ok I feel a little bad saying it since I do lo...   \n",
       "1       5  Ive been here a couple of times since they ope...   \n",
       "2       4  This place is located in a food court setting ...   \n",
       "0       5  Yum yum!  The Hawaiian chicken is so tasty.  S...   \n",
       "1       5  Young Man is a great new restaurant.  I ordere...   \n",
       "2       5  They are open for take out!!!  we loved Don Os...   \n",
       "0       5  Colita has quickly become one of my favorite p...   \n",
       "1       5  This was my first time at Colita. I just order...   \n",
       "2       5  Amazing food and the best cocktails. Staff is ...   \n",
       "0       5  Fuck, you guys. Everything here will melt and ...   \n",
       "1       5  I miss this restaurant more than most during C...   \n",
       "2       4  This was date night for me and the girlfriend ...   \n",
       "0       5  Hot Take: Twin Cities' best new food/drink spo...   \n",
       "1       3  Walking up to the window to order was a breeze...   \n",
       "0       5  A Minneapolis staple. Fastest phờ in the west!...   \n",
       "1       4  I'd been to the old Lotus in Uptown a couple o...   \n",
       "2       2  Rip off.\\nFood and staff are icky.\\nPrices are...   \n",
       "0       5  Always a delicious meal at 112 Eatery.  All th...   \n",
       "1       4  The food: always amazing; as it has been for 1...   \n",
       "2       4  I'm updating my rating since the menu has chan...   \n",
       "0       5  I made the happy mistake of running past Brasa...   \n",
       "1       5  Takeout Tuesday brought to you by Brasa! We we...   \n",
       "2       5  What an amazing dinner. Since it was pick up o...   \n",
       "0       5  Surly is doing an excellent job navigating the...   \n",
       "1       5  Surly is a great option for a relatively safe ...   \n",
       "2       5  Pretzel appetizer. Homemade pimento cheese and...   \n",
       "0       5  We picked up curbside to go and everything I o...   \n",
       "1       5  Saw George and the Dragon featured on DDD and ...   \n",
       "2       5  Still amazing, pandemic or no. Really everythi...   \n",
       "0       5  I'll start this off by saying I've uttered the...   \n",
       "1       5  First timers here and we were IMPRESSED. The f...   \n",
       "2       5  Some of the best fried chicken I've had, great...   \n",
       "0       4  Still a fan! I posted my first review where I ...   \n",
       "1       4  Covid times review....Went with a group of fou...   \n",
       "2       5  When my friend and I were planning were to go ...   \n",
       "0       5  A while back (pre-virus) a buddy and I managed...   \n",
       "1       5  We love young Joni! It is so hard to get a res...   \n",
       "2       5  I haven't been inside since maybe February?  B...   \n",
       "\n",
       "             timestamp               review_id     user_name  \\\n",
       "0  2020-09-03 19:42:33  lIfGtbTIs0iFY-FO2fTeXg       Teri M.   \n",
       "1  2020-09-29 08:08:39  glv_p4Ja9yFaIMF1rP4utg      Tiger H.   \n",
       "2  2020-08-29 17:32:02  6pwyJnB024AP2z9K4O1YsA     Maggie B.   \n",
       "0  2020-08-15 17:13:26  MJETH4iL5OFnuhZ3AdW_5A      Abbey C.   \n",
       "1  2020-07-12 12:35:56  LtBzaUimLaJeOEzoNkinAw      Anila Y.   \n",
       "2  2020-07-20 16:59:24  jCLad87USD9j7JI0bqnHqA     Lidiya L.   \n",
       "0  2020-10-11 12:38:13  qOMOAExF9XOTFGbNSMM9xg      Sarah K.   \n",
       "1  2020-08-24 14:48:54  KV8NZrIQi26lnJrsX8y4Og       Taya B.   \n",
       "2  2020-09-26 15:42:20  nVd-JCOX2GTw5IR9g5dpZQ      Sarah S.   \n",
       "0  2020-07-09 14:52:31  d9FB8U7ciSeP6LPQGK-PBw      Linda S.   \n",
       "1  2020-03-22 10:40:23  1qSVVXIg6D88XP4jiffrdw     Lorene F.   \n",
       "2  2020-04-04 08:25:29  qudGd-PxHb0F_kV2MVQJNw       Doug R.   \n",
       "0  2020-09-12 14:26:30  gzjh_fiDNYRTm6GmuXYG-g          j e.   \n",
       "1  2020-08-13 11:07:35  XyDCRA1aZFXfjFOgQFeKyA      Enock S.   \n",
       "2  2020-09-11 18:36:42  3C0ypHZKnBKl_Gcfq6kbmA     Tracee T.   \n",
       "0  2020-08-27 15:03:17  jlh7y08gwXbmPFPsaesdBw       Alex L.   \n",
       "1  2020-06-21 16:01:58  lp2rS737fhHCwxBovgJUmg      Kevin L.   \n",
       "2  2020-04-04 16:28:55  ONgNQAEZE5sB4M8LT3KooA    Michael N.   \n",
       "0  2020-09-11 10:12:27  r_GWOF8ZTTW4v4PShLkhLg      Chris M.   \n",
       "1  2020-09-19 21:29:14  Xy8TPQRs6_cxTVYSN6ECdQ      Janae J.   \n",
       "2  2020-08-22 10:22:48  v3amgthtJ_x_0h5w7049xA    Jessica B.   \n",
       "0  2020-10-07 19:09:09  D799KG1dx-Vf3zpZ5JreSQ    Annalee T.   \n",
       "1  2020-09-19 09:02:22  Sx78U_0np04cZwBYUIDZ4g     Ursula B.   \n",
       "2  2020-06-12 23:44:35  QswObuJ7dLFadPl_iPJcgA       Jack G.   \n",
       "0  2020-10-12 09:19:13  NzkDBrU-q7lLd2-7AYRxOQ      Marie C.   \n",
       "1  2020-09-07 01:50:44  xi3EQRkRIwZbSR6TK8yJ1w      Tysin D.   \n",
       "0  2020-10-21 15:09:19  on8-HBQXfoYQfp58xx6_Lg        Ben C.   \n",
       "1  2020-08-12 02:05:20  QK7dDel9lW7XknKZsq4Awg     Rodger B.   \n",
       "2  2020-06-29 22:52:15  S03AJtSAbBjgQIt0axXceA       Lisa H.   \n",
       "0  2020-10-16 06:59:55  KG7lVQvWQbBN4p7B7XMlhg      Joyce I.   \n",
       "1  2020-06-30 07:15:23  MYCNWMGp0e9iVN6I6SUIRg     Carter A.   \n",
       "2  2019-12-17 17:57:34  cLScUtpTn_0U0_x0ehsO6Q    Camille L.   \n",
       "0  2020-05-08 14:26:54  GfBVaFpRD1xLFq8UKtZopA      Aleah H.   \n",
       "1  2020-04-14 16:26:56  Fxglxx6p9k0wMWQk93G5sA      Tanea M.   \n",
       "2  2020-03-24 19:40:14  VYKlILsN27-sXIVCfQaI9A      Alija T.   \n",
       "0  2020-07-25 13:14:56  01zwoS1XLvXr6i4PeFSZ7w        Jay C.   \n",
       "1  2020-07-11 13:35:07  RDGwnxmCu_Ulbnva80FjSA      Alice M.   \n",
       "2  2020-07-31 16:05:01  Rsa7P9cQaLRvsjNuJp4waw          M P.   \n",
       "0  2020-10-22 07:41:02  LgOR46RQ6oYnkUv0D-m1zw   Rachelle P.   \n",
       "1  2020-08-14 19:00:29  hia3_i2OcZj_18v9LZ-wfg    Brandon J.   \n",
       "2  2020-08-21 11:18:38  0vUzpY5hZ7LB7N09yICwdg    S And B D.   \n",
       "0  2020-05-06 00:46:09  d-rq87rKdCi_YmnFHU5nWQ    Kristin B.   \n",
       "1  2020-03-23 18:21:41  UO3qPzf5lBfrz0laa7xP3A     Bailey A.   \n",
       "2  2020-06-11 00:02:32  WPI9Cz-gZQP7sV32gjPFng       Jack G.   \n",
       "0  2020-09-10 10:37:44  KPRrt1M_LW17ZfA_8pERxQ     Lauren S.   \n",
       "1  2020-08-15 09:01:42  MA5MevZF1-WCBBjZ7lvHJw  Christine P.   \n",
       "2  2020-08-02 15:49:16  6grpEo8k_nLDs2DIm5i4sw      Chris C.   \n",
       "0  2020-08-08 13:23:20  41ts-R-kPQZLTgcURw97cA       Kurt M.   \n",
       "1  2020-04-28 17:26:16  XwfpIKvo0xDKd3aEVTnHcA      Tanea M.   \n",
       "2  2020-10-12 18:00:12  91Owfq-2UMXqNyR9XfZ1BQ      Peggy V.   \n",
       "\n",
       "                  user_id           restaurant_id        restaurant_name  \n",
       "0  qsvF7iQ8kHKFqDo9HccYLA  6qn4Nt4frApZ2vn2rQerKg            Okome House  \n",
       "1  NJVkWqKTtaR3w9zOMl-zAw  6qn4Nt4frApZ2vn2rQerKg            Okome House  \n",
       "2  W08sB7PohxU0z3csKM8ihg  6qn4Nt4frApZ2vn2rQerKg            Okome House  \n",
       "0  gleOsBEFdHGQUJu9p0lijA  vi58lz0GLWITkg_r0WieNg     Kbop Korean Bistro  \n",
       "1  Cz_I-lkHk4wBQx7i3UN04A  vi58lz0GLWITkg_r0WieNg     Kbop Korean Bistro  \n",
       "2  k2lHZN8uJ84SrD2z85rcWA  vi58lz0GLWITkg_r0WieNg     Kbop Korean Bistro  \n",
       "0  TjQxvguf_kR3fQ8W5_OHzg  07VKEPjS7Juf2IB4jVa-wA           Olive & Lamb  \n",
       "1  zZUEQ6H7_cr4exhnhro2ZQ  07VKEPjS7Juf2IB4jVa-wA           Olive & Lamb  \n",
       "2  5UgTAODbiJ1P9Qo5V_8X4A  07VKEPjS7Juf2IB4jVa-wA           Olive & Lamb  \n",
       "0  1_i42G-exZoyBdCirzYWBQ  MDPv2B2jwA1qLvQCXlEVww  Red Cow - Minneapolis  \n",
       "1  VHtsWrs7l8d0Y-CBGDtRtw  MDPv2B2jwA1qLvQCXlEVww  Red Cow - Minneapolis  \n",
       "2  4POllbVXl-vaPtOlyn4esw  MDPv2B2jwA1qLvQCXlEVww  Red Cow - Minneapolis  \n",
       "0  binxGmKW0utpZVooa_dz4g  VaEY4xoDh1Y5bvmvBb5Bug            Korean Bowl  \n",
       "1  h1TcT01LP2-h2Fb6qYYVEw  VaEY4xoDh1Y5bvmvBb5Bug            Korean Bowl  \n",
       "2  _GKsGHL_jAj2BqVafdf57Q  VaEY4xoDh1Y5bvmvBb5Bug            Korean Bowl  \n",
       "0  8FzANiv-GyqHRmuTIcBpyw  Qfi2-C45fk48c0JG4gVXbA              Young Man  \n",
       "1  6HYmy9AWEdp-rfTtCKZUVw  Qfi2-C45fk48c0JG4gVXbA              Young Man  \n",
       "2  fz-I2NS5g2EoOI-69cxQKw  Qfi2-C45fk48c0JG4gVXbA              Young Man  \n",
       "0  Cu9HRGNj7EJH3bTA8xSwYQ  bGT4lTagoIC6hd5PnCyltA                 Colita  \n",
       "1  19nBAS3Ssf6n8whH4Am4tw  bGT4lTagoIC6hd5PnCyltA                 Colita  \n",
       "2  qZUJ1LL6vdV0Q9GaOSvXDg  bGT4lTagoIC6hd5PnCyltA                 Colita  \n",
       "0  iqS1mA7zdFEUIjz8KW5oVw  zv_XJAQr9D3PNR5eHYhC5w          Bar La Grassa  \n",
       "1  hHeyv-uAGMn3pyaswmkzrg  zv_XJAQr9D3PNR5eHYhC5w          Bar La Grassa  \n",
       "2  ftaFFF1-9md-nhm7QqhfrQ  zv_XJAQr9D3PNR5eHYhC5w          Bar La Grassa  \n",
       "0  KL9E6DK2Ir0da90Vq1XPAg  Q5QKCZfPmWEFAmYCaBC4Uw                    CHX  \n",
       "1  fpQAmJUGCDsEfEJqaK4Kjw  Q5QKCZfPmWEFAmYCaBC4Uw                    CHX  \n",
       "0  ZQIQR3fBCXJT0LgeA2sSWQ  rJY7EbVlXPXWgwojyEJq8w       Lotus Restaurant  \n",
       "1  kihCo1XD20PYmZggMsQVoQ  rJY7EbVlXPXWgwojyEJq8w       Lotus Restaurant  \n",
       "2  7AlB0irCGSv6ZTEwd_UiPQ  rJY7EbVlXPXWgwojyEJq8w       Lotus Restaurant  \n",
       "0  ttCKlOKicxWLchdl1qsMgQ  6vaAze9Fxuco249L3BhEdQ             112 Eatery  \n",
       "1  IyDE1kaZu4Ho5skVxe4Jmg  6vaAze9Fxuco249L3BhEdQ             112 Eatery  \n",
       "2  igergVbJAOzh7LvkkZfr4A  6vaAze9Fxuco249L3BhEdQ             112 Eatery  \n",
       "0  bDm2qEbHAA9qq2u_FR9zBA  Dx52kVp9UBzI4LuL-J4TWA       Brasa Rotisserie  \n",
       "1  YEQkKxZ4uhK7Oz3cJQVzgA  Dx52kVp9UBzI4LuL-J4TWA       Brasa Rotisserie  \n",
       "2  KxceI32nTv1rdL4GwpL5pw  Dx52kVp9UBzI4LuL-J4TWA       Brasa Rotisserie  \n",
       "0  RyjIPVmto35ZKxBQwrEV8w  G7iXpVSRuXzCbD2daJ_JYQ          Surly Brewing  \n",
       "1  GGdnMcaGNcmWrTVJmTcH4Q  G7iXpVSRuXzCbD2daJ_JYQ          Surly Brewing  \n",
       "2  mtxB_23HfrZTqQeIdhOFDw  G7iXpVSRuXzCbD2daJ_JYQ          Surly Brewing  \n",
       "0  ytfOX_Z5WkMfr2WMgUH_PA  5s2sT8ux7og5XfK-180r2g    George & The Dragon  \n",
       "1  Sg8jj6BO8AoGlKz54lHh8Q  5s2sT8ux7og5XfK-180r2g    George & The Dragon  \n",
       "2  2LgAn3XIW_wYubsTs3r-kQ  5s2sT8ux7og5XfK-180r2g    George & The Dragon  \n",
       "0  SyRtlHjGW7F25jJaZ4Wvhw  5K82sS0qi4hCnNXzc0mM3A                Revival  \n",
       "1  ochwvH4DdoXeHj5MCGv36A  5K82sS0qi4hCnNXzc0mM3A                Revival  \n",
       "2  ftaFFF1-9md-nhm7QqhfrQ  5K82sS0qi4hCnNXzc0mM3A                Revival  \n",
       "0  zQGqDZxdSn4ocCLneboUEA  fYlgTzLNx6bcaKAiHMG2wQ                HAI HAI  \n",
       "1  rCU809zN0QusVleJMjNiqA  fYlgTzLNx6bcaKAiHMG2wQ                HAI HAI  \n",
       "2  ryt0GszEzZFi6yLlAH_pKA  fYlgTzLNx6bcaKAiHMG2wQ                HAI HAI  \n",
       "0  -thw19l4MzVBAX1GMyKP7A  5Y2nekkwRrNMMSx3b-2EhA             Young Joni  \n",
       "1  YEQkKxZ4uhK7Oz3cJQVzgA  5Y2nekkwRrNMMSx3b-2EhA             Young Joni  \n",
       "2  PZOIHeULGKze05SgtY1bEg  5Y2nekkwRrNMMSx3b-2EhA             Young Joni  "
      ],
      "text/html": "<div>\n<style scoped>\n    .dataframe tbody tr th:only-of-type {\n        vertical-align: middle;\n    }\n\n    .dataframe tbody tr th {\n        vertical-align: top;\n    }\n\n    .dataframe thead th {\n        text-align: right;\n    }\n</style>\n<table border=\"1\" class=\"dataframe\">\n  <thead>\n    <tr style=\"text-align: right;\">\n      <th></th>\n      <th>rating</th>\n      <th>review</th>\n      <th>timestamp</th>\n      <th>review_id</th>\n      <th>user_name</th>\n      <th>user_id</th>\n      <th>restaurant_id</th>\n      <th>restaurant_name</th>\n    </tr>\n  </thead>\n  <tbody>\n    <tr>\n      <th>0</th>\n      <td>5</td>\n      <td>What a darling neighborhood spot! Lots of take...</td>\n      <td>2020-09-03 19:42:33</td>\n      <td>lIfGtbTIs0iFY-FO2fTeXg</td>\n      <td>Teri M.</td>\n      <td>qsvF7iQ8kHKFqDo9HccYLA</td>\n      <td>6qn4Nt4frApZ2vn2rQerKg</td>\n      <td>Okome House</td>\n    </tr>\n    <tr>\n      <th>1</th>\n      <td>5</td>\n      <td>Love the veggie curry and chicken karaage! Tas...</td>\n      <td>2020-09-29 08:08:39</td>\n      <td>glv_p4Ja9yFaIMF1rP4utg</td>\n      <td>Tiger H.</td>\n      <td>NJVkWqKTtaR3w9zOMl-zAw</td>\n      <td>6qn4Nt4frApZ2vn2rQerKg</td>\n      <td>Okome House</td>\n    </tr>\n    <tr>\n      <th>2</th>\n      <td>5</td>\n      <td>We have been waiting for this restaurant to op...</td>\n      <td>2020-08-29 17:32:02</td>\n      <td>6pwyJnB024AP2z9K4O1YsA</td>\n      <td>Maggie B.</td>\n      <td>W08sB7PohxU0z3csKM8ihg</td>\n      <td>6qn4Nt4frApZ2vn2rQerKg</td>\n      <td>Okome House</td>\n    </tr>\n    <tr>\n      <th>0</th>\n      <td>5</td>\n      <td>This is the BEST Korean food place in MN! Even...</td>\n      <td>2020-08-15 17:13:26</td>\n      <td>MJETH4iL5OFnuhZ3AdW_5A</td>\n      <td>Abbey C.</td>\n      <td>gleOsBEFdHGQUJu9p0lijA</td>\n      <td>vi58lz0GLWITkg_r0WieNg</td>\n      <td>Kbop Korean Bistro</td>\n    </tr>\n    <tr>\n      <th>1</th>\n      <td>5</td>\n      <td>Love this place so much! I work close by so it...</td>\n      <td>2020-07-12 12:35:56</td>\n      <td>LtBzaUimLaJeOEzoNkinAw</td>\n      <td>Anila Y.</td>\n      <td>Cz_I-lkHk4wBQx7i3UN04A</td>\n      <td>vi58lz0GLWITkg_r0WieNg</td>\n      <td>Kbop Korean Bistro</td>\n    </tr>\n    <tr>\n      <th>2</th>\n      <td>5</td>\n      <td>This place takes social distancing very seriou...</td>\n      <td>2020-07-20 16:59:24</td>\n      <td>jCLad87USD9j7JI0bqnHqA</td>\n      <td>Lidiya L.</td>\n      <td>k2lHZN8uJ84SrD2z85rcWA</td>\n      <td>vi58lz0GLWITkg_r0WieNg</td>\n      <td>Kbop Korean Bistro</td>\n    </tr>\n    <tr>\n      <th>0</th>\n      <td>5</td>\n      <td>This is the best Mediterranean food I have had...</td>\n      <td>2020-10-11 12:38:13</td>\n      <td>qOMOAExF9XOTFGbNSMM9xg</td>\n      <td>Sarah K.</td>\n      <td>TjQxvguf_kR3fQ8W5_OHzg</td>\n      <td>07VKEPjS7Juf2IB4jVa-wA</td>\n      <td>Olive &amp; Lamb</td>\n    </tr>\n    <tr>\n      <th>1</th>\n      <td>5</td>\n      <td>Very cute little place with amazing food! We h...</td>\n      <td>2020-08-24 14:48:54</td>\n      <td>KV8NZrIQi26lnJrsX8y4Og</td>\n      <td>Taya B.</td>\n      <td>zZUEQ6H7_cr4exhnhro2ZQ</td>\n      <td>07VKEPjS7Juf2IB4jVa-wA</td>\n      <td>Olive &amp; Lamb</td>\n    </tr>\n    <tr>\n      <th>2</th>\n      <td>5</td>\n      <td>One of my favorite Mediterranean restaurants! ...</td>\n      <td>2020-09-26 15:42:20</td>\n      <td>nVd-JCOX2GTw5IR9g5dpZQ</td>\n      <td>Sarah S.</td>\n      <td>5UgTAODbiJ1P9Qo5V_8X4A</td>\n      <td>07VKEPjS7Juf2IB4jVa-wA</td>\n      <td>Olive &amp; Lamb</td>\n    </tr>\n    <tr>\n      <th>0</th>\n      <td>5</td>\n      <td>I am so glad this restaurant is operating duri...</td>\n      <td>2020-07-09 14:52:31</td>\n      <td>d9FB8U7ciSeP6LPQGK-PBw</td>\n      <td>Linda S.</td>\n      <td>1_i42G-exZoyBdCirzYWBQ</td>\n      <td>MDPv2B2jwA1qLvQCXlEVww</td>\n      <td>Red Cow - Minneapolis</td>\n    </tr>\n    <tr>\n      <th>1</th>\n      <td>5</td>\n      <td>Have you tried Red Cow's takeout service yet? ...</td>\n      <td>2020-03-22 10:40:23</td>\n      <td>1qSVVXIg6D88XP4jiffrdw</td>\n      <td>Lorene F.</td>\n      <td>VHtsWrs7l8d0Y-CBGDtRtw</td>\n      <td>MDPv2B2jwA1qLvQCXlEVww</td>\n      <td>Red Cow - Minneapolis</td>\n    </tr>\n    <tr>\n      <th>2</th>\n      <td>5</td>\n      <td>We boomeranged back for Red Cow take out in No...</td>\n      <td>2020-04-04 08:25:29</td>\n      <td>qudGd-PxHb0F_kV2MVQJNw</td>\n      <td>Doug R.</td>\n      <td>4POllbVXl-vaPtOlyn4esw</td>\n      <td>MDPv2B2jwA1qLvQCXlEVww</td>\n      <td>Red Cow - Minneapolis</td>\n    </tr>\n    <tr>\n      <th>0</th>\n      <td>5</td>\n      <td>Ok I feel a little bad saying it since I do lo...</td>\n      <td>2020-09-12 14:26:30</td>\n      <td>gzjh_fiDNYRTm6GmuXYG-g</td>\n      <td>j e.</td>\n      <td>binxGmKW0utpZVooa_dz4g</td>\n      <td>VaEY4xoDh1Y5bvmvBb5Bug</td>\n      <td>Korean Bowl</td>\n    </tr>\n    <tr>\n      <th>1</th>\n      <td>5</td>\n      <td>Ive been here a couple of times since they ope...</td>\n      <td>2020-08-13 11:07:35</td>\n      <td>XyDCRA1aZFXfjFOgQFeKyA</td>\n      <td>Enock S.</td>\n      <td>h1TcT01LP2-h2Fb6qYYVEw</td>\n      <td>VaEY4xoDh1Y5bvmvBb5Bug</td>\n      <td>Korean Bowl</td>\n    </tr>\n    <tr>\n      <th>2</th>\n      <td>4</td>\n      <td>This place is located in a food court setting ...</td>\n      <td>2020-09-11 18:36:42</td>\n      <td>3C0ypHZKnBKl_Gcfq6kbmA</td>\n      <td>Tracee T.</td>\n      <td>_GKsGHL_jAj2BqVafdf57Q</td>\n      <td>VaEY4xoDh1Y5bvmvBb5Bug</td>\n      <td>Korean Bowl</td>\n    </tr>\n    <tr>\n      <th>0</th>\n      <td>5</td>\n      <td>Yum yum!  The Hawaiian chicken is so tasty.  S...</td>\n      <td>2020-08-27 15:03:17</td>\n      <td>jlh7y08gwXbmPFPsaesdBw</td>\n      <td>Alex L.</td>\n      <td>8FzANiv-GyqHRmuTIcBpyw</td>\n      <td>Qfi2-C45fk48c0JG4gVXbA</td>\n      <td>Young Man</td>\n    </tr>\n    <tr>\n      <th>1</th>\n      <td>5</td>\n      <td>Young Man is a great new restaurant.  I ordere...</td>\n      <td>2020-06-21 16:01:58</td>\n      <td>lp2rS737fhHCwxBovgJUmg</td>\n      <td>Kevin L.</td>\n      <td>6HYmy9AWEdp-rfTtCKZUVw</td>\n      <td>Qfi2-C45fk48c0JG4gVXbA</td>\n      <td>Young Man</td>\n    </tr>\n    <tr>\n      <th>2</th>\n      <td>5</td>\n      <td>They are open for take out!!!  we loved Don Os...</td>\n      <td>2020-04-04 16:28:55</td>\n      <td>ONgNQAEZE5sB4M8LT3KooA</td>\n      <td>Michael N.</td>\n      <td>fz-I2NS5g2EoOI-69cxQKw</td>\n      <td>Qfi2-C45fk48c0JG4gVXbA</td>\n      <td>Young Man</td>\n    </tr>\n    <tr>\n      <th>0</th>\n      <td>5</td>\n      <td>Colita has quickly become one of my favorite p...</td>\n      <td>2020-09-11 10:12:27</td>\n      <td>r_GWOF8ZTTW4v4PShLkhLg</td>\n      <td>Chris M.</td>\n      <td>Cu9HRGNj7EJH3bTA8xSwYQ</td>\n      <td>bGT4lTagoIC6hd5PnCyltA</td>\n      <td>Colita</td>\n    </tr>\n    <tr>\n      <th>1</th>\n      <td>5</td>\n      <td>This was my first time at Colita. I just order...</td>\n      <td>2020-09-19 21:29:14</td>\n      <td>Xy8TPQRs6_cxTVYSN6ECdQ</td>\n      <td>Janae J.</td>\n      <td>19nBAS3Ssf6n8whH4Am4tw</td>\n      <td>bGT4lTagoIC6hd5PnCyltA</td>\n      <td>Colita</td>\n    </tr>\n    <tr>\n      <th>2</th>\n      <td>5</td>\n      <td>Amazing food and the best cocktails. Staff is ...</td>\n      <td>2020-08-22 10:22:48</td>\n      <td>v3amgthtJ_x_0h5w7049xA</td>\n      <td>Jessica B.</td>\n      <td>qZUJ1LL6vdV0Q9GaOSvXDg</td>\n      <td>bGT4lTagoIC6hd5PnCyltA</td>\n      <td>Colita</td>\n    </tr>\n    <tr>\n      <th>0</th>\n      <td>5</td>\n      <td>Fuck, you guys. Everything here will melt and ...</td>\n      <td>2020-10-07 19:09:09</td>\n      <td>D799KG1dx-Vf3zpZ5JreSQ</td>\n      <td>Annalee T.</td>\n      <td>iqS1mA7zdFEUIjz8KW5oVw</td>\n      <td>zv_XJAQr9D3PNR5eHYhC5w</td>\n      <td>Bar La Grassa</td>\n    </tr>\n    <tr>\n      <th>1</th>\n      <td>5</td>\n      <td>I miss this restaurant more than most during C...</td>\n      <td>2020-09-19 09:02:22</td>\n      <td>Sx78U_0np04cZwBYUIDZ4g</td>\n      <td>Ursula B.</td>\n      <td>hHeyv-uAGMn3pyaswmkzrg</td>\n      <td>zv_XJAQr9D3PNR5eHYhC5w</td>\n      <td>Bar La Grassa</td>\n    </tr>\n    <tr>\n      <th>2</th>\n      <td>4</td>\n      <td>This was date night for me and the girlfriend ...</td>\n      <td>2020-06-12 23:44:35</td>\n      <td>QswObuJ7dLFadPl_iPJcgA</td>\n      <td>Jack G.</td>\n      <td>ftaFFF1-9md-nhm7QqhfrQ</td>\n      <td>zv_XJAQr9D3PNR5eHYhC5w</td>\n      <td>Bar La Grassa</td>\n    </tr>\n    <tr>\n      <th>0</th>\n      <td>5</td>\n      <td>Hot Take: Twin Cities' best new food/drink spo...</td>\n      <td>2020-10-12 09:19:13</td>\n      <td>NzkDBrU-q7lLd2-7AYRxOQ</td>\n      <td>Marie C.</td>\n      <td>KL9E6DK2Ir0da90Vq1XPAg</td>\n      <td>Q5QKCZfPmWEFAmYCaBC4Uw</td>\n      <td>CHX</td>\n    </tr>\n    <tr>\n      <th>1</th>\n      <td>3</td>\n      <td>Walking up to the window to order was a breeze...</td>\n      <td>2020-09-07 01:50:44</td>\n      <td>xi3EQRkRIwZbSR6TK8yJ1w</td>\n      <td>Tysin D.</td>\n      <td>fpQAmJUGCDsEfEJqaK4Kjw</td>\n      <td>Q5QKCZfPmWEFAmYCaBC4Uw</td>\n      <td>CHX</td>\n    </tr>\n    <tr>\n      <th>0</th>\n      <td>5</td>\n      <td>A Minneapolis staple. Fastest phờ in the west!...</td>\n      <td>2020-10-21 15:09:19</td>\n      <td>on8-HBQXfoYQfp58xx6_Lg</td>\n      <td>Ben C.</td>\n      <td>ZQIQR3fBCXJT0LgeA2sSWQ</td>\n      <td>rJY7EbVlXPXWgwojyEJq8w</td>\n      <td>Lotus Restaurant</td>\n    </tr>\n    <tr>\n      <th>1</th>\n      <td>4</td>\n      <td>I'd been to the old Lotus in Uptown a couple o...</td>\n      <td>2020-08-12 02:05:20</td>\n      <td>QK7dDel9lW7XknKZsq4Awg</td>\n      <td>Rodger B.</td>\n      <td>kihCo1XD20PYmZggMsQVoQ</td>\n      <td>rJY7EbVlXPXWgwojyEJq8w</td>\n      <td>Lotus Restaurant</td>\n    </tr>\n    <tr>\n      <th>2</th>\n      <td>2</td>\n      <td>Rip off.\\nFood and staff are icky.\\nPrices are...</td>\n      <td>2020-06-29 22:52:15</td>\n      <td>S03AJtSAbBjgQIt0axXceA</td>\n      <td>Lisa H.</td>\n      <td>7AlB0irCGSv6ZTEwd_UiPQ</td>\n      <td>rJY7EbVlXPXWgwojyEJq8w</td>\n      <td>Lotus Restaurant</td>\n    </tr>\n    <tr>\n      <th>0</th>\n      <td>5</td>\n      <td>Always a delicious meal at 112 Eatery.  All th...</td>\n      <td>2020-10-16 06:59:55</td>\n      <td>KG7lVQvWQbBN4p7B7XMlhg</td>\n      <td>Joyce I.</td>\n      <td>ttCKlOKicxWLchdl1qsMgQ</td>\n      <td>6vaAze9Fxuco249L3BhEdQ</td>\n      <td>112 Eatery</td>\n    </tr>\n    <tr>\n      <th>1</th>\n      <td>4</td>\n      <td>The food: always amazing; as it has been for 1...</td>\n      <td>2020-06-30 07:15:23</td>\n      <td>MYCNWMGp0e9iVN6I6SUIRg</td>\n      <td>Carter A.</td>\n      <td>IyDE1kaZu4Ho5skVxe4Jmg</td>\n      <td>6vaAze9Fxuco249L3BhEdQ</td>\n      <td>112 Eatery</td>\n    </tr>\n    <tr>\n      <th>2</th>\n      <td>4</td>\n      <td>I'm updating my rating since the menu has chan...</td>\n      <td>2019-12-17 17:57:34</td>\n      <td>cLScUtpTn_0U0_x0ehsO6Q</td>\n      <td>Camille L.</td>\n      <td>igergVbJAOzh7LvkkZfr4A</td>\n      <td>6vaAze9Fxuco249L3BhEdQ</td>\n      <td>112 Eatery</td>\n    </tr>\n    <tr>\n      <th>0</th>\n      <td>5</td>\n      <td>I made the happy mistake of running past Brasa...</td>\n      <td>2020-05-08 14:26:54</td>\n      <td>GfBVaFpRD1xLFq8UKtZopA</td>\n      <td>Aleah H.</td>\n      <td>bDm2qEbHAA9qq2u_FR9zBA</td>\n      <td>Dx52kVp9UBzI4LuL-J4TWA</td>\n      <td>Brasa Rotisserie</td>\n    </tr>\n    <tr>\n      <th>1</th>\n      <td>5</td>\n      <td>Takeout Tuesday brought to you by Brasa! We we...</td>\n      <td>2020-04-14 16:26:56</td>\n      <td>Fxglxx6p9k0wMWQk93G5sA</td>\n      <td>Tanea M.</td>\n      <td>YEQkKxZ4uhK7Oz3cJQVzgA</td>\n      <td>Dx52kVp9UBzI4LuL-J4TWA</td>\n      <td>Brasa Rotisserie</td>\n    </tr>\n    <tr>\n      <th>2</th>\n      <td>5</td>\n      <td>What an amazing dinner. Since it was pick up o...</td>\n      <td>2020-03-24 19:40:14</td>\n      <td>VYKlILsN27-sXIVCfQaI9A</td>\n      <td>Alija T.</td>\n      <td>KxceI32nTv1rdL4GwpL5pw</td>\n      <td>Dx52kVp9UBzI4LuL-J4TWA</td>\n      <td>Brasa Rotisserie</td>\n    </tr>\n    <tr>\n      <th>0</th>\n      <td>5</td>\n      <td>Surly is doing an excellent job navigating the...</td>\n      <td>2020-07-25 13:14:56</td>\n      <td>01zwoS1XLvXr6i4PeFSZ7w</td>\n      <td>Jay C.</td>\n      <td>RyjIPVmto35ZKxBQwrEV8w</td>\n      <td>G7iXpVSRuXzCbD2daJ_JYQ</td>\n      <td>Surly Brewing</td>\n    </tr>\n    <tr>\n      <th>1</th>\n      <td>5</td>\n      <td>Surly is a great option for a relatively safe ...</td>\n      <td>2020-07-11 13:35:07</td>\n      <td>RDGwnxmCu_Ulbnva80FjSA</td>\n      <td>Alice M.</td>\n      <td>GGdnMcaGNcmWrTVJmTcH4Q</td>\n      <td>G7iXpVSRuXzCbD2daJ_JYQ</td>\n      <td>Surly Brewing</td>\n    </tr>\n    <tr>\n      <th>2</th>\n      <td>5</td>\n      <td>Pretzel appetizer. Homemade pimento cheese and...</td>\n      <td>2020-07-31 16:05:01</td>\n      <td>Rsa7P9cQaLRvsjNuJp4waw</td>\n      <td>M P.</td>\n      <td>mtxB_23HfrZTqQeIdhOFDw</td>\n      <td>G7iXpVSRuXzCbD2daJ_JYQ</td>\n      <td>Surly Brewing</td>\n    </tr>\n    <tr>\n      <th>0</th>\n      <td>5</td>\n      <td>We picked up curbside to go and everything I o...</td>\n      <td>2020-10-22 07:41:02</td>\n      <td>LgOR46RQ6oYnkUv0D-m1zw</td>\n      <td>Rachelle P.</td>\n      <td>ytfOX_Z5WkMfr2WMgUH_PA</td>\n      <td>5s2sT8ux7og5XfK-180r2g</td>\n      <td>George &amp; The Dragon</td>\n    </tr>\n    <tr>\n      <th>1</th>\n      <td>5</td>\n      <td>Saw George and the Dragon featured on DDD and ...</td>\n      <td>2020-08-14 19:00:29</td>\n      <td>hia3_i2OcZj_18v9LZ-wfg</td>\n      <td>Brandon J.</td>\n      <td>Sg8jj6BO8AoGlKz54lHh8Q</td>\n      <td>5s2sT8ux7og5XfK-180r2g</td>\n      <td>George &amp; The Dragon</td>\n    </tr>\n    <tr>\n      <th>2</th>\n      <td>5</td>\n      <td>Still amazing, pandemic or no. Really everythi...</td>\n      <td>2020-08-21 11:18:38</td>\n      <td>0vUzpY5hZ7LB7N09yICwdg</td>\n      <td>S And B D.</td>\n      <td>2LgAn3XIW_wYubsTs3r-kQ</td>\n      <td>5s2sT8ux7og5XfK-180r2g</td>\n      <td>George &amp; The Dragon</td>\n    </tr>\n    <tr>\n      <th>0</th>\n      <td>5</td>\n      <td>I'll start this off by saying I've uttered the...</td>\n      <td>2020-05-06 00:46:09</td>\n      <td>d-rq87rKdCi_YmnFHU5nWQ</td>\n      <td>Kristin B.</td>\n      <td>SyRtlHjGW7F25jJaZ4Wvhw</td>\n      <td>5K82sS0qi4hCnNXzc0mM3A</td>\n      <td>Revival</td>\n    </tr>\n    <tr>\n      <th>1</th>\n      <td>5</td>\n      <td>First timers here and we were IMPRESSED. The f...</td>\n      <td>2020-03-23 18:21:41</td>\n      <td>UO3qPzf5lBfrz0laa7xP3A</td>\n      <td>Bailey A.</td>\n      <td>ochwvH4DdoXeHj5MCGv36A</td>\n      <td>5K82sS0qi4hCnNXzc0mM3A</td>\n      <td>Revival</td>\n    </tr>\n    <tr>\n      <th>2</th>\n      <td>5</td>\n      <td>Some of the best fried chicken I've had, great...</td>\n      <td>2020-06-11 00:02:32</td>\n      <td>WPI9Cz-gZQP7sV32gjPFng</td>\n      <td>Jack G.</td>\n      <td>ftaFFF1-9md-nhm7QqhfrQ</td>\n      <td>5K82sS0qi4hCnNXzc0mM3A</td>\n      <td>Revival</td>\n    </tr>\n    <tr>\n      <th>0</th>\n      <td>4</td>\n      <td>Still a fan! I posted my first review where I ...</td>\n      <td>2020-09-10 10:37:44</td>\n      <td>KPRrt1M_LW17ZfA_8pERxQ</td>\n      <td>Lauren S.</td>\n      <td>zQGqDZxdSn4ocCLneboUEA</td>\n      <td>fYlgTzLNx6bcaKAiHMG2wQ</td>\n      <td>HAI HAI</td>\n    </tr>\n    <tr>\n      <th>1</th>\n      <td>4</td>\n      <td>Covid times review....Went with a group of fou...</td>\n      <td>2020-08-15 09:01:42</td>\n      <td>MA5MevZF1-WCBBjZ7lvHJw</td>\n      <td>Christine P.</td>\n      <td>rCU809zN0QusVleJMjNiqA</td>\n      <td>fYlgTzLNx6bcaKAiHMG2wQ</td>\n      <td>HAI HAI</td>\n    </tr>\n    <tr>\n      <th>2</th>\n      <td>5</td>\n      <td>When my friend and I were planning were to go ...</td>\n      <td>2020-08-02 15:49:16</td>\n      <td>6grpEo8k_nLDs2DIm5i4sw</td>\n      <td>Chris C.</td>\n      <td>ryt0GszEzZFi6yLlAH_pKA</td>\n      <td>fYlgTzLNx6bcaKAiHMG2wQ</td>\n      <td>HAI HAI</td>\n    </tr>\n    <tr>\n      <th>0</th>\n      <td>5</td>\n      <td>A while back (pre-virus) a buddy and I managed...</td>\n      <td>2020-08-08 13:23:20</td>\n      <td>41ts-R-kPQZLTgcURw97cA</td>\n      <td>Kurt M.</td>\n      <td>-thw19l4MzVBAX1GMyKP7A</td>\n      <td>5Y2nekkwRrNMMSx3b-2EhA</td>\n      <td>Young Joni</td>\n    </tr>\n    <tr>\n      <th>1</th>\n      <td>5</td>\n      <td>We love young Joni! It is so hard to get a res...</td>\n      <td>2020-04-28 17:26:16</td>\n      <td>XwfpIKvo0xDKd3aEVTnHcA</td>\n      <td>Tanea M.</td>\n      <td>YEQkKxZ4uhK7Oz3cJQVzgA</td>\n      <td>5Y2nekkwRrNMMSx3b-2EhA</td>\n      <td>Young Joni</td>\n    </tr>\n    <tr>\n      <th>2</th>\n      <td>5</td>\n      <td>I haven't been inside since maybe February?  B...</td>\n      <td>2020-10-12 18:00:12</td>\n      <td>91Owfq-2UMXqNyR9XfZ1BQ</td>\n      <td>Peggy V.</td>\n      <td>PZOIHeULGKze05SgtY1bEg</td>\n      <td>5Y2nekkwRrNMMSx3b-2EhA</td>\n      <td>Young Joni</td>\n    </tr>\n  </tbody>\n</table>\n</div>"
     },
     "metadata": {},
     "execution_count": 40
    }
   ],
   "source": [
    "review_df.head(50)"
   ]
  },
  {
   "cell_type": "code",
   "execution_count": 48,
   "metadata": {},
   "outputs": [
    {
     "output_type": "execute_result",
     "data": {
      "text/plain": [
       "149"
      ]
     },
     "metadata": {},
     "execution_count": 48
    }
   ],
   "source": [
    "review_df = pd.read_csv('data/review_data.csv')\n",
    "len(review_df)\n",
    "\n"
   ]
  },
  {
   "cell_type": "code",
   "execution_count": 5,
   "metadata": {},
   "outputs": [
    {
     "output_type": "execute_result",
     "data": {
      "text/plain": [
       "   rating                                             review  \\\n",
       "0       5  What a darling neighborhood spot! Lots of take...   \n",
       "1       5  Love the veggie curry and chicken karaage! Tas...   \n",
       "2       5  We have been waiting for this restaurant to op...   \n",
       "\n",
       "             timestamp           restaurant_id  user_name  \\\n",
       "0  2020-09-03 19:42:33  lIfGtbTIs0iFY-FO2fTeXg    Teri M.   \n",
       "1  2020-09-29 08:08:39  glv_p4Ja9yFaIMF1rP4utg   Tiger H.   \n",
       "2  2020-08-29 17:32:02  6pwyJnB024AP2z9K4O1YsA  Maggie B.   \n",
       "\n",
       "                  user_id  \n",
       "0  qsvF7iQ8kHKFqDo9HccYLA  \n",
       "1  NJVkWqKTtaR3w9zOMl-zAw  \n",
       "2  W08sB7PohxU0z3csKM8ihg  "
      ],
      "text/html": "<div>\n<style scoped>\n    .dataframe tbody tr th:only-of-type {\n        vertical-align: middle;\n    }\n\n    .dataframe tbody tr th {\n        vertical-align: top;\n    }\n\n    .dataframe thead th {\n        text-align: right;\n    }\n</style>\n<table border=\"1\" class=\"dataframe\">\n  <thead>\n    <tr style=\"text-align: right;\">\n      <th></th>\n      <th>rating</th>\n      <th>review</th>\n      <th>timestamp</th>\n      <th>restaurant_id</th>\n      <th>user_name</th>\n      <th>user_id</th>\n    </tr>\n  </thead>\n  <tbody>\n    <tr>\n      <th>0</th>\n      <td>5</td>\n      <td>What a darling neighborhood spot! Lots of take...</td>\n      <td>2020-09-03 19:42:33</td>\n      <td>lIfGtbTIs0iFY-FO2fTeXg</td>\n      <td>Teri M.</td>\n      <td>qsvF7iQ8kHKFqDo9HccYLA</td>\n    </tr>\n    <tr>\n      <th>1</th>\n      <td>5</td>\n      <td>Love the veggie curry and chicken karaage! Tas...</td>\n      <td>2020-09-29 08:08:39</td>\n      <td>glv_p4Ja9yFaIMF1rP4utg</td>\n      <td>Tiger H.</td>\n      <td>NJVkWqKTtaR3w9zOMl-zAw</td>\n    </tr>\n    <tr>\n      <th>2</th>\n      <td>5</td>\n      <td>We have been waiting for this restaurant to op...</td>\n      <td>2020-08-29 17:32:02</td>\n      <td>6pwyJnB024AP2z9K4O1YsA</td>\n      <td>Maggie B.</td>\n      <td>W08sB7PohxU0z3csKM8ihg</td>\n    </tr>\n  </tbody>\n</table>\n</div>"
     },
     "metadata": {},
     "execution_count": 5
    }
   ],
   "source": [
    "review_list = review_response['reviews']\n",
    "make_review_df(review_list)"
   ]
  },
  {
   "cell_type": "code",
   "execution_count": 4,
   "metadata": {},
   "outputs": [
    {
     "output_type": "error",
     "ename": "KeyError",
     "evalue": "'price'",
     "traceback": [
      "\u001b[0;31m---------------------------------------------------------------------------\u001b[0m",
      "\u001b[0;31mKeyError\u001b[0m                                  Traceback (most recent call last)",
      "\u001b[0;32m<ipython-input-4-c04923b6bf35>\u001b[0m in \u001b[0;36m<module>\u001b[0;34m\u001b[0m\n\u001b[0;32m----> 1\u001b[0;31m \u001b[0mdata\u001b[0m \u001b[0;34m=\u001b[0m \u001b[0;34m[\u001b[0m\u001b[0;34m(\u001b[0m\u001b[0melt\u001b[0m\u001b[0;34m[\u001b[0m\u001b[0;34m'name'\u001b[0m\u001b[0;34m]\u001b[0m\u001b[0;34m,\u001b[0m \u001b[0melt\u001b[0m\u001b[0;34m[\u001b[0m\u001b[0;34m'rating'\u001b[0m\u001b[0;34m]\u001b[0m\u001b[0;34m,\u001b[0m \u001b[0melt\u001b[0m\u001b[0;34m[\u001b[0m\u001b[0;34m'location'\u001b[0m\u001b[0;34m]\u001b[0m\u001b[0;34m[\u001b[0m\u001b[0;34m'address1'\u001b[0m\u001b[0;34m]\u001b[0m\u001b[0;34m,\u001b[0m \u001b[0melt\u001b[0m\u001b[0;34m[\u001b[0m\u001b[0;34m'location'\u001b[0m\u001b[0;34m]\u001b[0m\u001b[0;34m[\u001b[0m\u001b[0;34m'zip_code'\u001b[0m\u001b[0;34m]\u001b[0m\u001b[0;34m,\u001b[0m \u001b[0melt\u001b[0m\u001b[0;34m[\u001b[0m\u001b[0;34m'display_phone'\u001b[0m\u001b[0;34m]\u001b[0m\u001b[0;34m,\u001b[0m \u001b[0melt\u001b[0m\u001b[0;34m[\u001b[0m\u001b[0;34m'url'\u001b[0m\u001b[0;34m]\u001b[0m\u001b[0;34m,\u001b[0m \u001b[0melt\u001b[0m\u001b[0;34m[\u001b[0m\u001b[0;34m'id'\u001b[0m\u001b[0;34m]\u001b[0m\u001b[0;34m,\u001b[0m \u001b[0melt\u001b[0m\u001b[0;34m[\u001b[0m\u001b[0;34m'price'\u001b[0m\u001b[0;34m]\u001b[0m\u001b[0;34m,\u001b[0m \u001b[0melt\u001b[0m\u001b[0;34m[\u001b[0m\u001b[0;34m'transactions'\u001b[0m\u001b[0;34m]\u001b[0m\u001b[0;34m,\u001b[0m \u001b[0melt\u001b[0m\u001b[0;34m[\u001b[0m\u001b[0;34m'categories'\u001b[0m\u001b[0;34m]\u001b[0m\u001b[0;34m,\u001b[0m \u001b[0melt\u001b[0m\u001b[0;34m[\u001b[0m\u001b[0;34m'coordinates'\u001b[0m\u001b[0;34m]\u001b[0m\u001b[0;34m)\u001b[0m \u001b[0;32mfor\u001b[0m \u001b[0melt\u001b[0m \u001b[0;32min\u001b[0m \u001b[0mbusiness_data\u001b[0m\u001b[0;34m[\u001b[0m\u001b[0;34m'businesses'\u001b[0m\u001b[0;34m]\u001b[0m\u001b[0;34m]\u001b[0m\u001b[0;34m\u001b[0m\u001b[0;34m\u001b[0m\u001b[0m\n\u001b[0m",
      "\u001b[0;32m<ipython-input-4-c04923b6bf35>\u001b[0m in \u001b[0;36m<listcomp>\u001b[0;34m(.0)\u001b[0m\n\u001b[0;32m----> 1\u001b[0;31m \u001b[0mdata\u001b[0m \u001b[0;34m=\u001b[0m \u001b[0;34m[\u001b[0m\u001b[0;34m(\u001b[0m\u001b[0melt\u001b[0m\u001b[0;34m[\u001b[0m\u001b[0;34m'name'\u001b[0m\u001b[0;34m]\u001b[0m\u001b[0;34m,\u001b[0m \u001b[0melt\u001b[0m\u001b[0;34m[\u001b[0m\u001b[0;34m'rating'\u001b[0m\u001b[0;34m]\u001b[0m\u001b[0;34m,\u001b[0m \u001b[0melt\u001b[0m\u001b[0;34m[\u001b[0m\u001b[0;34m'location'\u001b[0m\u001b[0;34m]\u001b[0m\u001b[0;34m[\u001b[0m\u001b[0;34m'address1'\u001b[0m\u001b[0;34m]\u001b[0m\u001b[0;34m,\u001b[0m \u001b[0melt\u001b[0m\u001b[0;34m[\u001b[0m\u001b[0;34m'location'\u001b[0m\u001b[0;34m]\u001b[0m\u001b[0;34m[\u001b[0m\u001b[0;34m'zip_code'\u001b[0m\u001b[0;34m]\u001b[0m\u001b[0;34m,\u001b[0m \u001b[0melt\u001b[0m\u001b[0;34m[\u001b[0m\u001b[0;34m'display_phone'\u001b[0m\u001b[0;34m]\u001b[0m\u001b[0;34m,\u001b[0m \u001b[0melt\u001b[0m\u001b[0;34m[\u001b[0m\u001b[0;34m'url'\u001b[0m\u001b[0;34m]\u001b[0m\u001b[0;34m,\u001b[0m \u001b[0melt\u001b[0m\u001b[0;34m[\u001b[0m\u001b[0;34m'id'\u001b[0m\u001b[0;34m]\u001b[0m\u001b[0;34m,\u001b[0m \u001b[0melt\u001b[0m\u001b[0;34m[\u001b[0m\u001b[0;34m'price'\u001b[0m\u001b[0;34m]\u001b[0m\u001b[0;34m,\u001b[0m \u001b[0melt\u001b[0m\u001b[0;34m[\u001b[0m\u001b[0;34m'transactions'\u001b[0m\u001b[0;34m]\u001b[0m\u001b[0;34m,\u001b[0m \u001b[0melt\u001b[0m\u001b[0;34m[\u001b[0m\u001b[0;34m'categories'\u001b[0m\u001b[0;34m]\u001b[0m\u001b[0;34m,\u001b[0m \u001b[0melt\u001b[0m\u001b[0;34m[\u001b[0m\u001b[0;34m'coordinates'\u001b[0m\u001b[0;34m]\u001b[0m\u001b[0;34m)\u001b[0m \u001b[0;32mfor\u001b[0m \u001b[0melt\u001b[0m \u001b[0;32min\u001b[0m \u001b[0mbusiness_data\u001b[0m\u001b[0;34m[\u001b[0m\u001b[0;34m'businesses'\u001b[0m\u001b[0;34m]\u001b[0m\u001b[0;34m]\u001b[0m\u001b[0;34m\u001b[0m\u001b[0;34m\u001b[0m\u001b[0m\n\u001b[0m",
      "\u001b[0;31mKeyError\u001b[0m: 'price'"
     ]
    }
   ],
   "source": [
    "data = [(elt['name'], elt['rating'], elt['location']['address1'], elt['location']['zip_code'], elt['display_phone'], elt['url'], elt['id'], elt['price'], elt['transactions'], elt['categories'], elt['coordinates']) for elt in business_data['businesses']]\n"
   ]
  },
  {
   "cell_type": "code",
   "execution_count": 6,
   "metadata": {},
   "outputs": [
    {
     "output_type": "execute_result",
     "data": {
      "text/plain": [
       "{'id': 'WvgAuJo6rUM1_I2sVDEzyg',\n",
       " 'alias': 'snack-bar-minneapolis',\n",
       " 'name': 'Snack Bar',\n",
       " 'image_url': 'https://s3-media1.fl.yelpcdn.com/bphoto/0ti5h9qhtyM-5fPphGuiBQ/o.jpg',\n",
       " 'is_closed': False,\n",
       " 'url': 'https://www.yelp.com/biz/snack-bar-minneapolis?adjust_creative=5q2gXrFINpdsi56KQ3uWdQ&utm_campaign=yelp_api_v3&utm_medium=api_v3_business_search&utm_source=5q2gXrFINpdsi56KQ3uWdQ',\n",
       " 'review_count': 39,\n",
       " 'categories': [{'alias': 'pizza', 'title': 'Pizza'},\n",
       "  {'alias': 'tapasmallplates', 'title': 'Tapas/Small Plates'}],\n",
       " 'rating': 4.0,\n",
       " 'coordinates': {'latitude': 44.9896, 'longitude': -93.2786408},\n",
       " 'transactions': [],\n",
       " 'location': {'address1': '800 N Washington Ave',\n",
       "  'address2': '',\n",
       "  'address3': None,\n",
       "  'city': 'Minneapolis',\n",
       "  'zip_code': '55401',\n",
       "  'country': 'US',\n",
       "  'state': 'MN',\n",
       "  'display_address': ['800 N Washington Ave', 'Minneapolis, MN 55401']},\n",
       " 'phone': '+16123832848',\n",
       " 'display_phone': '(612) 383-2848',\n",
       " 'distance': 2826.192739302379}"
      ]
     },
     "metadata": {},
     "execution_count": 6
    }
   ],
   "source": [
    "business_data['businesses'][-2]"
   ]
  },
  {
   "cell_type": "code",
   "execution_count": 5,
   "metadata": {},
   "outputs": [],
   "source": [
    "reader = Reader(\n",
    "    line_format='user item rating', sep=',', rating_scale = (0,5)\n",
    "    )\n",
    "train_df = pd.read_csv('train.csv')\n",
    "data = Dataset.load_from_df(train_df, reader=reader)\n",
    "trainset, testset = train_test_split(data, test_size=0.2)\n",
    "#trainsetfull = data.build_full_trainset()"
   ]
  },
  {
   "cell_type": "code",
   "execution_count": 76,
   "metadata": {},
   "outputs": [
    {
     "output_type": "execute_result",
     "data": {
      "text/plain": [
       "60"
      ]
     },
     "metadata": {},
     "execution_count": 76
    }
   ],
   "source": [
    "my_k = 15\n",
    "my_min_k = 5\n",
    "my_sim_option = {\n",
    "    'name':'pearson', 'user_based':False}\n",
    "algo = KNNWithMeans(k = my_k, min_k = my_min_k, sim_option = my_sim_option)\n",
    "algo.fit(trainset)\n",
    "\n",
    "predictions = algo.test(testset)\n",
    "accuracy.rmse(predictions)"
   ]
  },
  {
   "cell_type": "code",
   "execution_count": null,
   "metadata": {},
   "outputs": [],
   "source": [
    "results = cross_validate(\n",
    "    algo = algo, data = data, measures=['RMSE'], \n",
    "    cv=5, return_train_measures=True\n",
    "    )\n",
    "    results['test_rmse'].mean()"
   ]
  },
  {
   "cell_type": "code",
   "execution_count": 77,
   "metadata": {},
   "outputs": [],
   "source": [
    "businesses = pd.read_csv('business_data.csv')"
   ]
  },
  {
   "cell_type": "code",
   "execution_count": 79,
   "metadata": {},
   "outputs": [
    {
     "output_type": "execute_result",
     "data": {
      "text/plain": [
       "20"
      ]
     },
     "metadata": {},
     "execution_count": 79
    }
   ],
   "source": [
    "businesses.drop_duplicates(keep='first', inplace=True)\n",
    "len(businesses)"
   ]
  },
  {
   "cell_type": "code",
   "execution_count": 84,
   "metadata": {},
   "outputs": [
    {
     "output_type": "error",
     "ename": "ModuleNotFoundError",
     "evalue": "No module named 'flaskapp'",
     "traceback": [
      "\u001b[0;31m---------------------------------------------------------------------------\u001b[0m",
      "\u001b[0;31mModuleNotFoundError\u001b[0m                       Traceback (most recent call last)",
      "\u001b[0;32m<ipython-input-84-9efec50b0ae3>\u001b[0m in \u001b[0;36m<module>\u001b[0;34m\u001b[0m\n\u001b[0;32m----> 1\u001b[0;31m \u001b[0;32mfrom\u001b[0m \u001b[0mflaskapp\u001b[0m\u001b[0;34m.\u001b[0m\u001b[0mdownload_reviews\u001b[0m \u001b[0;32mimport\u001b[0m \u001b[0mquery_business_api\u001b[0m\u001b[0;34m\u001b[0m\u001b[0;34m\u001b[0m\u001b[0m\n\u001b[0m\u001b[1;32m      2\u001b[0m \u001b[0;34m\u001b[0m\u001b[0m\n\u001b[1;32m      3\u001b[0m \u001b[0;34m\u001b[0m\u001b[0m\n\u001b[1;32m      4\u001b[0m \u001b[0;34m\u001b[0m\u001b[0m\n\u001b[1;32m      5\u001b[0m \u001b[0;34m\u001b[0m\u001b[0m\n",
      "\u001b[0;31mModuleNotFoundError\u001b[0m: No module named 'flaskapp'"
     ]
    }
   ],
   "source": [
    "from flaskapp.download_reviews import query_business_api\n",
    "\n",
    "\n",
    "\n",
    "\n",
    "    "
   ]
  },
  {
   "cell_type": "code",
   "execution_count": 80,
   "metadata": {},
   "outputs": [
    {
     "output_type": "error",
     "ename": "NameError",
     "evalue": "name 'query_business_api' is not defined",
     "traceback": [
      "\u001b[0;31m---------------------------------------------------------------------------\u001b[0m",
      "\u001b[0;31mNameError\u001b[0m                                 Traceback (most recent call last)",
      "\u001b[0;32m<ipython-input-80-b91214b2aaf3>\u001b[0m in \u001b[0;36m<module>\u001b[0;34m\u001b[0m\n\u001b[0;32m----> 1\u001b[0;31m \u001b[0mretrieved_data\u001b[0m \u001b[0;34m=\u001b[0m \u001b[0mquery_business_api\u001b[0m\u001b[0;34m(\u001b[0m\u001b[0moffset\u001b[0m\u001b[0;34m=\u001b[0m\u001b[0;36m1\u001b[0m\u001b[0;34m)\u001b[0m\u001b[0;34m.\u001b[0m\u001b[0mjson\u001b[0m\u001b[0;34m(\u001b[0m\u001b[0;34m)\u001b[0m\u001b[0;34m\u001b[0m\u001b[0;34m\u001b[0m\u001b[0m\n\u001b[0m",
      "\u001b[0;31mNameError\u001b[0m: name 'query_business_api' is not defined"
     ]
    }
   ],
   "source": [
    "retrieved_data = query_business_api(offset=1).json()"
   ]
  },
  {
   "cell_type": "code",
   "execution_count": 68,
   "metadata": {},
   "outputs": [
    {
     "output_type": "execute_result",
     "data": {
      "text/plain": [
       "   rating                                             review  \\\n",
       "0       5  Fuck, you guys. Everything here will melt and ...   \n",
       "1       5  I miss this restaurant more than most during C...   \n",
       "2       4  This was date night for me and the girlfriend ...   \n",
       "0       5  Always a delicious meal at 112 Eatery.  All th...   \n",
       "1       4  The food: always amazing; as it has been for 1...   \n",
       "2       3  I really loved it. Always a delicious meal at ...   \n",
       "0       5  Saw George and the Dragon featured on DDD and ...   \n",
       "1       5  Still amazing, pandemic or no. Really everythi...   \n",
       "2       5  What a treat.  Flew into town and wanted to fi...   \n",
       "0       5  We went during COVID so I'm sure we didn't get...   \n",
       "1       5  *Updated August 2020* we had such a pleasant, ...   \n",
       "2       5  My fiancé and I came here for dinner in the mi...   \n",
       "0       5  Love that this place is employee owned. Love (...   \n",
       "1       4  Stopped in for lunch while at a conference bef...   \n",
       "2       4  The lemon ricotta pancakes.... is all I can re...   \n",
       "0       5  My family and I were looking to get out of the...   \n",
       "1       5  Ordered take out via online during this pandem...   \n",
       "2       5  Wow this pizza was damn good! I always drive b...   \n",
       "0       5  I am so glad this restaurant is operating duri...   \n",
       "1       5  Have you tried Red Cow's takeout service yet? ...   \n",
       "\n",
       "             timestamp           restaurant_id      user_name  \\\n",
       "0  2020-10-07 19:09:09  D799KG1dx-Vf3zpZ5JreSQ     Annalee T.   \n",
       "1  2020-09-19 09:02:22  Sx78U_0np04cZwBYUIDZ4g      Ursula B.   \n",
       "2  2020-06-12 23:44:35  QswObuJ7dLFadPl_iPJcgA        Jack G.   \n",
       "0  2020-10-16 06:59:55  KG7lVQvWQbBN4p7B7XMlhg       Joyce I.   \n",
       "1  2020-06-30 07:15:23  MYCNWMGp0e9iVN6I6SUIRg      Carter A.   \n",
       "2  2020-10-17 10:58:36  vcyNp7DivsNth-8NikBh9g  Great Dane P.   \n",
       "0  2020-08-14 19:00:29  hia3_i2OcZj_18v9LZ-wfg     Brandon J.   \n",
       "1  2020-08-21 11:18:38  0vUzpY5hZ7LB7N09yICwdg     S And B D.   \n",
       "2  2020-08-18 16:57:54  pMQOGhmtJsOXlH5z5kUZyg         Ben L.   \n",
       "0  2020-07-14 06:06:14  p0Q7Capy-TtY8pfvCCG0nQ        Dale G.   \n",
       "1  2020-08-08 07:10:25  xvpsEYi1aqUm5_zP4flX5Q      Britta S.   \n",
       "2  2020-07-14 21:18:08  hOUmrJl9b7BBJLJvgQ4J0w        Erin H.   \n",
       "0  2020-09-02 15:37:30  wa6q9k5hepvGGcEDtwymVg          Ed S.   \n",
       "1  2020-03-19 16:06:04  Z9evB7CmpuVa3-lWiUOUBQ    Rosalind B.   \n",
       "2  2020-08-03 14:55:22  zCyETdBoABD0LaoT2zXP2A   Christine J.   \n",
       "0  2020-05-17 08:24:12  640ZXrsLMUkTEmG8Enir2Q     Jessica T.   \n",
       "1  2020-04-16 16:14:46  nXFe3mfg877i3z7mfnu8Lg         Liz P.   \n",
       "2  2020-05-02 20:03:56  eXRYSE4pYN4AO-_siJafiw       Steph T.   \n",
       "0  2020-07-09 14:52:31  d9FB8U7ciSeP6LPQGK-PBw       Linda S.   \n",
       "1  2020-03-22 10:40:23  1qSVVXIg6D88XP4jiffrdw      Lorene F.   \n",
       "\n",
       "                  user_id  \n",
       "0  iqS1mA7zdFEUIjz8KW5oVw  \n",
       "1  hHeyv-uAGMn3pyaswmkzrg  \n",
       "2  ftaFFF1-9md-nhm7QqhfrQ  \n",
       "0  ttCKlOKicxWLchdl1qsMgQ  \n",
       "1  IyDE1kaZu4Ho5skVxe4Jmg  \n",
       "2  WP7BAr6ssVaCvvIt_BKyYQ  \n",
       "0  Sg8jj6BO8AoGlKz54lHh8Q  \n",
       "1  2LgAn3XIW_wYubsTs3r-kQ  \n",
       "2  w_Ru_isrLBtbdtxro5TYEg  \n",
       "0  Jljum8MVQ2l067RzRqWJqQ  \n",
       "1  7J4-BQVYL9xiExw0p5oo-Q  \n",
       "2  S6ZrsS9rikyzOvqyPepHBw  \n",
       "0  -R3nGL-2QKCpoGgr98AQQA  \n",
       "1  3u41kQ2HLI8erkIkBPU6vQ  \n",
       "2  KbyMAaYWTilS5BidYqngtg  \n",
       "0  RIV0GB-qxyNxHh0z-tAGtA  \n",
       "1  32R05jADb6HQJPzFIRYJ9g  \n",
       "2  7W3piZHZo8kq41h7Jv-dfw  \n",
       "0  1_i42G-exZoyBdCirzYWBQ  \n",
       "1  VHtsWrs7l8d0Y-CBGDtRtw  "
      ],
      "text/html": "<div>\n<style scoped>\n    .dataframe tbody tr th:only-of-type {\n        vertical-align: middle;\n    }\n\n    .dataframe tbody tr th {\n        vertical-align: top;\n    }\n\n    .dataframe thead th {\n        text-align: right;\n    }\n</style>\n<table border=\"1\" class=\"dataframe\">\n  <thead>\n    <tr style=\"text-align: right;\">\n      <th></th>\n      <th>rating</th>\n      <th>review</th>\n      <th>timestamp</th>\n      <th>restaurant_id</th>\n      <th>user_name</th>\n      <th>user_id</th>\n    </tr>\n  </thead>\n  <tbody>\n    <tr>\n      <th>0</th>\n      <td>5</td>\n      <td>Fuck, you guys. Everything here will melt and ...</td>\n      <td>2020-10-07 19:09:09</td>\n      <td>D799KG1dx-Vf3zpZ5JreSQ</td>\n      <td>Annalee T.</td>\n      <td>iqS1mA7zdFEUIjz8KW5oVw</td>\n    </tr>\n    <tr>\n      <th>1</th>\n      <td>5</td>\n      <td>I miss this restaurant more than most during C...</td>\n      <td>2020-09-19 09:02:22</td>\n      <td>Sx78U_0np04cZwBYUIDZ4g</td>\n      <td>Ursula B.</td>\n      <td>hHeyv-uAGMn3pyaswmkzrg</td>\n    </tr>\n    <tr>\n      <th>2</th>\n      <td>4</td>\n      <td>This was date night for me and the girlfriend ...</td>\n      <td>2020-06-12 23:44:35</td>\n      <td>QswObuJ7dLFadPl_iPJcgA</td>\n      <td>Jack G.</td>\n      <td>ftaFFF1-9md-nhm7QqhfrQ</td>\n    </tr>\n    <tr>\n      <th>0</th>\n      <td>5</td>\n      <td>Always a delicious meal at 112 Eatery.  All th...</td>\n      <td>2020-10-16 06:59:55</td>\n      <td>KG7lVQvWQbBN4p7B7XMlhg</td>\n      <td>Joyce I.</td>\n      <td>ttCKlOKicxWLchdl1qsMgQ</td>\n    </tr>\n    <tr>\n      <th>1</th>\n      <td>4</td>\n      <td>The food: always amazing; as it has been for 1...</td>\n      <td>2020-06-30 07:15:23</td>\n      <td>MYCNWMGp0e9iVN6I6SUIRg</td>\n      <td>Carter A.</td>\n      <td>IyDE1kaZu4Ho5skVxe4Jmg</td>\n    </tr>\n    <tr>\n      <th>2</th>\n      <td>3</td>\n      <td>I really loved it. Always a delicious meal at ...</td>\n      <td>2020-10-17 10:58:36</td>\n      <td>vcyNp7DivsNth-8NikBh9g</td>\n      <td>Great Dane P.</td>\n      <td>WP7BAr6ssVaCvvIt_BKyYQ</td>\n    </tr>\n    <tr>\n      <th>0</th>\n      <td>5</td>\n      <td>Saw George and the Dragon featured on DDD and ...</td>\n      <td>2020-08-14 19:00:29</td>\n      <td>hia3_i2OcZj_18v9LZ-wfg</td>\n      <td>Brandon J.</td>\n      <td>Sg8jj6BO8AoGlKz54lHh8Q</td>\n    </tr>\n    <tr>\n      <th>1</th>\n      <td>5</td>\n      <td>Still amazing, pandemic or no. Really everythi...</td>\n      <td>2020-08-21 11:18:38</td>\n      <td>0vUzpY5hZ7LB7N09yICwdg</td>\n      <td>S And B D.</td>\n      <td>2LgAn3XIW_wYubsTs3r-kQ</td>\n    </tr>\n    <tr>\n      <th>2</th>\n      <td>5</td>\n      <td>What a treat.  Flew into town and wanted to fi...</td>\n      <td>2020-08-18 16:57:54</td>\n      <td>pMQOGhmtJsOXlH5z5kUZyg</td>\n      <td>Ben L.</td>\n      <td>w_Ru_isrLBtbdtxro5TYEg</td>\n    </tr>\n    <tr>\n      <th>0</th>\n      <td>5</td>\n      <td>We went during COVID so I'm sure we didn't get...</td>\n      <td>2020-07-14 06:06:14</td>\n      <td>p0Q7Capy-TtY8pfvCCG0nQ</td>\n      <td>Dale G.</td>\n      <td>Jljum8MVQ2l067RzRqWJqQ</td>\n    </tr>\n    <tr>\n      <th>1</th>\n      <td>5</td>\n      <td>*Updated August 2020* we had such a pleasant, ...</td>\n      <td>2020-08-08 07:10:25</td>\n      <td>xvpsEYi1aqUm5_zP4flX5Q</td>\n      <td>Britta S.</td>\n      <td>7J4-BQVYL9xiExw0p5oo-Q</td>\n    </tr>\n    <tr>\n      <th>2</th>\n      <td>5</td>\n      <td>My fiancé and I came here for dinner in the mi...</td>\n      <td>2020-07-14 21:18:08</td>\n      <td>hOUmrJl9b7BBJLJvgQ4J0w</td>\n      <td>Erin H.</td>\n      <td>S6ZrsS9rikyzOvqyPepHBw</td>\n    </tr>\n    <tr>\n      <th>0</th>\n      <td>5</td>\n      <td>Love that this place is employee owned. Love (...</td>\n      <td>2020-09-02 15:37:30</td>\n      <td>wa6q9k5hepvGGcEDtwymVg</td>\n      <td>Ed S.</td>\n      <td>-R3nGL-2QKCpoGgr98AQQA</td>\n    </tr>\n    <tr>\n      <th>1</th>\n      <td>4</td>\n      <td>Stopped in for lunch while at a conference bef...</td>\n      <td>2020-03-19 16:06:04</td>\n      <td>Z9evB7CmpuVa3-lWiUOUBQ</td>\n      <td>Rosalind B.</td>\n      <td>3u41kQ2HLI8erkIkBPU6vQ</td>\n    </tr>\n    <tr>\n      <th>2</th>\n      <td>4</td>\n      <td>The lemon ricotta pancakes.... is all I can re...</td>\n      <td>2020-08-03 14:55:22</td>\n      <td>zCyETdBoABD0LaoT2zXP2A</td>\n      <td>Christine J.</td>\n      <td>KbyMAaYWTilS5BidYqngtg</td>\n    </tr>\n    <tr>\n      <th>0</th>\n      <td>5</td>\n      <td>My family and I were looking to get out of the...</td>\n      <td>2020-05-17 08:24:12</td>\n      <td>640ZXrsLMUkTEmG8Enir2Q</td>\n      <td>Jessica T.</td>\n      <td>RIV0GB-qxyNxHh0z-tAGtA</td>\n    </tr>\n    <tr>\n      <th>1</th>\n      <td>5</td>\n      <td>Ordered take out via online during this pandem...</td>\n      <td>2020-04-16 16:14:46</td>\n      <td>nXFe3mfg877i3z7mfnu8Lg</td>\n      <td>Liz P.</td>\n      <td>32R05jADb6HQJPzFIRYJ9g</td>\n    </tr>\n    <tr>\n      <th>2</th>\n      <td>5</td>\n      <td>Wow this pizza was damn good! I always drive b...</td>\n      <td>2020-05-02 20:03:56</td>\n      <td>eXRYSE4pYN4AO-_siJafiw</td>\n      <td>Steph T.</td>\n      <td>7W3piZHZo8kq41h7Jv-dfw</td>\n    </tr>\n    <tr>\n      <th>0</th>\n      <td>5</td>\n      <td>I am so glad this restaurant is operating duri...</td>\n      <td>2020-07-09 14:52:31</td>\n      <td>d9FB8U7ciSeP6LPQGK-PBw</td>\n      <td>Linda S.</td>\n      <td>1_i42G-exZoyBdCirzYWBQ</td>\n    </tr>\n    <tr>\n      <th>1</th>\n      <td>5</td>\n      <td>Have you tried Red Cow's takeout service yet? ...</td>\n      <td>2020-03-22 10:40:23</td>\n      <td>1qSVVXIg6D88XP4jiffrdw</td>\n      <td>Lorene F.</td>\n      <td>VHtsWrs7l8d0Y-CBGDtRtw</td>\n    </tr>\n  </tbody>\n</table>\n</div>"
     },
     "metadata": {},
     "execution_count": 68
    }
   ],
   "source": [
    "\n",
    "reviews = pd.read_csv('review_data.csv', index_col=0)\n",
    "reviews.head(20)"
   ]
  },
  {
   "cell_type": "code",
   "execution_count": 43,
   "metadata": {},
   "outputs": [],
   "source": [
    "review_df.to_csv('review_data.csv')"
   ]
  },
  {
   "cell_type": "code",
   "execution_count": 2,
   "metadata": {},
   "outputs": [],
   "source": [
    "df = pd.read_csv(\"Food_Inspections.csv\")\n",
    "df['BusinessName'] = df['BusinessName'].str.upper()\n",
    "df['BusinessName'] = df['BusinessName'].str.strip()\n",
    "categories = ['RESTAURANT', 'FOOD TRUCK', 'FOOD CART']\n",
    "df = df[df['FacilityCategory'] .isin(categories)]\n",
    "df.drop_duplicates(subset = ['BusinessName'], keep='last', inplace=True)\n",
    "keep_cols = ['BusinessName', 'X', 'Y', 'FullAddress', 'City', 'ZipCode', 'Neighborhood', 'Latitude', 'Longitude']\n",
    "df = df.loc[:, keep_cols]"
   ]
  },
  {
   "cell_type": "code",
   "execution_count": 27,
   "metadata": {},
   "outputs": [],
   "source": [
    "df.to_csv('restaurants.csv')"
   ]
  },
  {
   "cell_type": "code",
   "execution_count": 24,
   "metadata": {},
   "outputs": [
    {
     "output_type": "execute_result",
     "data": {
      "text/plain": "               X          Y  OBJECTID HealthFacilityIDNumber FacilityCategory  \\\n27178 -93.275787  44.977720     27179               LIC38173        FOOD CART   \n21450   0.000000   0.000000     21451              LIC365072        FOOD CART   \n32510 -93.234367  45.004833     32511               LIC42319        FOOD CART   \n10985 -93.262172  44.974589     10986               LIC32948        FOOD CART   \n27079 -93.307592  44.991771     27080              LIC381380        FOOD CART   \n27168 -93.273850  44.975640     27169               LIC38170        FOOD CART   \n56965 -93.273850  44.975640     56966               LIC45072        FOOD CART   \n\n                                BusinessName  RiskLevel  \\\n27178                               TOP DOGS          2   \n21450               PIONEER COLLEGE CATERERS          2   \n32510                UNCLE FRANKY&#39;S TOOL BOX          2   \n10985     HENN CTY ADULT SERV-VOC SERV PROGR          2   \n27079  MR. FAULKNER&#39;S OLD FASHIONED HOT DOGS          1   \n27168                                TOP DOG          1   \n56965                                NIBBLES          2   \n\n                  FullAddress  AddrNum AddrNumSuffix  ... ViolationPoints  \\\n27178        722 HENNEPIN AVE    722.0           NaN  ...               4   \n21450         1401 ELLIOT AVE   1401.0           NaN  ...               0   \n32510  1520 NEW BRIGHTON BLVD   1520.0           NaN  ...               0   \n10985   525 PORTLAND AVE #300    525.0           NaN  ...               0   \n27079     2100 PLYMOUTH AVE N   2100.0           NaN  ...               0   \n27168       800 NICOLLET MALL    800.0           NaN  ...               0   \n56965       800 NICOLLET MALL    800.0           NaN  ...               2   \n\n      InspectionScore ViolationIDNumber            APN Ward    Neighborhood  \\\n27178              94            677467  2202924430133  7.0   Downtown West   \n21450             100                -1            NaN  NaN             NaN   \n32510             100                -1  1302924120016  1.0  Northeast Park   \n10985             100                -1  2602924210053  7.0     Elliot Park   \n27079             100                -1  1602924339000  5.0   Willard - Hay   \n27168             100                -1  2702924120139  7.0   Downtown West   \n56965              92            770547  2702924120139  7.0   Downtown West   \n\n       Latitude  Longitude X_WebMercator Y_WebMercator  \n27178  44.97772  -93.27579 -1.038341e+07  5.618015e+06  \n21450   0.00000    0.00000  0.000000e+00  0.000000e+00  \n32510  45.00483  -93.23437 -1.037880e+07  5.622282e+06  \n10985  44.97459  -93.26217 -1.038190e+07  5.617522e+06  \n27079  44.99177  -93.30759 -1.038695e+07  5.620226e+06  \n27168  44.97564  -93.27385 -1.038320e+07  5.617687e+06  \n56965  44.97564  -93.27385 -1.038320e+07  5.617687e+06  \n\n[7 rows x 38 columns]",
      "text/html": "<div>\n<style scoped>\n    .dataframe tbody tr th:only-of-type {\n        vertical-align: middle;\n    }\n\n    .dataframe tbody tr th {\n        vertical-align: top;\n    }\n\n    .dataframe thead th {\n        text-align: right;\n    }\n</style>\n<table border=\"1\" class=\"dataframe\">\n  <thead>\n    <tr style=\"text-align: right;\">\n      <th></th>\n      <th>X</th>\n      <th>Y</th>\n      <th>OBJECTID</th>\n      <th>HealthFacilityIDNumber</th>\n      <th>FacilityCategory</th>\n      <th>BusinessName</th>\n      <th>RiskLevel</th>\n      <th>FullAddress</th>\n      <th>AddrNum</th>\n      <th>AddrNumSuffix</th>\n      <th>...</th>\n      <th>ViolationPoints</th>\n      <th>InspectionScore</th>\n      <th>ViolationIDNumber</th>\n      <th>APN</th>\n      <th>Ward</th>\n      <th>Neighborhood</th>\n      <th>Latitude</th>\n      <th>Longitude</th>\n      <th>X_WebMercator</th>\n      <th>Y_WebMercator</th>\n    </tr>\n  </thead>\n  <tbody>\n    <tr>\n      <th>27178</th>\n      <td>-93.275787</td>\n      <td>44.977720</td>\n      <td>27179</td>\n      <td>LIC38173</td>\n      <td>FOOD CART</td>\n      <td>TOP DOGS</td>\n      <td>2</td>\n      <td>722 HENNEPIN AVE</td>\n      <td>722.0</td>\n      <td>NaN</td>\n      <td>...</td>\n      <td>4</td>\n      <td>94</td>\n      <td>677467</td>\n      <td>2202924430133</td>\n      <td>7.0</td>\n      <td>Downtown West</td>\n      <td>44.97772</td>\n      <td>-93.27579</td>\n      <td>-1.038341e+07</td>\n      <td>5.618015e+06</td>\n    </tr>\n    <tr>\n      <th>21450</th>\n      <td>0.000000</td>\n      <td>0.000000</td>\n      <td>21451</td>\n      <td>LIC365072</td>\n      <td>FOOD CART</td>\n      <td>PIONEER COLLEGE CATERERS</td>\n      <td>2</td>\n      <td>1401 ELLIOT AVE</td>\n      <td>1401.0</td>\n      <td>NaN</td>\n      <td>...</td>\n      <td>0</td>\n      <td>100</td>\n      <td>-1</td>\n      <td>NaN</td>\n      <td>NaN</td>\n      <td>NaN</td>\n      <td>0.00000</td>\n      <td>0.00000</td>\n      <td>0.000000e+00</td>\n      <td>0.000000e+00</td>\n    </tr>\n    <tr>\n      <th>32510</th>\n      <td>-93.234367</td>\n      <td>45.004833</td>\n      <td>32511</td>\n      <td>LIC42319</td>\n      <td>FOOD CART</td>\n      <td>UNCLE FRANKY'S TOOL BOX</td>\n      <td>2</td>\n      <td>1520 NEW BRIGHTON BLVD</td>\n      <td>1520.0</td>\n      <td>NaN</td>\n      <td>...</td>\n      <td>0</td>\n      <td>100</td>\n      <td>-1</td>\n      <td>1302924120016</td>\n      <td>1.0</td>\n      <td>Northeast Park</td>\n      <td>45.00483</td>\n      <td>-93.23437</td>\n      <td>-1.037880e+07</td>\n      <td>5.622282e+06</td>\n    </tr>\n    <tr>\n      <th>10985</th>\n      <td>-93.262172</td>\n      <td>44.974589</td>\n      <td>10986</td>\n      <td>LIC32948</td>\n      <td>FOOD CART</td>\n      <td>HENN CTY ADULT SERV-VOC SERV PROGR</td>\n      <td>2</td>\n      <td>525 PORTLAND AVE #300</td>\n      <td>525.0</td>\n      <td>NaN</td>\n      <td>...</td>\n      <td>0</td>\n      <td>100</td>\n      <td>-1</td>\n      <td>2602924210053</td>\n      <td>7.0</td>\n      <td>Elliot Park</td>\n      <td>44.97459</td>\n      <td>-93.26217</td>\n      <td>-1.038190e+07</td>\n      <td>5.617522e+06</td>\n    </tr>\n    <tr>\n      <th>27079</th>\n      <td>-93.307592</td>\n      <td>44.991771</td>\n      <td>27080</td>\n      <td>LIC381380</td>\n      <td>FOOD CART</td>\n      <td>MR. FAULKNER'S OLD FASHIONED HOT DOGS</td>\n      <td>1</td>\n      <td>2100 PLYMOUTH AVE N</td>\n      <td>2100.0</td>\n      <td>NaN</td>\n      <td>...</td>\n      <td>0</td>\n      <td>100</td>\n      <td>-1</td>\n      <td>1602924339000</td>\n      <td>5.0</td>\n      <td>Willard - Hay</td>\n      <td>44.99177</td>\n      <td>-93.30759</td>\n      <td>-1.038695e+07</td>\n      <td>5.620226e+06</td>\n    </tr>\n    <tr>\n      <th>27168</th>\n      <td>-93.273850</td>\n      <td>44.975640</td>\n      <td>27169</td>\n      <td>LIC38170</td>\n      <td>FOOD CART</td>\n      <td>TOP DOG</td>\n      <td>1</td>\n      <td>800 NICOLLET MALL</td>\n      <td>800.0</td>\n      <td>NaN</td>\n      <td>...</td>\n      <td>0</td>\n      <td>100</td>\n      <td>-1</td>\n      <td>2702924120139</td>\n      <td>7.0</td>\n      <td>Downtown West</td>\n      <td>44.97564</td>\n      <td>-93.27385</td>\n      <td>-1.038320e+07</td>\n      <td>5.617687e+06</td>\n    </tr>\n    <tr>\n      <th>56965</th>\n      <td>-93.273850</td>\n      <td>44.975640</td>\n      <td>56966</td>\n      <td>LIC45072</td>\n      <td>FOOD CART</td>\n      <td>NIBBLES</td>\n      <td>2</td>\n      <td>800 NICOLLET MALL</td>\n      <td>800.0</td>\n      <td>NaN</td>\n      <td>...</td>\n      <td>2</td>\n      <td>92</td>\n      <td>770547</td>\n      <td>2702924120139</td>\n      <td>7.0</td>\n      <td>Downtown West</td>\n      <td>44.97564</td>\n      <td>-93.27385</td>\n      <td>-1.038320e+07</td>\n      <td>5.617687e+06</td>\n    </tr>\n  </tbody>\n</table>\n<p>7 rows × 38 columns</p>\n</div>"
     },
     "metadata": {},
     "execution_count": 24
    }
   ],
   "source": [
    "df[df['FacilityCategory'] == 'FOOD CART']\n"
   ]
  },
  {
   "cell_type": "code",
   "execution_count": 36,
   "metadata": {},
   "outputs": [],
   "source": [
    "def binary_search(A, start, end, target):\n",
    "    mid = start + (end-start)//2\n",
    "    if A[mid] >= target:\n",
    "        if end <= start + 1:\n",
    "            return mid\n",
    "        return binary_search(A, start, mid, target)\n",
    "    else:\n",
    "        if end <= start + 1:\n",
    "            return end\n",
    "        return binary_search(A, mid+1, end, target)"
   ]
  },
  {
   "cell_type": "code",
   "execution_count": 38,
   "metadata": {},
   "outputs": [
    {
     "output_type": "stream",
     "name": "stdout",
     "text": [
      "7\n"
     ]
    }
   ],
   "source": [
    "A = [1,2,3,4,5,6,7,8,9]\n",
    "print(binary_search(A, 0, len(A)-1, 8))"
   ]
  },
  {
   "cell_type": "code",
   "execution_count": null,
   "metadata": {},
   "outputs": [],
   "source": []
  }
 ]
}